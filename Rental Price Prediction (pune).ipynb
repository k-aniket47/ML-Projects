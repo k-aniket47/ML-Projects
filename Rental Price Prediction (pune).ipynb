{
 "cells": [
  {
   "cell_type": "markdown",
   "metadata": {},
   "source": [
    "# Rental Price Prediction"
   ]
  },
  {
   "cell_type": "markdown",
   "metadata": {},
   "source": [
    "# Dataset Description"
   ]
  },
  {
   "cell_type": "markdown",
   "metadata": {},
   "source": [
    "Pune is IT capital of India & a city with 10,089,916 population. Pune is one of the\n",
    "larger employment producing cities. So Most of peoples are living in rental houses\n",
    "& apartments.\n",
    "Also this creates a good opportunity to back their financials by generating passive\n",
    "income through rental money. But the problem is what rent they can expect for\n",
    "their house and also how much tenants can expect to pay to respective landlords.\n",
    "To solve this problem we have planned to create a Linear Regression model that\n",
    "predicts the rental price which will be beneficial for both tenants and landlords.\n",
    "For that, we have considered a dataset that covers almost all the important aspects\n",
    "that one considers before taking a house on rent."
   ]
  },
  {
   "cell_type": "code",
   "execution_count": 336,
   "metadata": {},
   "outputs": [
    {
     "name": "stdout",
     "output_type": "stream",
     "text": [
      "Requirement already satisfied: geocoder in c:\\programdata\\anaconda3\\lib\\site-packages (1.38.1)\n",
      "Requirement already satisfied: click in c:\\programdata\\anaconda3\\lib\\site-packages (from geocoder) (7.1.2)\n",
      "Requirement already satisfied: ratelim in c:\\programdata\\anaconda3\\lib\\site-packages (from geocoder) (0.1.6)\n",
      "Requirement already satisfied: six in c:\\programdata\\anaconda3\\lib\\site-packages (from geocoder) (1.15.0)\n",
      "Requirement already satisfied: requests in c:\\programdata\\anaconda3\\lib\\site-packages (from geocoder) (2.24.0)\n",
      "Requirement already satisfied: future in c:\\programdata\\anaconda3\\lib\\site-packages (from geocoder) (0.18.2)\n",
      "Requirement already satisfied: decorator in c:\\programdata\\anaconda3\\lib\\site-packages (from ratelim->geocoder) (4.4.2)\n",
      "Requirement already satisfied: chardet<4,>=3.0.2 in c:\\programdata\\anaconda3\\lib\\site-packages (from requests->geocoder) (3.0.4)\n",
      "Requirement already satisfied: idna<3,>=2.5 in c:\\programdata\\anaconda3\\lib\\site-packages (from requests->geocoder) (2.10)\n",
      "Requirement already satisfied: urllib3!=1.25.0,!=1.25.1,<1.26,>=1.21.1 in c:\\programdata\\anaconda3\\lib\\site-packages (from requests->geocoder) (1.25.11)\n",
      "Requirement already satisfied: certifi>=2017.4.17 in c:\\programdata\\anaconda3\\lib\\site-packages (from requests->geocoder) (2020.6.20)\n"
     ]
    }
   ],
   "source": [
    "\n",
    "!pip install geocoder\n",
    "\n",
    "import os \n",
    "from math import *   \n",
    "from scipy.stats import * \n",
    "import numpy as np \n",
    "import re  \n",
    "import pandas as pd \n",
    "import matplotlib.pyplot as plt \n",
    "import seaborn as sns \n",
    "import geocoder \n",
    "from sklearn.model_selection import train_test_split, cross_val_score, KFold\n",
    "from sklearn.preprocessing import MinMaxScaler, StandardScaler\n",
    "from sklearn.linear_model import LinearRegression, Ridge, ElasticNet, Lasso\n",
    "from sklearn.metrics import r2_score, mean_absolute_error, mean_squared_error"
   ]
  },
  {
   "cell_type": "code",
   "execution_count": 337,
   "metadata": {},
   "outputs": [
    {
     "name": "stdout",
     "output_type": "stream",
     "text": [
      "Number of datapoints: 5361\n",
      "(5361, 30)\n"
     ]
    },
    {
     "data": {
      "text/html": [
       "<div>\n",
       "<style scoped>\n",
       "    .dataframe tbody tr th:only-of-type {\n",
       "        vertical-align: middle;\n",
       "    }\n",
       "\n",
       "    .dataframe tbody tr th {\n",
       "        vertical-align: top;\n",
       "    }\n",
       "\n",
       "    .dataframe thead th {\n",
       "        text-align: right;\n",
       "    }\n",
       "</style>\n",
       "<table border=\"1\" class=\"dataframe\">\n",
       "  <thead>\n",
       "    <tr style=\"text-align: right;\">\n",
       "      <th></th>\n",
       "      <th>bedroom</th>\n",
       "      <th>bathrooms</th>\n",
       "      <th>area</th>\n",
       "      <th>furnishing</th>\n",
       "      <th>avalable_for</th>\n",
       "      <th>address</th>\n",
       "      <th>floor_number</th>\n",
       "      <th>facing</th>\n",
       "      <th>floor_type</th>\n",
       "      <th>gate_community</th>\n",
       "      <th>...</th>\n",
       "      <th>pooja_room</th>\n",
       "      <th>study_room</th>\n",
       "      <th>others</th>\n",
       "      <th>servant_room</th>\n",
       "      <th>store_room</th>\n",
       "      <th>maintenance_amt</th>\n",
       "      <th>brok_amt</th>\n",
       "      <th>deposit_amt</th>\n",
       "      <th>mnt_amt</th>\n",
       "      <th>rent</th>\n",
       "    </tr>\n",
       "  </thead>\n",
       "  <tbody>\n",
       "    <tr>\n",
       "      <th>0</th>\n",
       "      <td>2</td>\n",
       "      <td>2</td>\n",
       "      <td>0.0</td>\n",
       "      <td>Semifurnished</td>\n",
       "      <td>All</td>\n",
       "      <td>Bella Casa Baner, Baner, , Pune, Maharashtra</td>\n",
       "      <td>1</td>\n",
       "      <td>No Direction</td>\n",
       "      <td>Not provided</td>\n",
       "      <td>No</td>\n",
       "      <td>...</td>\n",
       "      <td>0</td>\n",
       "      <td>0</td>\n",
       "      <td>0</td>\n",
       "      <td>0</td>\n",
       "      <td>0</td>\n",
       "      <td>0</td>\n",
       "      <td>0</td>\n",
       "      <td>0</td>\n",
       "      <td>0.0</td>\n",
       "      <td>18500.0</td>\n",
       "    </tr>\n",
       "    <tr>\n",
       "      <th>1</th>\n",
       "      <td>2</td>\n",
       "      <td>2</td>\n",
       "      <td>1050.0</td>\n",
       "      <td>Semifurnished</td>\n",
       "      <td>All</td>\n",
       "      <td>Paranjape Blue Ridge, Hinjewadi, , Pune, Mahar...</td>\n",
       "      <td>2</td>\n",
       "      <td>West</td>\n",
       "      <td>Not provided</td>\n",
       "      <td>Yes</td>\n",
       "      <td>...</td>\n",
       "      <td>0</td>\n",
       "      <td>0</td>\n",
       "      <td>0</td>\n",
       "      <td>0</td>\n",
       "      <td>0</td>\n",
       "      <td>0</td>\n",
       "      <td>0</td>\n",
       "      <td>63000</td>\n",
       "      <td>0.0</td>\n",
       "      <td>21000.0</td>\n",
       "    </tr>\n",
       "    <tr>\n",
       "      <th>2</th>\n",
       "      <td>2</td>\n",
       "      <td>2</td>\n",
       "      <td>900.0</td>\n",
       "      <td>Semifurnished</td>\n",
       "      <td>All</td>\n",
       "      <td>Simplicity Apartments, Handewadi, , Pune, Maha...</td>\n",
       "      <td>6</td>\n",
       "      <td>No Direction</td>\n",
       "      <td>Not provided</td>\n",
       "      <td>Yes</td>\n",
       "      <td>...</td>\n",
       "      <td>0</td>\n",
       "      <td>0</td>\n",
       "      <td>0</td>\n",
       "      <td>0</td>\n",
       "      <td>0</td>\n",
       "      <td>0</td>\n",
       "      <td>0</td>\n",
       "      <td>25000</td>\n",
       "      <td>0.0</td>\n",
       "      <td>12000.0</td>\n",
       "    </tr>\n",
       "    <tr>\n",
       "      <th>3</th>\n",
       "      <td>3</td>\n",
       "      <td>3</td>\n",
       "      <td>1100.0</td>\n",
       "      <td>Furnished</td>\n",
       "      <td>Family Only</td>\n",
       "      <td>GK Dwarka Queens Park, Rahatani, , Pune, Mahar...</td>\n",
       "      <td>1</td>\n",
       "      <td>East</td>\n",
       "      <td>Others</td>\n",
       "      <td>Yes</td>\n",
       "      <td>...</td>\n",
       "      <td>0</td>\n",
       "      <td>0</td>\n",
       "      <td>0</td>\n",
       "      <td>0</td>\n",
       "      <td>0</td>\n",
       "      <td>0</td>\n",
       "      <td>24000</td>\n",
       "      <td>3</td>\n",
       "      <td>0.0</td>\n",
       "      <td>24000.0</td>\n",
       "    </tr>\n",
       "    <tr>\n",
       "      <th>4</th>\n",
       "      <td>1</td>\n",
       "      <td>1</td>\n",
       "      <td>605.0</td>\n",
       "      <td>Semifurnished</td>\n",
       "      <td>Family Only</td>\n",
       "      <td>Anandtara Sayajiraje Avenue, Sasane Colony, , ...</td>\n",
       "      <td>4</td>\n",
       "      <td>East</td>\n",
       "      <td>Vitrified</td>\n",
       "      <td>Yes</td>\n",
       "      <td>...</td>\n",
       "      <td>0</td>\n",
       "      <td>0</td>\n",
       "      <td>1</td>\n",
       "      <td>0</td>\n",
       "      <td>0</td>\n",
       "      <td>0</td>\n",
       "      <td>0</td>\n",
       "      <td>3</td>\n",
       "      <td>0.0</td>\n",
       "      <td>13500.0</td>\n",
       "    </tr>\n",
       "  </tbody>\n",
       "</table>\n",
       "<p>5 rows × 30 columns</p>\n",
       "</div>"
      ],
      "text/plain": [
       "   bedroom  bathrooms    area     furnishing avalable_for  \\\n",
       "0        2          2     0.0  Semifurnished          All   \n",
       "1        2          2  1050.0  Semifurnished          All   \n",
       "2        2          2   900.0  Semifurnished          All   \n",
       "3        3          3  1100.0      Furnished  Family Only   \n",
       "4        1          1   605.0  Semifurnished  Family Only   \n",
       "\n",
       "                                             address  floor_number  \\\n",
       "0       Bella Casa Baner, Baner, , Pune, Maharashtra             1   \n",
       "1  Paranjape Blue Ridge, Hinjewadi, , Pune, Mahar...             2   \n",
       "2  Simplicity Apartments, Handewadi, , Pune, Maha...             6   \n",
       "3  GK Dwarka Queens Park, Rahatani, , Pune, Mahar...             1   \n",
       "4  Anandtara Sayajiraje Avenue, Sasane Colony, , ...             4   \n",
       "\n",
       "         facing    floor_type gate_community  ... pooja_room  study_room  \\\n",
       "0  No Direction  Not provided             No  ...          0           0   \n",
       "1          West  Not provided            Yes  ...          0           0   \n",
       "2  No Direction  Not provided            Yes  ...          0           0   \n",
       "3          East        Others            Yes  ...          0           0   \n",
       "4          East     Vitrified            Yes  ...          0           0   \n",
       "\n",
       "  others servant_room  store_room  maintenance_amt  brok_amt  deposit_amt  \\\n",
       "0      0            0           0                0         0            0   \n",
       "1      0            0           0                0         0        63000   \n",
       "2      0            0           0                0         0        25000   \n",
       "3      0            0           0                0     24000            3   \n",
       "4      1            0           0                0         0            3   \n",
       "\n",
       "  mnt_amt     rent  \n",
       "0     0.0  18500.0  \n",
       "1     0.0  21000.0  \n",
       "2     0.0  12000.0  \n",
       "3     0.0  24000.0  \n",
       "4     0.0  13500.0  \n",
       "\n",
       "[5 rows x 30 columns]"
      ]
     },
     "execution_count": 337,
     "metadata": {},
     "output_type": "execute_result"
    }
   ],
   "source": [
    "data = pd.read_csv('D:\\SLT\\Rental_Price.csv')\n",
    "print(\"Number of datapoints:\", len(data))\n",
    "print(data.shape)\n",
    "data.head()"
   ]
  },
  {
   "cell_type": "code",
   "execution_count": 338,
   "metadata": {},
   "outputs": [
    {
     "data": {
      "text/html": [
       "<div>\n",
       "<style scoped>\n",
       "    .dataframe tbody tr th:only-of-type {\n",
       "        vertical-align: middle;\n",
       "    }\n",
       "\n",
       "    .dataframe tbody tr th {\n",
       "        vertical-align: top;\n",
       "    }\n",
       "\n",
       "    .dataframe thead th {\n",
       "        text-align: right;\n",
       "    }\n",
       "</style>\n",
       "<table border=\"1\" class=\"dataframe\">\n",
       "  <thead>\n",
       "    <tr style=\"text-align: right;\">\n",
       "      <th></th>\n",
       "      <th>bedroom</th>\n",
       "      <th>bathrooms</th>\n",
       "      <th>area</th>\n",
       "      <th>furnishing</th>\n",
       "      <th>avalable_for</th>\n",
       "      <th>address</th>\n",
       "      <th>floor_number</th>\n",
       "      <th>facing</th>\n",
       "      <th>floor_type</th>\n",
       "      <th>gate_community</th>\n",
       "      <th>...</th>\n",
       "      <th>pooja_room</th>\n",
       "      <th>study_room</th>\n",
       "      <th>others</th>\n",
       "      <th>servant_room</th>\n",
       "      <th>store_room</th>\n",
       "      <th>maintenance_amt</th>\n",
       "      <th>brok_amt</th>\n",
       "      <th>deposit_amt</th>\n",
       "      <th>mnt_amt</th>\n",
       "      <th>rent</th>\n",
       "    </tr>\n",
       "  </thead>\n",
       "  <tbody>\n",
       "    <tr>\n",
       "      <th>5356</th>\n",
       "      <td>2</td>\n",
       "      <td>2</td>\n",
       "      <td>0.0</td>\n",
       "      <td>Unfurnished</td>\n",
       "      <td>All</td>\n",
       "      <td>Kesar Imperial Blue, Dighi, , Pune, Maharashtra</td>\n",
       "      <td>2</td>\n",
       "      <td>East</td>\n",
       "      <td>Marble</td>\n",
       "      <td>Yes</td>\n",
       "      <td>...</td>\n",
       "      <td>0</td>\n",
       "      <td>0</td>\n",
       "      <td>0</td>\n",
       "      <td>0</td>\n",
       "      <td>0</td>\n",
       "      <td>0</td>\n",
       "      <td>0</td>\n",
       "      <td>30000</td>\n",
       "      <td>0.0</td>\n",
       "      <td>14000.0</td>\n",
       "    </tr>\n",
       "    <tr>\n",
       "      <th>5357</th>\n",
       "      <td>1</td>\n",
       "      <td>1</td>\n",
       "      <td>0.0</td>\n",
       "      <td>Unfurnished</td>\n",
       "      <td>Bachelors (Men Only)</td>\n",
       "      <td>Karve Nagar, , Pune, Maharashtra</td>\n",
       "      <td>0</td>\n",
       "      <td>No Direction</td>\n",
       "      <td>Not provided</td>\n",
       "      <td>No</td>\n",
       "      <td>...</td>\n",
       "      <td>0</td>\n",
       "      <td>0</td>\n",
       "      <td>0</td>\n",
       "      <td>0</td>\n",
       "      <td>0</td>\n",
       "      <td>0</td>\n",
       "      <td>0</td>\n",
       "      <td>20000</td>\n",
       "      <td>0.0</td>\n",
       "      <td>10000.0</td>\n",
       "    </tr>\n",
       "    <tr>\n",
       "      <th>5358</th>\n",
       "      <td>3</td>\n",
       "      <td>3</td>\n",
       "      <td>1300.0</td>\n",
       "      <td>Semifurnished</td>\n",
       "      <td>All</td>\n",
       "      <td>Kolte Patil IVY Estate, Wagholi, , Pune, Mahar...</td>\n",
       "      <td>5</td>\n",
       "      <td>North-West</td>\n",
       "      <td>Marble</td>\n",
       "      <td>Yes</td>\n",
       "      <td>...</td>\n",
       "      <td>0</td>\n",
       "      <td>0</td>\n",
       "      <td>0</td>\n",
       "      <td>0</td>\n",
       "      <td>1</td>\n",
       "      <td>0</td>\n",
       "      <td>16700</td>\n",
       "      <td>45000</td>\n",
       "      <td>0.0</td>\n",
       "      <td>16700.0</td>\n",
       "    </tr>\n",
       "    <tr>\n",
       "      <th>5359</th>\n",
       "      <td>3</td>\n",
       "      <td>3</td>\n",
       "      <td>1450.0</td>\n",
       "      <td>Unfurnished</td>\n",
       "      <td>All</td>\n",
       "      <td>Pride Aloma County, Aundh, , Pune, Maharashtra</td>\n",
       "      <td>9</td>\n",
       "      <td>South-East</td>\n",
       "      <td>Vitrified</td>\n",
       "      <td>Yes</td>\n",
       "      <td>...</td>\n",
       "      <td>0</td>\n",
       "      <td>0</td>\n",
       "      <td>1</td>\n",
       "      <td>0</td>\n",
       "      <td>0</td>\n",
       "      <td>Maintenance 1/ (/ month</td>\n",
       "      <td>1</td>\n",
       "      <td>100000</td>\n",
       "      <td>1.0</td>\n",
       "      <td>33000.0</td>\n",
       "    </tr>\n",
       "    <tr>\n",
       "      <th>5360</th>\n",
       "      <td>2</td>\n",
       "      <td>2</td>\n",
       "      <td>850.0</td>\n",
       "      <td>Furnished</td>\n",
       "      <td>All</td>\n",
       "      <td>Swapan Lok Society, Koregaon park, , Pune, Mah...</td>\n",
       "      <td>4</td>\n",
       "      <td>North</td>\n",
       "      <td>Granite</td>\n",
       "      <td>Yes</td>\n",
       "      <td>...</td>\n",
       "      <td>0</td>\n",
       "      <td>0</td>\n",
       "      <td>1</td>\n",
       "      <td>0</td>\n",
       "      <td>0</td>\n",
       "      <td>0</td>\n",
       "      <td>40000</td>\n",
       "      <td>120000</td>\n",
       "      <td>0.0</td>\n",
       "      <td>40000.0</td>\n",
       "    </tr>\n",
       "  </tbody>\n",
       "</table>\n",
       "<p>5 rows × 30 columns</p>\n",
       "</div>"
      ],
      "text/plain": [
       "      bedroom  bathrooms    area     furnishing          avalable_for  \\\n",
       "5356        2          2     0.0    Unfurnished                   All   \n",
       "5357        1          1     0.0    Unfurnished  Bachelors (Men Only)   \n",
       "5358        3          3  1300.0  Semifurnished                   All   \n",
       "5359        3          3  1450.0    Unfurnished                   All   \n",
       "5360        2          2   850.0      Furnished                   All   \n",
       "\n",
       "                                                address  floor_number  \\\n",
       "5356    Kesar Imperial Blue, Dighi, , Pune, Maharashtra             2   \n",
       "5357                   Karve Nagar, , Pune, Maharashtra             0   \n",
       "5358  Kolte Patil IVY Estate, Wagholi, , Pune, Mahar...             5   \n",
       "5359     Pride Aloma County, Aundh, , Pune, Maharashtra             9   \n",
       "5360  Swapan Lok Society, Koregaon park, , Pune, Mah...             4   \n",
       "\n",
       "            facing    floor_type gate_community  ... pooja_room  study_room  \\\n",
       "5356          East        Marble            Yes  ...          0           0   \n",
       "5357  No Direction  Not provided             No  ...          0           0   \n",
       "5358    North-West        Marble            Yes  ...          0           0   \n",
       "5359    South-East     Vitrified            Yes  ...          0           0   \n",
       "5360         North       Granite            Yes  ...          0           0   \n",
       "\n",
       "     others servant_room  store_room          maintenance_amt  brok_amt  \\\n",
       "5356      0            0           0                        0         0   \n",
       "5357      0            0           0                        0         0   \n",
       "5358      0            0           1                        0     16700   \n",
       "5359      1            0           0  Maintenance 1/ (/ month         1   \n",
       "5360      1            0           0                        0     40000   \n",
       "\n",
       "      deposit_amt mnt_amt     rent  \n",
       "5356        30000     0.0  14000.0  \n",
       "5357        20000     0.0  10000.0  \n",
       "5358        45000     0.0  16700.0  \n",
       "5359       100000     1.0  33000.0  \n",
       "5360       120000     0.0  40000.0  \n",
       "\n",
       "[5 rows x 30 columns]"
      ]
     },
     "execution_count": 338,
     "metadata": {},
     "output_type": "execute_result"
    }
   ],
   "source": [
    "data.tail()"
   ]
  },
  {
   "cell_type": "code",
   "execution_count": 339,
   "metadata": {},
   "outputs": [
    {
     "name": "stdout",
     "output_type": "stream",
     "text": [
      "<class 'pandas.core.frame.DataFrame'>\n",
      "RangeIndex: 5361 entries, 0 to 5360\n",
      "Data columns (total 30 columns):\n",
      " #   Column             Non-Null Count  Dtype  \n",
      "---  ------             --------------  -----  \n",
      " 0   bedroom            5361 non-null   int64  \n",
      " 1   bathrooms          5361 non-null   int64  \n",
      " 2   area               5361 non-null   float64\n",
      " 3   furnishing         5361 non-null   object \n",
      " 4   avalable_for       5361 non-null   object \n",
      " 5   address            5361 non-null   object \n",
      " 6   floor_number       5361 non-null   int64  \n",
      " 7   facing             5361 non-null   object \n",
      " 8   floor_type         5361 non-null   object \n",
      " 9   gate_community     5361 non-null   object \n",
      " 10  corner_pro         5361 non-null   object \n",
      " 11  parking            5361 non-null   int64  \n",
      " 12  wheelchairadption  5361 non-null   object \n",
      " 13  petfacility        5361 non-null   object \n",
      " 14  aggDur             5361 non-null   int64  \n",
      " 15  noticeDur          5361 non-null   int64  \n",
      " 16  lightbill          5361 non-null   int64  \n",
      " 17  powerbackup        5361 non-null   int64  \n",
      " 18  propertyage        5361 non-null   object \n",
      " 19  no_room            5361 non-null   int64  \n",
      " 20  pooja_room         5361 non-null   int64  \n",
      " 21  study_room         5361 non-null   int64  \n",
      " 22  others             5361 non-null   int64  \n",
      " 23  servant_room       5361 non-null   int64  \n",
      " 24  store_room         5361 non-null   int64  \n",
      " 25  maintenance_amt    5361 non-null   object \n",
      " 26  brok_amt           5361 non-null   int64  \n",
      " 27  deposit_amt        5361 non-null   int64  \n",
      " 28  mnt_amt            5361 non-null   float64\n",
      " 29  rent               5361 non-null   float64\n",
      "dtypes: float64(3), int64(16), object(11)\n",
      "memory usage: 1.2+ MB\n",
      "Print a Summary of a Dataframe is : None\n"
     ]
    }
   ],
   "source": [
    "print(\"Print a Summary of a Dataframe is :\",data.info())"
   ]
  },
  {
   "cell_type": "code",
   "execution_count": 340,
   "metadata": {
    "scrolled": true
   },
   "outputs": [
    {
     "data": {
      "text/html": [
       "<div>\n",
       "<style scoped>\n",
       "    .dataframe tbody tr th:only-of-type {\n",
       "        vertical-align: middle;\n",
       "    }\n",
       "\n",
       "    .dataframe tbody tr th {\n",
       "        vertical-align: top;\n",
       "    }\n",
       "\n",
       "    .dataframe thead th {\n",
       "        text-align: right;\n",
       "    }\n",
       "</style>\n",
       "<table border=\"1\" class=\"dataframe\">\n",
       "  <thead>\n",
       "    <tr style=\"text-align: right;\">\n",
       "      <th></th>\n",
       "      <th>bedroom</th>\n",
       "      <th>bathrooms</th>\n",
       "      <th>area</th>\n",
       "      <th>floor_number</th>\n",
       "      <th>parking</th>\n",
       "      <th>aggDur</th>\n",
       "      <th>noticeDur</th>\n",
       "      <th>lightbill</th>\n",
       "      <th>powerbackup</th>\n",
       "      <th>no_room</th>\n",
       "      <th>pooja_room</th>\n",
       "      <th>study_room</th>\n",
       "      <th>others</th>\n",
       "      <th>servant_room</th>\n",
       "      <th>store_room</th>\n",
       "      <th>brok_amt</th>\n",
       "      <th>deposit_amt</th>\n",
       "      <th>mnt_amt</th>\n",
       "      <th>rent</th>\n",
       "    </tr>\n",
       "  </thead>\n",
       "  <tbody>\n",
       "    <tr>\n",
       "      <th>count</th>\n",
       "      <td>5361.000000</td>\n",
       "      <td>5361.000000</td>\n",
       "      <td>5361.000000</td>\n",
       "      <td>5361.000000</td>\n",
       "      <td>5361.000000</td>\n",
       "      <td>5361.000000</td>\n",
       "      <td>5361.000000</td>\n",
       "      <td>5361.000000</td>\n",
       "      <td>5361.000000</td>\n",
       "      <td>5361.000000</td>\n",
       "      <td>5361.000000</td>\n",
       "      <td>5361.000000</td>\n",
       "      <td>5361.000000</td>\n",
       "      <td>5361.000000</td>\n",
       "      <td>5361.000000</td>\n",
       "      <td>5361.000000</td>\n",
       "      <td>5.361000e+03</td>\n",
       "      <td>5361.000000</td>\n",
       "      <td>5361.000000</td>\n",
       "    </tr>\n",
       "    <tr>\n",
       "      <th>mean</th>\n",
       "      <td>1.790711</td>\n",
       "      <td>1.776721</td>\n",
       "      <td>547.474779</td>\n",
       "      <td>3.081701</td>\n",
       "      <td>0.876889</td>\n",
       "      <td>7.464093</td>\n",
       "      <td>0.727849</td>\n",
       "      <td>0.174408</td>\n",
       "      <td>0.706771</td>\n",
       "      <td>0.751539</td>\n",
       "      <td>0.059877</td>\n",
       "      <td>0.051669</td>\n",
       "      <td>0.125350</td>\n",
       "      <td>0.030964</td>\n",
       "      <td>0.041597</td>\n",
       "      <td>6734.678045</td>\n",
       "      <td>3.727598e+05</td>\n",
       "      <td>244.370718</td>\n",
       "      <td>17072.727136</td>\n",
       "    </tr>\n",
       "    <tr>\n",
       "      <th>std</th>\n",
       "      <td>0.754981</td>\n",
       "      <td>0.778649</td>\n",
       "      <td>1112.234717</td>\n",
       "      <td>2.432300</td>\n",
       "      <td>0.564290</td>\n",
       "      <td>7.872365</td>\n",
       "      <td>0.705513</td>\n",
       "      <td>0.379495</td>\n",
       "      <td>0.844765</td>\n",
       "      <td>0.432161</td>\n",
       "      <td>0.237281</td>\n",
       "      <td>0.221379</td>\n",
       "      <td>0.331146</td>\n",
       "      <td>0.173237</td>\n",
       "      <td>0.199684</td>\n",
       "      <td>17026.749858</td>\n",
       "      <td>2.458408e+07</td>\n",
       "      <td>1237.477605</td>\n",
       "      <td>10046.770284</td>\n",
       "    </tr>\n",
       "    <tr>\n",
       "      <th>min</th>\n",
       "      <td>1.000000</td>\n",
       "      <td>1.000000</td>\n",
       "      <td>0.000000</td>\n",
       "      <td>0.000000</td>\n",
       "      <td>0.000000</td>\n",
       "      <td>0.000000</td>\n",
       "      <td>0.000000</td>\n",
       "      <td>0.000000</td>\n",
       "      <td>0.000000</td>\n",
       "      <td>0.000000</td>\n",
       "      <td>0.000000</td>\n",
       "      <td>0.000000</td>\n",
       "      <td>0.000000</td>\n",
       "      <td>0.000000</td>\n",
       "      <td>0.000000</td>\n",
       "      <td>0.000000</td>\n",
       "      <td>0.000000e+00</td>\n",
       "      <td>0.000000</td>\n",
       "      <td>1600.000000</td>\n",
       "    </tr>\n",
       "    <tr>\n",
       "      <th>25%</th>\n",
       "      <td>1.000000</td>\n",
       "      <td>1.000000</td>\n",
       "      <td>0.000000</td>\n",
       "      <td>1.000000</td>\n",
       "      <td>1.000000</td>\n",
       "      <td>0.000000</td>\n",
       "      <td>0.000000</td>\n",
       "      <td>0.000000</td>\n",
       "      <td>0.000000</td>\n",
       "      <td>1.000000</td>\n",
       "      <td>0.000000</td>\n",
       "      <td>0.000000</td>\n",
       "      <td>0.000000</td>\n",
       "      <td>0.000000</td>\n",
       "      <td>0.000000</td>\n",
       "      <td>0.000000</td>\n",
       "      <td>3.000000e+00</td>\n",
       "      <td>0.000000</td>\n",
       "      <td>10500.000000</td>\n",
       "    </tr>\n",
       "    <tr>\n",
       "      <th>50%</th>\n",
       "      <td>2.000000</td>\n",
       "      <td>2.000000</td>\n",
       "      <td>540.000000</td>\n",
       "      <td>2.000000</td>\n",
       "      <td>1.000000</td>\n",
       "      <td>11.000000</td>\n",
       "      <td>1.000000</td>\n",
       "      <td>0.000000</td>\n",
       "      <td>0.000000</td>\n",
       "      <td>1.000000</td>\n",
       "      <td>0.000000</td>\n",
       "      <td>0.000000</td>\n",
       "      <td>0.000000</td>\n",
       "      <td>0.000000</td>\n",
       "      <td>0.000000</td>\n",
       "      <td>0.000000</td>\n",
       "      <td>3.000000e+04</td>\n",
       "      <td>0.000000</td>\n",
       "      <td>15000.000000</td>\n",
       "    </tr>\n",
       "    <tr>\n",
       "      <th>75%</th>\n",
       "      <td>2.000000</td>\n",
       "      <td>2.000000</td>\n",
       "      <td>840.000000</td>\n",
       "      <td>5.000000</td>\n",
       "      <td>1.000000</td>\n",
       "      <td>11.000000</td>\n",
       "      <td>1.000000</td>\n",
       "      <td>0.000000</td>\n",
       "      <td>2.000000</td>\n",
       "      <td>1.000000</td>\n",
       "      <td>0.000000</td>\n",
       "      <td>0.000000</td>\n",
       "      <td>0.000000</td>\n",
       "      <td>0.000000</td>\n",
       "      <td>0.000000</td>\n",
       "      <td>6500.000000</td>\n",
       "      <td>5.000000e+04</td>\n",
       "      <td>0.000000</td>\n",
       "      <td>20500.000000</td>\n",
       "    </tr>\n",
       "    <tr>\n",
       "      <th>max</th>\n",
       "      <td>8.000000</td>\n",
       "      <td>8.000000</td>\n",
       "      <td>53766.000000</td>\n",
       "      <td>9.000000</td>\n",
       "      <td>7.000000</td>\n",
       "      <td>36.000000</td>\n",
       "      <td>6.000000</td>\n",
       "      <td>1.000000</td>\n",
       "      <td>2.000000</td>\n",
       "      <td>1.000000</td>\n",
       "      <td>1.000000</td>\n",
       "      <td>1.000000</td>\n",
       "      <td>1.000000</td>\n",
       "      <td>1.000000</td>\n",
       "      <td>1.000000</td>\n",
       "      <td>300000.000000</td>\n",
       "      <td>1.800050e+09</td>\n",
       "      <td>45000.000000</td>\n",
       "      <td>95000.000000</td>\n",
       "    </tr>\n",
       "  </tbody>\n",
       "</table>\n",
       "</div>"
      ],
      "text/plain": [
       "           bedroom    bathrooms          area  floor_number      parking  \\\n",
       "count  5361.000000  5361.000000   5361.000000   5361.000000  5361.000000   \n",
       "mean      1.790711     1.776721    547.474779      3.081701     0.876889   \n",
       "std       0.754981     0.778649   1112.234717      2.432300     0.564290   \n",
       "min       1.000000     1.000000      0.000000      0.000000     0.000000   \n",
       "25%       1.000000     1.000000      0.000000      1.000000     1.000000   \n",
       "50%       2.000000     2.000000    540.000000      2.000000     1.000000   \n",
       "75%       2.000000     2.000000    840.000000      5.000000     1.000000   \n",
       "max       8.000000     8.000000  53766.000000      9.000000     7.000000   \n",
       "\n",
       "            aggDur    noticeDur    lightbill  powerbackup      no_room  \\\n",
       "count  5361.000000  5361.000000  5361.000000  5361.000000  5361.000000   \n",
       "mean      7.464093     0.727849     0.174408     0.706771     0.751539   \n",
       "std       7.872365     0.705513     0.379495     0.844765     0.432161   \n",
       "min       0.000000     0.000000     0.000000     0.000000     0.000000   \n",
       "25%       0.000000     0.000000     0.000000     0.000000     1.000000   \n",
       "50%      11.000000     1.000000     0.000000     0.000000     1.000000   \n",
       "75%      11.000000     1.000000     0.000000     2.000000     1.000000   \n",
       "max      36.000000     6.000000     1.000000     2.000000     1.000000   \n",
       "\n",
       "        pooja_room   study_room       others  servant_room   store_room  \\\n",
       "count  5361.000000  5361.000000  5361.000000   5361.000000  5361.000000   \n",
       "mean      0.059877     0.051669     0.125350      0.030964     0.041597   \n",
       "std       0.237281     0.221379     0.331146      0.173237     0.199684   \n",
       "min       0.000000     0.000000     0.000000      0.000000     0.000000   \n",
       "25%       0.000000     0.000000     0.000000      0.000000     0.000000   \n",
       "50%       0.000000     0.000000     0.000000      0.000000     0.000000   \n",
       "75%       0.000000     0.000000     0.000000      0.000000     0.000000   \n",
       "max       1.000000     1.000000     1.000000      1.000000     1.000000   \n",
       "\n",
       "            brok_amt   deposit_amt       mnt_amt          rent  \n",
       "count    5361.000000  5.361000e+03   5361.000000   5361.000000  \n",
       "mean     6734.678045  3.727598e+05    244.370718  17072.727136  \n",
       "std     17026.749858  2.458408e+07   1237.477605  10046.770284  \n",
       "min         0.000000  0.000000e+00      0.000000   1600.000000  \n",
       "25%         0.000000  3.000000e+00      0.000000  10500.000000  \n",
       "50%         0.000000  3.000000e+04      0.000000  15000.000000  \n",
       "75%      6500.000000  5.000000e+04      0.000000  20500.000000  \n",
       "max    300000.000000  1.800050e+09  45000.000000  95000.000000  "
      ]
     },
     "execution_count": 340,
     "metadata": {},
     "output_type": "execute_result"
    }
   ],
   "source": [
    "data.describe()"
   ]
  },
  {
   "cell_type": "markdown",
   "metadata": {},
   "source": [
    "Removing the unnecessary column "
   ]
  },
  {
   "cell_type": "code",
   "execution_count": 341,
   "metadata": {},
   "outputs": [],
   "source": [
    "data.drop(['facing', 'floor_type','gate_community','corner_pro','wheelchairadption', 'petfacility','aggDur','noticeDur','lightbill', 'powerbackup','pooja_room', 'study_room','others','servant_room','store_room', 'maintenance_amt'], axis=1, inplace=True)"
   ]
  },
  {
   "cell_type": "code",
   "execution_count": 342,
   "metadata": {},
   "outputs": [
    {
     "data": {
      "text/html": [
       "<div>\n",
       "<style scoped>\n",
       "    .dataframe tbody tr th:only-of-type {\n",
       "        vertical-align: middle;\n",
       "    }\n",
       "\n",
       "    .dataframe tbody tr th {\n",
       "        vertical-align: top;\n",
       "    }\n",
       "\n",
       "    .dataframe thead th {\n",
       "        text-align: right;\n",
       "    }\n",
       "</style>\n",
       "<table border=\"1\" class=\"dataframe\">\n",
       "  <thead>\n",
       "    <tr style=\"text-align: right;\">\n",
       "      <th></th>\n",
       "      <th>bedroom</th>\n",
       "      <th>bathrooms</th>\n",
       "      <th>area</th>\n",
       "      <th>floor_number</th>\n",
       "      <th>parking</th>\n",
       "      <th>no_room</th>\n",
       "      <th>brok_amt</th>\n",
       "      <th>deposit_amt</th>\n",
       "      <th>mnt_amt</th>\n",
       "      <th>rent</th>\n",
       "    </tr>\n",
       "  </thead>\n",
       "  <tbody>\n",
       "    <tr>\n",
       "      <th>count</th>\n",
       "      <td>5361.000000</td>\n",
       "      <td>5361.000000</td>\n",
       "      <td>5361.000000</td>\n",
       "      <td>5361.000000</td>\n",
       "      <td>5361.000000</td>\n",
       "      <td>5361.000000</td>\n",
       "      <td>5361.000000</td>\n",
       "      <td>5.361000e+03</td>\n",
       "      <td>5361.000000</td>\n",
       "      <td>5361.000000</td>\n",
       "    </tr>\n",
       "    <tr>\n",
       "      <th>mean</th>\n",
       "      <td>1.790711</td>\n",
       "      <td>1.776721</td>\n",
       "      <td>547.474779</td>\n",
       "      <td>3.081701</td>\n",
       "      <td>0.876889</td>\n",
       "      <td>0.751539</td>\n",
       "      <td>6734.678045</td>\n",
       "      <td>3.727598e+05</td>\n",
       "      <td>244.370718</td>\n",
       "      <td>17072.727136</td>\n",
       "    </tr>\n",
       "    <tr>\n",
       "      <th>std</th>\n",
       "      <td>0.754981</td>\n",
       "      <td>0.778649</td>\n",
       "      <td>1112.234717</td>\n",
       "      <td>2.432300</td>\n",
       "      <td>0.564290</td>\n",
       "      <td>0.432161</td>\n",
       "      <td>17026.749858</td>\n",
       "      <td>2.458408e+07</td>\n",
       "      <td>1237.477605</td>\n",
       "      <td>10046.770284</td>\n",
       "    </tr>\n",
       "    <tr>\n",
       "      <th>min</th>\n",
       "      <td>1.000000</td>\n",
       "      <td>1.000000</td>\n",
       "      <td>0.000000</td>\n",
       "      <td>0.000000</td>\n",
       "      <td>0.000000</td>\n",
       "      <td>0.000000</td>\n",
       "      <td>0.000000</td>\n",
       "      <td>0.000000e+00</td>\n",
       "      <td>0.000000</td>\n",
       "      <td>1600.000000</td>\n",
       "    </tr>\n",
       "    <tr>\n",
       "      <th>25%</th>\n",
       "      <td>1.000000</td>\n",
       "      <td>1.000000</td>\n",
       "      <td>0.000000</td>\n",
       "      <td>1.000000</td>\n",
       "      <td>1.000000</td>\n",
       "      <td>1.000000</td>\n",
       "      <td>0.000000</td>\n",
       "      <td>3.000000e+00</td>\n",
       "      <td>0.000000</td>\n",
       "      <td>10500.000000</td>\n",
       "    </tr>\n",
       "    <tr>\n",
       "      <th>50%</th>\n",
       "      <td>2.000000</td>\n",
       "      <td>2.000000</td>\n",
       "      <td>540.000000</td>\n",
       "      <td>2.000000</td>\n",
       "      <td>1.000000</td>\n",
       "      <td>1.000000</td>\n",
       "      <td>0.000000</td>\n",
       "      <td>3.000000e+04</td>\n",
       "      <td>0.000000</td>\n",
       "      <td>15000.000000</td>\n",
       "    </tr>\n",
       "    <tr>\n",
       "      <th>75%</th>\n",
       "      <td>2.000000</td>\n",
       "      <td>2.000000</td>\n",
       "      <td>840.000000</td>\n",
       "      <td>5.000000</td>\n",
       "      <td>1.000000</td>\n",
       "      <td>1.000000</td>\n",
       "      <td>6500.000000</td>\n",
       "      <td>5.000000e+04</td>\n",
       "      <td>0.000000</td>\n",
       "      <td>20500.000000</td>\n",
       "    </tr>\n",
       "    <tr>\n",
       "      <th>max</th>\n",
       "      <td>8.000000</td>\n",
       "      <td>8.000000</td>\n",
       "      <td>53766.000000</td>\n",
       "      <td>9.000000</td>\n",
       "      <td>7.000000</td>\n",
       "      <td>1.000000</td>\n",
       "      <td>300000.000000</td>\n",
       "      <td>1.800050e+09</td>\n",
       "      <td>45000.000000</td>\n",
       "      <td>95000.000000</td>\n",
       "    </tr>\n",
       "  </tbody>\n",
       "</table>\n",
       "</div>"
      ],
      "text/plain": [
       "           bedroom    bathrooms          area  floor_number      parking  \\\n",
       "count  5361.000000  5361.000000   5361.000000   5361.000000  5361.000000   \n",
       "mean      1.790711     1.776721    547.474779      3.081701     0.876889   \n",
       "std       0.754981     0.778649   1112.234717      2.432300     0.564290   \n",
       "min       1.000000     1.000000      0.000000      0.000000     0.000000   \n",
       "25%       1.000000     1.000000      0.000000      1.000000     1.000000   \n",
       "50%       2.000000     2.000000    540.000000      2.000000     1.000000   \n",
       "75%       2.000000     2.000000    840.000000      5.000000     1.000000   \n",
       "max       8.000000     8.000000  53766.000000      9.000000     7.000000   \n",
       "\n",
       "           no_room       brok_amt   deposit_amt       mnt_amt          rent  \n",
       "count  5361.000000    5361.000000  5.361000e+03   5361.000000   5361.000000  \n",
       "mean      0.751539    6734.678045  3.727598e+05    244.370718  17072.727136  \n",
       "std       0.432161   17026.749858  2.458408e+07   1237.477605  10046.770284  \n",
       "min       0.000000       0.000000  0.000000e+00      0.000000   1600.000000  \n",
       "25%       1.000000       0.000000  3.000000e+00      0.000000  10500.000000  \n",
       "50%       1.000000       0.000000  3.000000e+04      0.000000  15000.000000  \n",
       "75%       1.000000    6500.000000  5.000000e+04      0.000000  20500.000000  \n",
       "max       1.000000  300000.000000  1.800050e+09  45000.000000  95000.000000  "
      ]
     },
     "execution_count": 342,
     "metadata": {},
     "output_type": "execute_result"
    }
   ],
   "source": [
    "data.describe()"
   ]
  },
  {
   "cell_type": "code",
   "execution_count": 343,
   "metadata": {},
   "outputs": [
    {
     "name": "stdout",
     "output_type": "stream",
     "text": [
      "<class 'pandas.core.frame.DataFrame'>\n",
      "RangeIndex: 5361 entries, 0 to 5360\n",
      "Data columns (total 14 columns):\n",
      " #   Column        Non-Null Count  Dtype  \n",
      "---  ------        --------------  -----  \n",
      " 0   bedroom       5361 non-null   int64  \n",
      " 1   bathrooms     5361 non-null   int64  \n",
      " 2   area          5361 non-null   float64\n",
      " 3   furnishing    5361 non-null   object \n",
      " 4   avalable_for  5361 non-null   object \n",
      " 5   address       5361 non-null   object \n",
      " 6   floor_number  5361 non-null   int64  \n",
      " 7   parking       5361 non-null   int64  \n",
      " 8   propertyage   5361 non-null   object \n",
      " 9   no_room       5361 non-null   int64  \n",
      " 10  brok_amt      5361 non-null   int64  \n",
      " 11  deposit_amt   5361 non-null   int64  \n",
      " 12  mnt_amt       5361 non-null   float64\n",
      " 13  rent          5361 non-null   float64\n",
      "dtypes: float64(3), int64(7), object(4)\n",
      "memory usage: 586.5+ KB\n",
      "Print a Summary of a Dataframe is : None\n"
     ]
    }
   ],
   "source": [
    "print(\"Print a Summary of a Dataframe is :\",data.info())"
   ]
  },
  {
   "cell_type": "code",
   "execution_count": 344,
   "metadata": {},
   "outputs": [
    {
     "data": {
      "text/html": [
       "<div>\n",
       "<style scoped>\n",
       "    .dataframe tbody tr th:only-of-type {\n",
       "        vertical-align: middle;\n",
       "    }\n",
       "\n",
       "    .dataframe tbody tr th {\n",
       "        vertical-align: top;\n",
       "    }\n",
       "\n",
       "    .dataframe thead th {\n",
       "        text-align: right;\n",
       "    }\n",
       "</style>\n",
       "<table border=\"1\" class=\"dataframe\">\n",
       "  <thead>\n",
       "    <tr style=\"text-align: right;\">\n",
       "      <th></th>\n",
       "      <th>Unique Values</th>\n",
       "    </tr>\n",
       "  </thead>\n",
       "  <tbody>\n",
       "    <tr>\n",
       "      <th>no_room</th>\n",
       "      <td>2</td>\n",
       "    </tr>\n",
       "    <tr>\n",
       "      <th>furnishing</th>\n",
       "      <td>4</td>\n",
       "    </tr>\n",
       "    <tr>\n",
       "      <th>propertyage</th>\n",
       "      <td>6</td>\n",
       "    </tr>\n",
       "    <tr>\n",
       "      <th>bedroom</th>\n",
       "      <td>7</td>\n",
       "    </tr>\n",
       "    <tr>\n",
       "      <th>bathrooms</th>\n",
       "      <td>7</td>\n",
       "    </tr>\n",
       "    <tr>\n",
       "      <th>avalable_for</th>\n",
       "      <td>8</td>\n",
       "    </tr>\n",
       "    <tr>\n",
       "      <th>parking</th>\n",
       "      <td>8</td>\n",
       "    </tr>\n",
       "    <tr>\n",
       "      <th>floor_number</th>\n",
       "      <td>10</td>\n",
       "    </tr>\n",
       "    <tr>\n",
       "      <th>mnt_amt</th>\n",
       "      <td>109</td>\n",
       "    </tr>\n",
       "    <tr>\n",
       "      <th>brok_amt</th>\n",
       "      <td>122</td>\n",
       "    </tr>\n",
       "    <tr>\n",
       "      <th>deposit_amt</th>\n",
       "      <td>156</td>\n",
       "    </tr>\n",
       "    <tr>\n",
       "      <th>rent</th>\n",
       "      <td>231</td>\n",
       "    </tr>\n",
       "    <tr>\n",
       "      <th>area</th>\n",
       "      <td>683</td>\n",
       "    </tr>\n",
       "    <tr>\n",
       "      <th>address</th>\n",
       "      <td>3694</td>\n",
       "    </tr>\n",
       "  </tbody>\n",
       "</table>\n",
       "</div>"
      ],
      "text/plain": [
       "              Unique Values\n",
       "no_room                   2\n",
       "furnishing                4\n",
       "propertyage               6\n",
       "bedroom                   7\n",
       "bathrooms                 7\n",
       "avalable_for              8\n",
       "parking                   8\n",
       "floor_number             10\n",
       "mnt_amt                 109\n",
       "brok_amt                122\n",
       "deposit_amt             156\n",
       "rent                    231\n",
       "area                    683\n",
       "address                3694"
      ]
     },
     "execution_count": 344,
     "metadata": {},
     "output_type": "execute_result"
    }
   ],
   "source": [
    "pd.DataFrame(data.nunique()).sort_values(0).rename( {0: 'Unique Values'}, axis=1)"
   ]
  },
  {
   "cell_type": "code",
   "execution_count": 345,
   "metadata": {},
   "outputs": [
    {
     "name": "stdout",
     "output_type": "stream",
     "text": [
      "['Semifurnished' 'Furnished' 'Unfurnished' 'Unfurnishe']\n",
      "['All' 'Family Only' 'Family , Bachelors (Men Only)' 'None'\n",
      " 'Family , Bachelors (Women Only)' 'Bachelors (Men/Women)'\n",
      " 'Bachelors (Men Only)' 'Bachelors (Women Only)']\n"
     ]
    }
   ],
   "source": [
    "print(data['furnishing'].unique())\n",
    "print(data['avalable_for'].unique())"
   ]
  },
  {
   "cell_type": "code",
   "execution_count": 346,
   "metadata": {},
   "outputs": [],
   "source": [
    "data['furnishing'] = data['furnishing'].replace(['Semifurnished', 'Furnished'],'Furnished')  \n",
    "data['furnishing'] = data['furnishing'].replace(['Unfurnishe','Unfurnished'], 'Unfurnished')"
   ]
  },
  {
   "cell_type": "code",
   "execution_count": 347,
   "metadata": {},
   "outputs": [
    {
     "name": "stdout",
     "output_type": "stream",
     "text": [
      "['Furnished' 'Unfurnished']\n"
     ]
    }
   ],
   "source": [
    "print(data['furnishing'].unique())"
   ]
  },
  {
   "cell_type": "code",
   "execution_count": 348,
   "metadata": {},
   "outputs": [
    {
     "data": {
      "text/plain": [
       "All                                2636\n",
       "Family Only                        2229\n",
       "Family , Bachelors (Women Only)     220\n",
       "Family , Bachelors (Men Only)       123\n",
       "Bachelors (Men Only)                 53\n",
       "Bachelors (Men/Women)                48\n",
       "Bachelors (Women Only)               34\n",
       "None                                 18\n",
       "Name: avalable_for, dtype: int64"
      ]
     },
     "execution_count": 348,
     "metadata": {},
     "output_type": "execute_result"
    }
   ],
   "source": [
    "data['avalable_for'].value_counts()"
   ]
  },
  {
   "cell_type": "code",
   "execution_count": 349,
   "metadata": {},
   "outputs": [],
   "source": [
    "data['avalable_for'] = data['avalable_for'].replace(['All', 'Family Only','Family , Bachelors (Women Only)','Family , Bachelors (Men Only)'],'Family')  \n",
    "data['avalable_for'] = data['avalable_for'].replace(['Bachelors (Men Only)','Bachelors (Men/Women)','Bachelors (Women Only)','None'], 'Bachelors')"
   ]
  },
  {
   "cell_type": "code",
   "execution_count": 350,
   "metadata": {},
   "outputs": [
    {
     "name": "stdout",
     "output_type": "stream",
     "text": [
      "['Family' 'Bachelors']\n"
     ]
    }
   ],
   "source": [
    "print(data['avalable_for'].unique())"
   ]
  },
  {
   "cell_type": "code",
   "execution_count": 351,
   "metadata": {},
   "outputs": [
    {
     "data": {
      "text/html": [
       "<div>\n",
       "<style scoped>\n",
       "    .dataframe tbody tr th:only-of-type {\n",
       "        vertical-align: middle;\n",
       "    }\n",
       "\n",
       "    .dataframe tbody tr th {\n",
       "        vertical-align: top;\n",
       "    }\n",
       "\n",
       "    .dataframe thead th {\n",
       "        text-align: right;\n",
       "    }\n",
       "</style>\n",
       "<table border=\"1\" class=\"dataframe\">\n",
       "  <thead>\n",
       "    <tr style=\"text-align: right;\">\n",
       "      <th></th>\n",
       "      <th>bedroom</th>\n",
       "      <th>bathrooms</th>\n",
       "      <th>area</th>\n",
       "      <th>furnishing</th>\n",
       "      <th>avalable_for</th>\n",
       "      <th>address</th>\n",
       "      <th>floor_number</th>\n",
       "      <th>parking</th>\n",
       "      <th>propertyage</th>\n",
       "      <th>no_room</th>\n",
       "      <th>brok_amt</th>\n",
       "      <th>deposit_amt</th>\n",
       "      <th>mnt_amt</th>\n",
       "      <th>rent</th>\n",
       "    </tr>\n",
       "  </thead>\n",
       "  <tbody>\n",
       "    <tr>\n",
       "      <th>0</th>\n",
       "      <td>2</td>\n",
       "      <td>2</td>\n",
       "      <td>0.0</td>\n",
       "      <td>Furnished</td>\n",
       "      <td>1</td>\n",
       "      <td>Bella Casa Baner, Baner, , Pune, Maharashtra</td>\n",
       "      <td>1</td>\n",
       "      <td>1</td>\n",
       "      <td>1 to 5 Year Old</td>\n",
       "      <td>1</td>\n",
       "      <td>0</td>\n",
       "      <td>0</td>\n",
       "      <td>0.0</td>\n",
       "      <td>18500.0</td>\n",
       "    </tr>\n",
       "    <tr>\n",
       "      <th>1</th>\n",
       "      <td>2</td>\n",
       "      <td>2</td>\n",
       "      <td>1050.0</td>\n",
       "      <td>Furnished</td>\n",
       "      <td>1</td>\n",
       "      <td>Paranjape Blue Ridge, Hinjewadi, , Pune, Mahar...</td>\n",
       "      <td>2</td>\n",
       "      <td>1</td>\n",
       "      <td>0 to 1 Year Old</td>\n",
       "      <td>1</td>\n",
       "      <td>0</td>\n",
       "      <td>63000</td>\n",
       "      <td>0.0</td>\n",
       "      <td>21000.0</td>\n",
       "    </tr>\n",
       "    <tr>\n",
       "      <th>2</th>\n",
       "      <td>2</td>\n",
       "      <td>2</td>\n",
       "      <td>900.0</td>\n",
       "      <td>Furnished</td>\n",
       "      <td>1</td>\n",
       "      <td>Simplicity Apartments, Handewadi, , Pune, Maha...</td>\n",
       "      <td>6</td>\n",
       "      <td>1</td>\n",
       "      <td>5 to 10 Year Old</td>\n",
       "      <td>1</td>\n",
       "      <td>0</td>\n",
       "      <td>25000</td>\n",
       "      <td>0.0</td>\n",
       "      <td>12000.0</td>\n",
       "    </tr>\n",
       "    <tr>\n",
       "      <th>3</th>\n",
       "      <td>3</td>\n",
       "      <td>3</td>\n",
       "      <td>1100.0</td>\n",
       "      <td>Furnished</td>\n",
       "      <td>1</td>\n",
       "      <td>GK Dwarka Queens Park, Rahatani, , Pune, Mahar...</td>\n",
       "      <td>1</td>\n",
       "      <td>1</td>\n",
       "      <td>5 to 10 Year Old</td>\n",
       "      <td>1</td>\n",
       "      <td>24000</td>\n",
       "      <td>3</td>\n",
       "      <td>0.0</td>\n",
       "      <td>24000.0</td>\n",
       "    </tr>\n",
       "    <tr>\n",
       "      <th>4</th>\n",
       "      <td>1</td>\n",
       "      <td>1</td>\n",
       "      <td>605.0</td>\n",
       "      <td>Furnished</td>\n",
       "      <td>1</td>\n",
       "      <td>Anandtara Sayajiraje Avenue, Sasane Colony, , ...</td>\n",
       "      <td>4</td>\n",
       "      <td>1</td>\n",
       "      <td>5 to 10 Year Old</td>\n",
       "      <td>0</td>\n",
       "      <td>0</td>\n",
       "      <td>3</td>\n",
       "      <td>0.0</td>\n",
       "      <td>13500.0</td>\n",
       "    </tr>\n",
       "  </tbody>\n",
       "</table>\n",
       "</div>"
      ],
      "text/plain": [
       "   bedroom  bathrooms    area furnishing  avalable_for  \\\n",
       "0        2          2     0.0  Furnished             1   \n",
       "1        2          2  1050.0  Furnished             1   \n",
       "2        2          2   900.0  Furnished             1   \n",
       "3        3          3  1100.0  Furnished             1   \n",
       "4        1          1   605.0  Furnished             1   \n",
       "\n",
       "                                             address  floor_number  parking  \\\n",
       "0       Bella Casa Baner, Baner, , Pune, Maharashtra             1        1   \n",
       "1  Paranjape Blue Ridge, Hinjewadi, , Pune, Mahar...             2        1   \n",
       "2  Simplicity Apartments, Handewadi, , Pune, Maha...             6        1   \n",
       "3  GK Dwarka Queens Park, Rahatani, , Pune, Mahar...             1        1   \n",
       "4  Anandtara Sayajiraje Avenue, Sasane Colony, , ...             4        1   \n",
       "\n",
       "        propertyage  no_room  brok_amt  deposit_amt  mnt_amt     rent  \n",
       "0   1 to 5 Year Old        1         0            0      0.0  18500.0  \n",
       "1   0 to 1 Year Old        1         0        63000      0.0  21000.0  \n",
       "2  5 to 10 Year Old        1         0        25000      0.0  12000.0  \n",
       "3  5 to 10 Year Old        1     24000            3      0.0  24000.0  \n",
       "4  5 to 10 Year Old        0         0            3      0.0  13500.0  "
      ]
     },
     "execution_count": 351,
     "metadata": {},
     "output_type": "execute_result"
    }
   ],
   "source": [
    "# 2. LABEL ENCODING\n",
    "from sklearn.preprocessing import LabelEncoder\n",
    "le = LabelEncoder()\n",
    "le.fit(data['avalable_for'])\n",
    "data['avalable_for'] = le.transform(data['avalable_for'])\n",
    "data.head()"
   ]
  },
  {
   "cell_type": "code",
   "execution_count": 352,
   "metadata": {},
   "outputs": [
    {
     "data": {
      "text/html": [
       "<div>\n",
       "<style scoped>\n",
       "    .dataframe tbody tr th:only-of-type {\n",
       "        vertical-align: middle;\n",
       "    }\n",
       "\n",
       "    .dataframe tbody tr th {\n",
       "        vertical-align: top;\n",
       "    }\n",
       "\n",
       "    .dataframe thead th {\n",
       "        text-align: right;\n",
       "    }\n",
       "</style>\n",
       "<table border=\"1\" class=\"dataframe\">\n",
       "  <thead>\n",
       "    <tr style=\"text-align: right;\">\n",
       "      <th></th>\n",
       "      <th>bedroom</th>\n",
       "      <th>bathrooms</th>\n",
       "      <th>area</th>\n",
       "      <th>furnishing</th>\n",
       "      <th>avalable_for</th>\n",
       "      <th>address</th>\n",
       "      <th>floor_number</th>\n",
       "      <th>parking</th>\n",
       "      <th>propertyage</th>\n",
       "      <th>no_room</th>\n",
       "      <th>brok_amt</th>\n",
       "      <th>deposit_amt</th>\n",
       "      <th>mnt_amt</th>\n",
       "      <th>rent</th>\n",
       "    </tr>\n",
       "  </thead>\n",
       "  <tbody>\n",
       "    <tr>\n",
       "      <th>0</th>\n",
       "      <td>2</td>\n",
       "      <td>2</td>\n",
       "      <td>0.0</td>\n",
       "      <td>0</td>\n",
       "      <td>1</td>\n",
       "      <td>Bella Casa Baner, Baner, , Pune, Maharashtra</td>\n",
       "      <td>1</td>\n",
       "      <td>1</td>\n",
       "      <td>1 to 5 Year Old</td>\n",
       "      <td>1</td>\n",
       "      <td>0</td>\n",
       "      <td>0</td>\n",
       "      <td>0.0</td>\n",
       "      <td>18500.0</td>\n",
       "    </tr>\n",
       "    <tr>\n",
       "      <th>1</th>\n",
       "      <td>2</td>\n",
       "      <td>2</td>\n",
       "      <td>1050.0</td>\n",
       "      <td>0</td>\n",
       "      <td>1</td>\n",
       "      <td>Paranjape Blue Ridge, Hinjewadi, , Pune, Mahar...</td>\n",
       "      <td>2</td>\n",
       "      <td>1</td>\n",
       "      <td>0 to 1 Year Old</td>\n",
       "      <td>1</td>\n",
       "      <td>0</td>\n",
       "      <td>63000</td>\n",
       "      <td>0.0</td>\n",
       "      <td>21000.0</td>\n",
       "    </tr>\n",
       "    <tr>\n",
       "      <th>2</th>\n",
       "      <td>2</td>\n",
       "      <td>2</td>\n",
       "      <td>900.0</td>\n",
       "      <td>0</td>\n",
       "      <td>1</td>\n",
       "      <td>Simplicity Apartments, Handewadi, , Pune, Maha...</td>\n",
       "      <td>6</td>\n",
       "      <td>1</td>\n",
       "      <td>5 to 10 Year Old</td>\n",
       "      <td>1</td>\n",
       "      <td>0</td>\n",
       "      <td>25000</td>\n",
       "      <td>0.0</td>\n",
       "      <td>12000.0</td>\n",
       "    </tr>\n",
       "    <tr>\n",
       "      <th>3</th>\n",
       "      <td>3</td>\n",
       "      <td>3</td>\n",
       "      <td>1100.0</td>\n",
       "      <td>0</td>\n",
       "      <td>1</td>\n",
       "      <td>GK Dwarka Queens Park, Rahatani, , Pune, Mahar...</td>\n",
       "      <td>1</td>\n",
       "      <td>1</td>\n",
       "      <td>5 to 10 Year Old</td>\n",
       "      <td>1</td>\n",
       "      <td>24000</td>\n",
       "      <td>3</td>\n",
       "      <td>0.0</td>\n",
       "      <td>24000.0</td>\n",
       "    </tr>\n",
       "    <tr>\n",
       "      <th>4</th>\n",
       "      <td>1</td>\n",
       "      <td>1</td>\n",
       "      <td>605.0</td>\n",
       "      <td>0</td>\n",
       "      <td>1</td>\n",
       "      <td>Anandtara Sayajiraje Avenue, Sasane Colony, , ...</td>\n",
       "      <td>4</td>\n",
       "      <td>1</td>\n",
       "      <td>5 to 10 Year Old</td>\n",
       "      <td>0</td>\n",
       "      <td>0</td>\n",
       "      <td>3</td>\n",
       "      <td>0.0</td>\n",
       "      <td>13500.0</td>\n",
       "    </tr>\n",
       "  </tbody>\n",
       "</table>\n",
       "</div>"
      ],
      "text/plain": [
       "   bedroom  bathrooms    area  furnishing  avalable_for  \\\n",
       "0        2          2     0.0           0             1   \n",
       "1        2          2  1050.0           0             1   \n",
       "2        2          2   900.0           0             1   \n",
       "3        3          3  1100.0           0             1   \n",
       "4        1          1   605.0           0             1   \n",
       "\n",
       "                                             address  floor_number  parking  \\\n",
       "0       Bella Casa Baner, Baner, , Pune, Maharashtra             1        1   \n",
       "1  Paranjape Blue Ridge, Hinjewadi, , Pune, Mahar...             2        1   \n",
       "2  Simplicity Apartments, Handewadi, , Pune, Maha...             6        1   \n",
       "3  GK Dwarka Queens Park, Rahatani, , Pune, Mahar...             1        1   \n",
       "4  Anandtara Sayajiraje Avenue, Sasane Colony, , ...             4        1   \n",
       "\n",
       "        propertyage  no_room  brok_amt  deposit_amt  mnt_amt     rent  \n",
       "0   1 to 5 Year Old        1         0            0      0.0  18500.0  \n",
       "1   0 to 1 Year Old        1         0        63000      0.0  21000.0  \n",
       "2  5 to 10 Year Old        1         0        25000      0.0  12000.0  \n",
       "3  5 to 10 Year Old        1     24000            3      0.0  24000.0  \n",
       "4  5 to 10 Year Old        0         0            3      0.0  13500.0  "
      ]
     },
     "execution_count": 352,
     "metadata": {},
     "output_type": "execute_result"
    }
   ],
   "source": [
    "from sklearn.preprocessing import LabelEncoder\n",
    "le = LabelEncoder()\n",
    "le.fit(data['furnishing'])\n",
    "data['furnishing'] = le.transform(data['furnishing'])\n",
    "data.head()"
   ]
  },
  {
   "cell_type": "markdown",
   "metadata": {},
   "source": [
    "# Outlier Handling"
   ]
  },
  {
   "cell_type": "code",
   "execution_count": 353,
   "metadata": {},
   "outputs": [
    {
     "data": {
      "image/png": "[encoded data removed]",
      "text/plain": [
       "<Figure size 432x288 with 1 Axes>"
      ]
     },
     "metadata": {
      "needs_background": "light"
     },
     "output_type": "display_data"
    },
    {
     "data": {
      "image/png": "[encoded data removed]",
      "text/plain": [
       "<Figure size 432x288 with 1 Axes>"
      ]
     },
     "metadata": {
      "needs_background": "light"
     },
     "output_type": "display_data"
    },
    {
     "data": {
      "image/png": "[encoded data removed]",
      "text/plain": [
       "<Figure size 432x288 with 1 Axes>"
      ]
     },
     "metadata": {
      "needs_background": "light"
     },
     "output_type": "display_data"
    }
   ],
   "source": [
    "plt.boxplot(data['area'])\n",
    "plt.show()\n",
    "plt.boxplot(data['rent'])\n",
    "plt.show()\n",
    "plt.boxplot(data['deposit_amt'])\n",
    "plt.show()"
   ]
  },
  {
   "cell_type": "code",
   "execution_count": 354,
   "metadata": {},
   "outputs": [],
   "source": [
    "for x in data.index:\n",
    "  if data.loc[x, \"rent\"] > 30000:\n",
    "     data.drop(x, inplace = True)"
   ]
  },
  {
   "cell_type": "code",
   "execution_count": 355,
   "metadata": {},
   "outputs": [
    {
     "data": {
      "text/plain": [
       "<AxesSubplot:ylabel='rent'>"
      ]
     },
     "execution_count": 355,
     "metadata": {},
     "output_type": "execute_result"
    },
    {
     "data": {
      "image/png": "[encoded data removed]",
      "text/plain": [
       "<Figure size 432x288 with 1 Axes>"
      ]
     },
     "metadata": {
      "needs_background": "light"
     },
     "output_type": "display_data"
    }
   ],
   "source": [
    "sns.boxplot( y='rent', data=data)"
   ]
  },
  {
   "cell_type": "code",
   "execution_count": 356,
   "metadata": {},
   "outputs": [],
   "source": [
    "for x in data.index:\n",
    "  if data.loc[x, \"area\"] > 1500:\n",
    "     data.drop(x, inplace = True)"
   ]
  },
  {
   "cell_type": "code",
   "execution_count": 357,
   "metadata": {},
   "outputs": [
    {
     "data": {
      "text/plain": [
       "<AxesSubplot:ylabel='area'>"
      ]
     },
     "execution_count": 357,
     "metadata": {},
     "output_type": "execute_result"
    },
    {
     "data": {
      "image/png": "[encoded data removed]",
      "text/plain": [
       "<Figure size 432x288 with 1 Axes>"
      ]
     },
     "metadata": {
      "needs_background": "light"
     },
     "output_type": "display_data"
    }
   ],
   "source": [
    "sns.boxplot( y='area', data=data)"
   ]
  },
  {
   "cell_type": "code",
   "execution_count": 358,
   "metadata": {},
   "outputs": [
    {
     "data": {
      "text/plain": [
       "<AxesSubplot:ylabel='deposit_amt'>"
      ]
     },
     "execution_count": 358,
     "metadata": {},
     "output_type": "execute_result"
    },
    {
     "data": {
      "image/png": "[encoded data removed]",
      "text/plain": [
       "<Figure size 432x288 with 1 Axes>"
      ]
     },
     "metadata": {
      "needs_background": "light"
     },
     "output_type": "display_data"
    }
   ],
   "source": [
    "sns.boxplot( y='deposit_amt', data=data)"
   ]
  },
  {
   "cell_type": "code",
   "execution_count": 359,
   "metadata": {},
   "outputs": [
    {
     "data": {
      "text/plain": [
       "<AxesSubplot:>"
      ]
     },
     "execution_count": 359,
     "metadata": {},
     "output_type": "execute_result"
    },
    {
     "data": {
      "image/png": "[encoded data removed]",
      "text/plain": [
       "<Figure size 1440x720 with 2 Axes>"
      ]
     },
     "metadata": {
      "needs_background": "light"
     },
     "output_type": "display_data"
    }
   ],
   "source": [
    "import seaborn as sns\n",
    "plt.figure(figsize=(20,10))\n",
    "sns.heatmap(data.corr(),annot = True, cmap = 'coolwarm')"
   ]
  },
  {
   "cell_type": "code",
   "execution_count": 360,
   "metadata": {},
   "outputs": [
    {
     "data": {
      "text/plain": [
       "array([[<AxesSubplot:xlabel='bedroom', ylabel='bedroom'>,\n",
       "        <AxesSubplot:xlabel='bathrooms', ylabel='bedroom'>,\n",
       "        <AxesSubplot:xlabel='area', ylabel='bedroom'>,\n",
       "        <AxesSubplot:xlabel='furnishing', ylabel='bedroom'>,\n",
       "        <AxesSubplot:xlabel='avalable_for', ylabel='bedroom'>,\n",
       "        <AxesSubplot:xlabel='floor_number', ylabel='bedroom'>,\n",
       "        <AxesSubplot:xlabel='parking', ylabel='bedroom'>,\n",
       "        <AxesSubplot:xlabel='no_room', ylabel='bedroom'>,\n",
       "        <AxesSubplot:xlabel='brok_amt', ylabel='bedroom'>,\n",
       "        <AxesSubplot:xlabel='deposit_amt', ylabel='bedroom'>,\n",
       "        <AxesSubplot:xlabel='mnt_amt', ylabel='bedroom'>,\n",
       "        <AxesSubplot:xlabel='rent', ylabel='bedroom'>],\n",
       "       [<AxesSubplot:xlabel='bedroom', ylabel='bathrooms'>,\n",
       "        <AxesSubplot:xlabel='bathrooms', ylabel='bathrooms'>,\n",
       "        <AxesSubplot:xlabel='area', ylabel='bathrooms'>,\n",
       "        <AxesSubplot:xlabel='furnishing', ylabel='bathrooms'>,\n",
       "        <AxesSubplot:xlabel='avalable_for', ylabel='bathrooms'>,\n",
       "        <AxesSubplot:xlabel='floor_number', ylabel='bathrooms'>,\n",
       "        <AxesSubplot:xlabel='parking', ylabel='bathrooms'>,\n",
       "        <AxesSubplot:xlabel='no_room', ylabel='bathrooms'>,\n",
       "        <AxesSubplot:xlabel='brok_amt', ylabel='bathrooms'>,\n",
       "        <AxesSubplot:xlabel='deposit_amt', ylabel='bathrooms'>,\n",
       "        <AxesSubplot:xlabel='mnt_amt', ylabel='bathrooms'>,\n",
       "        <AxesSubplot:xlabel='rent', ylabel='bathrooms'>],\n",
       "       [<AxesSubplot:xlabel='bedroom', ylabel='area'>,\n",
       "        <AxesSubplot:xlabel='bathrooms', ylabel='area'>,\n",
       "        <AxesSubplot:xlabel='area', ylabel='area'>,\n",
       "        <AxesSubplot:xlabel='furnishing', ylabel='area'>,\n",
       "        <AxesSubplot:xlabel='avalable_for', ylabel='area'>,\n",
       "        <AxesSubplot:xlabel='floor_number', ylabel='area'>,\n",
       "        <AxesSubplot:xlabel='parking', ylabel='area'>,\n",
       "        <AxesSubplot:xlabel='no_room', ylabel='area'>,\n",
       "        <AxesSubplot:xlabel='brok_amt', ylabel='area'>,\n",
       "        <AxesSubplot:xlabel='deposit_amt', ylabel='area'>,\n",
       "        <AxesSubplot:xlabel='mnt_amt', ylabel='area'>,\n",
       "        <AxesSubplot:xlabel='rent', ylabel='area'>],\n",
       "       [<AxesSubplot:xlabel='bedroom', ylabel='furnishing'>,\n",
       "        <AxesSubplot:xlabel='bathrooms', ylabel='furnishing'>,\n",
       "        <AxesSubplot:xlabel='area', ylabel='furnishing'>,\n",
       "        <AxesSubplot:xlabel='furnishing', ylabel='furnishing'>,\n",
       "        <AxesSubplot:xlabel='avalable_for', ylabel='furnishing'>,\n",
       "        <AxesSubplot:xlabel='floor_number', ylabel='furnishing'>,\n",
       "        <AxesSubplot:xlabel='parking', ylabel='furnishing'>,\n",
       "        <AxesSubplot:xlabel='no_room', ylabel='furnishing'>,\n",
       "        <AxesSubplot:xlabel='brok_amt', ylabel='furnishing'>,\n",
       "        <AxesSubplot:xlabel='deposit_amt', ylabel='furnishing'>,\n",
       "        <AxesSubplot:xlabel='mnt_amt', ylabel='furnishing'>,\n",
       "        <AxesSubplot:xlabel='rent', ylabel='furnishing'>],\n",
       "       [<AxesSubplot:xlabel='bedroom', ylabel='avalable_for'>,\n",
       "        <AxesSubplot:xlabel='bathrooms', ylabel='avalable_for'>,\n",
       "        <AxesSubplot:xlabel='area', ylabel='avalable_for'>,\n",
       "        <AxesSubplot:xlabel='furnishing', ylabel='avalable_for'>,\n",
       "        <AxesSubplot:xlabel='avalable_for', ylabel='avalable_for'>,\n",
       "        <AxesSubplot:xlabel='floor_number', ylabel='avalable_for'>,\n",
       "        <AxesSubplot:xlabel='parking', ylabel='avalable_for'>,\n",
       "        <AxesSubplot:xlabel='no_room', ylabel='avalable_for'>,\n",
       "        <AxesSubplot:xlabel='brok_amt', ylabel='avalable_for'>,\n",
       "        <AxesSubplot:xlabel='deposit_amt', ylabel='avalable_for'>,\n",
       "        <AxesSubplot:xlabel='mnt_amt', ylabel='avalable_for'>,\n",
       "        <AxesSubplot:xlabel='rent', ylabel='avalable_for'>],\n",
       "       [<AxesSubplot:xlabel='bedroom', ylabel='floor_number'>,\n",
       "        <AxesSubplot:xlabel='bathrooms', ylabel='floor_number'>,\n",
       "        <AxesSubplot:xlabel='area', ylabel='floor_number'>,\n",
       "        <AxesSubplot:xlabel='furnishing', ylabel='floor_number'>,\n",
       "        <AxesSubplot:xlabel='avalable_for', ylabel='floor_number'>,\n",
       "        <AxesSubplot:xlabel='floor_number', ylabel='floor_number'>,\n",
       "        <AxesSubplot:xlabel='parking', ylabel='floor_number'>,\n",
       "        <AxesSubplot:xlabel='no_room', ylabel='floor_number'>,\n",
       "        <AxesSubplot:xlabel='brok_amt', ylabel='floor_number'>,\n",
       "        <AxesSubplot:xlabel='deposit_amt', ylabel='floor_number'>,\n",
       "        <AxesSubplot:xlabel='mnt_amt', ylabel='floor_number'>,\n",
       "        <AxesSubplot:xlabel='rent', ylabel='floor_number'>],\n",
       "       [<AxesSubplot:xlabel='bedroom', ylabel='parking'>,\n",
       "        <AxesSubplot:xlabel='bathrooms', ylabel='parking'>,\n",
       "        <AxesSubplot:xlabel='area', ylabel='parking'>,\n",
       "        <AxesSubplot:xlabel='furnishing', ylabel='parking'>,\n",
       "        <AxesSubplot:xlabel='avalable_for', ylabel='parking'>,\n",
       "        <AxesSubplot:xlabel='floor_number', ylabel='parking'>,\n",
       "        <AxesSubplot:xlabel='parking', ylabel='parking'>,\n",
       "        <AxesSubplot:xlabel='no_room', ylabel='parking'>,\n",
       "        <AxesSubplot:xlabel='brok_amt', ylabel='parking'>,\n",
       "        <AxesSubplot:xlabel='deposit_amt', ylabel='parking'>,\n",
       "        <AxesSubplot:xlabel='mnt_amt', ylabel='parking'>,\n",
       "        <AxesSubplot:xlabel='rent', ylabel='parking'>],\n",
       "       [<AxesSubplot:xlabel='bedroom', ylabel='no_room'>,\n",
       "        <AxesSubplot:xlabel='bathrooms', ylabel='no_room'>,\n",
       "        <AxesSubplot:xlabel='area', ylabel='no_room'>,\n",
       "        <AxesSubplot:xlabel='furnishing', ylabel='no_room'>,\n",
       "        <AxesSubplot:xlabel='avalable_for', ylabel='no_room'>,\n",
       "        <AxesSubplot:xlabel='floor_number', ylabel='no_room'>,\n",
       "        <AxesSubplot:xlabel='parking', ylabel='no_room'>,\n",
       "        <AxesSubplot:xlabel='no_room', ylabel='no_room'>,\n",
       "        <AxesSubplot:xlabel='brok_amt', ylabel='no_room'>,\n",
       "        <AxesSubplot:xlabel='deposit_amt', ylabel='no_room'>,\n",
       "        <AxesSubplot:xlabel='mnt_amt', ylabel='no_room'>,\n",
       "        <AxesSubplot:xlabel='rent', ylabel='no_room'>],\n",
       "       [<AxesSubplot:xlabel='bedroom', ylabel='brok_amt'>,\n",
       "        <AxesSubplot:xlabel='bathrooms', ylabel='brok_amt'>,\n",
       "        <AxesSubplot:xlabel='area', ylabel='brok_amt'>,\n",
       "        <AxesSubplot:xlabel='furnishing', ylabel='brok_amt'>,\n",
       "        <AxesSubplot:xlabel='avalable_for', ylabel='brok_amt'>,\n",
       "        <AxesSubplot:xlabel='floor_number', ylabel='brok_amt'>,\n",
       "        <AxesSubplot:xlabel='parking', ylabel='brok_amt'>,\n",
       "        <AxesSubplot:xlabel='no_room', ylabel='brok_amt'>,\n",
       "        <AxesSubplot:xlabel='brok_amt', ylabel='brok_amt'>,\n",
       "        <AxesSubplot:xlabel='deposit_amt', ylabel='brok_amt'>,\n",
       "        <AxesSubplot:xlabel='mnt_amt', ylabel='brok_amt'>,\n",
       "        <AxesSubplot:xlabel='rent', ylabel='brok_amt'>],\n",
       "       [<AxesSubplot:xlabel='bedroom', ylabel='deposit_amt'>,\n",
       "        <AxesSubplot:xlabel='bathrooms', ylabel='deposit_amt'>,\n",
       "        <AxesSubplot:xlabel='area', ylabel='deposit_amt'>,\n",
       "        <AxesSubplot:xlabel='furnishing', ylabel='deposit_amt'>,\n",
       "        <AxesSubplot:xlabel='avalable_for', ylabel='deposit_amt'>,\n",
       "        <AxesSubplot:xlabel='floor_number', ylabel='deposit_amt'>,\n",
       "        <AxesSubplot:xlabel='parking', ylabel='deposit_amt'>,\n",
       "        <AxesSubplot:xlabel='no_room', ylabel='deposit_amt'>,\n",
       "        <AxesSubplot:xlabel='brok_amt', ylabel='deposit_amt'>,\n",
       "        <AxesSubplot:xlabel='deposit_amt', ylabel='deposit_amt'>,\n",
       "        <AxesSubplot:xlabel='mnt_amt', ylabel='deposit_amt'>,\n",
       "        <AxesSubplot:xlabel='rent', ylabel='deposit_amt'>],\n",
       "       [<AxesSubplot:xlabel='bedroom', ylabel='mnt_amt'>,\n",
       "        <AxesSubplot:xlabel='bathrooms', ylabel='mnt_amt'>,\n",
       "        <AxesSubplot:xlabel='area', ylabel='mnt_amt'>,\n",
       "        <AxesSubplot:xlabel='furnishing', ylabel='mnt_amt'>,\n",
       "        <AxesSubplot:xlabel='avalable_for', ylabel='mnt_amt'>,\n",
       "        <AxesSubplot:xlabel='floor_number', ylabel='mnt_amt'>,\n",
       "        <AxesSubplot:xlabel='parking', ylabel='mnt_amt'>,\n",
       "        <AxesSubplot:xlabel='no_room', ylabel='mnt_amt'>,\n",
       "        <AxesSubplot:xlabel='brok_amt', ylabel='mnt_amt'>,\n",
       "        <AxesSubplot:xlabel='deposit_amt', ylabel='mnt_amt'>,\n",
       "        <AxesSubplot:xlabel='mnt_amt', ylabel='mnt_amt'>,\n",
       "        <AxesSubplot:xlabel='rent', ylabel='mnt_amt'>],\n",
       "       [<AxesSubplot:xlabel='bedroom', ylabel='rent'>,\n",
       "        <AxesSubplot:xlabel='bathrooms', ylabel='rent'>,\n",
       "        <AxesSubplot:xlabel='area', ylabel='rent'>,\n",
       "        <AxesSubplot:xlabel='furnishing', ylabel='rent'>,\n",
       "        <AxesSubplot:xlabel='avalable_for', ylabel='rent'>,\n",
       "        <AxesSubplot:xlabel='floor_number', ylabel='rent'>,\n",
       "        <AxesSubplot:xlabel='parking', ylabel='rent'>,\n",
       "        <AxesSubplot:xlabel='no_room', ylabel='rent'>,\n",
       "        <AxesSubplot:xlabel='brok_amt', ylabel='rent'>,\n",
       "        <AxesSubplot:xlabel='deposit_amt', ylabel='rent'>,\n",
       "        <AxesSubplot:xlabel='mnt_amt', ylabel='rent'>,\n",
       "        <AxesSubplot:xlabel='rent', ylabel='rent'>]], dtype=object)"
      ]
     },
     "execution_count": 360,
     "metadata": {},
     "output_type": "execute_result"
    },
    {
     "data": {
      "image/png": "[encoded data removed]",
      "text/plain": [
       "<Figure size 144x144 with 144 Axes>"
      ]
     },
     "metadata": {
      "needs_background": "light"
     },
     "output_type": "display_data"
    }
   ],
   "source": [
    "pd.plotting.scatter_matrix(data, figsize=(2,2))"
   ]
  },
  {
   "cell_type": "code",
   "execution_count": 361,
   "metadata": {},
   "outputs": [],
   "source": [
    "data.drop(['address'], axis=1, inplace=True)"
   ]
  },
  {
   "cell_type": "code",
   "execution_count": 362,
   "metadata": {},
   "outputs": [],
   "source": [
    "data.drop(['propertyage'], axis=1, inplace=True)"
   ]
  },
  {
   "cell_type": "code",
   "execution_count": 363,
   "metadata": {},
   "outputs": [],
   "source": [
    "data = data[['bathrooms','furnishing','avalable_for','floor_number','parking','no_room','bedroom','area','brok_amt','deposit_amt','mnt_amt','rent']]"
   ]
  },
  {
   "cell_type": "code",
   "execution_count": 364,
   "metadata": {},
   "outputs": [
    {
     "data": {
      "text/html": [
       "<div>\n",
       "<style scoped>\n",
       "    .dataframe tbody tr th:only-of-type {\n",
       "        vertical-align: middle;\n",
       "    }\n",
       "\n",
       "    .dataframe tbody tr th {\n",
       "        vertical-align: top;\n",
       "    }\n",
       "\n",
       "    .dataframe thead th {\n",
       "        text-align: right;\n",
       "    }\n",
       "</style>\n",
       "<table border=\"1\" class=\"dataframe\">\n",
       "  <thead>\n",
       "    <tr style=\"text-align: right;\">\n",
       "      <th></th>\n",
       "      <th>bathrooms</th>\n",
       "      <th>furnishing</th>\n",
       "      <th>avalable_for</th>\n",
       "      <th>floor_number</th>\n",
       "      <th>parking</th>\n",
       "      <th>no_room</th>\n",
       "      <th>bedroom</th>\n",
       "      <th>area</th>\n",
       "      <th>brok_amt</th>\n",
       "      <th>deposit_amt</th>\n",
       "      <th>mnt_amt</th>\n",
       "      <th>rent</th>\n",
       "    </tr>\n",
       "  </thead>\n",
       "  <tbody>\n",
       "    <tr>\n",
       "      <th>0</th>\n",
       "      <td>2</td>\n",
       "      <td>0</td>\n",
       "      <td>1</td>\n",
       "      <td>1</td>\n",
       "      <td>1</td>\n",
       "      <td>1</td>\n",
       "      <td>2</td>\n",
       "      <td>0.0</td>\n",
       "      <td>0</td>\n",
       "      <td>0</td>\n",
       "      <td>0.0</td>\n",
       "      <td>18500.0</td>\n",
       "    </tr>\n",
       "    <tr>\n",
       "      <th>1</th>\n",
       "      <td>2</td>\n",
       "      <td>0</td>\n",
       "      <td>1</td>\n",
       "      <td>2</td>\n",
       "      <td>1</td>\n",
       "      <td>1</td>\n",
       "      <td>2</td>\n",
       "      <td>1050.0</td>\n",
       "      <td>0</td>\n",
       "      <td>63000</td>\n",
       "      <td>0.0</td>\n",
       "      <td>21000.0</td>\n",
       "    </tr>\n",
       "    <tr>\n",
       "      <th>2</th>\n",
       "      <td>2</td>\n",
       "      <td>0</td>\n",
       "      <td>1</td>\n",
       "      <td>6</td>\n",
       "      <td>1</td>\n",
       "      <td>1</td>\n",
       "      <td>2</td>\n",
       "      <td>900.0</td>\n",
       "      <td>0</td>\n",
       "      <td>25000</td>\n",
       "      <td>0.0</td>\n",
       "      <td>12000.0</td>\n",
       "    </tr>\n",
       "    <tr>\n",
       "      <th>3</th>\n",
       "      <td>3</td>\n",
       "      <td>0</td>\n",
       "      <td>1</td>\n",
       "      <td>1</td>\n",
       "      <td>1</td>\n",
       "      <td>1</td>\n",
       "      <td>3</td>\n",
       "      <td>1100.0</td>\n",
       "      <td>24000</td>\n",
       "      <td>3</td>\n",
       "      <td>0.0</td>\n",
       "      <td>24000.0</td>\n",
       "    </tr>\n",
       "    <tr>\n",
       "      <th>4</th>\n",
       "      <td>1</td>\n",
       "      <td>0</td>\n",
       "      <td>1</td>\n",
       "      <td>4</td>\n",
       "      <td>1</td>\n",
       "      <td>0</td>\n",
       "      <td>1</td>\n",
       "      <td>605.0</td>\n",
       "      <td>0</td>\n",
       "      <td>3</td>\n",
       "      <td>0.0</td>\n",
       "      <td>13500.0</td>\n",
       "    </tr>\n",
       "  </tbody>\n",
       "</table>\n",
       "</div>"
      ],
      "text/plain": [
       "   bathrooms  furnishing  avalable_for  floor_number  parking  no_room  \\\n",
       "0          2           0             1             1        1        1   \n",
       "1          2           0             1             2        1        1   \n",
       "2          2           0             1             6        1        1   \n",
       "3          3           0             1             1        1        1   \n",
       "4          1           0             1             4        1        0   \n",
       "\n",
       "   bedroom    area  brok_amt  deposit_amt  mnt_amt     rent  \n",
       "0        2     0.0         0            0      0.0  18500.0  \n",
       "1        2  1050.0         0        63000      0.0  21000.0  \n",
       "2        2   900.0         0        25000      0.0  12000.0  \n",
       "3        3  1100.0     24000            3      0.0  24000.0  \n",
       "4        1   605.0         0            3      0.0  13500.0  "
      ]
     },
     "execution_count": 364,
     "metadata": {},
     "output_type": "execute_result"
    }
   ],
   "source": [
    "data.head()"
   ]
  },
  {
   "cell_type": "code",
   "execution_count": 365,
   "metadata": {},
   "outputs": [
    {
     "name": "stdout",
     "output_type": "stream",
     "text": [
      "(4962, 12)\n"
     ]
    }
   ],
   "source": [
    "print(data.shape)"
   ]
  },
  {
   "cell_type": "markdown",
   "metadata": {},
   "source": [
    "# Linear Regression\n"
   ]
  },
  {
   "cell_type": "code",
   "execution_count": 665,
   "metadata": {},
   "outputs": [],
   "source": [
    "X = data.iloc[:,0:11].values"
   ]
  },
  {
   "cell_type": "code",
   "execution_count": 666,
   "metadata": {},
   "outputs": [],
   "source": [
    "y = data.iloc[:, 11].values"
   ]
  },
  {
   "cell_type": "code",
   "execution_count": 667,
   "metadata": {},
   "outputs": [],
   "source": [
    "x_sr = data.iloc[:, 7:8].values"
   ]
  },
  {
   "cell_type": "markdown",
   "metadata": {},
   "source": [
    "without split"
   ]
  },
  {
   "cell_type": "code",
   "execution_count": 668,
   "metadata": {},
   "outputs": [
    {
     "data": {
      "text/plain": [
       "LinearRegression()"
      ]
     },
     "execution_count": 668,
     "metadata": {},
     "output_type": "execute_result"
    }
   ],
   "source": [
    "from sklearn.linear_model import LinearRegression\n",
    "regressor = LinearRegression()\n",
    "regressor.fit(x_sr, y)"
   ]
  },
  {
   "cell_type": "code",
   "execution_count": 669,
   "metadata": {},
   "outputs": [
    {
     "data": {
      "text/plain": [
       "array([13104.59, 17583.22, 16943.42, ..., 13104.59, 13104.59, 18649.56])"
      ]
     },
     "execution_count": 669,
     "metadata": {},
     "output_type": "execute_result"
    }
   ],
   "source": [
    "regressor.predict(x_sr)"
   ]
  },
  {
   "cell_type": "code",
   "execution_count": 670,
   "metadata": {},
   "outputs": [
    {
     "name": "stdout",
     "output_type": "stream",
     "text": [
      "13104.589558740081\n",
      "[4.27]\n",
      "R2 score : 0.082\n",
      "MSE: 35171609.162\n",
      "RMSE: 5930.566\n",
      "MAE: 69.405\n"
     ]
    }
   ],
   "source": [
    "from sklearn.metrics import mean_squared_error, r2_score, mean_absolute_error\n",
    "from math import sqrt\n",
    "print(regressor.intercept_)\n",
    "print(regressor.coef_)\n",
    "print(\"R2 score : %.3f\" % r2_score(y, regressor.predict(x_sr)))\n",
    "print(\"MSE: %.3f\" % mean_squared_error(y, regressor.predict(x_sr)))\n",
    "print(\"RMSE: %.3f\" % sqrt(mean_squared_error(y, regressor.predict(x_sr))))\n",
    "print(\"MAE: %.3f\" % sqrt(mean_absolute_error(y, regressor.predict(x_sr))))"
   ]
  },
  {
   "cell_type": "code",
   "execution_count": null,
   "metadata": {},
   "outputs": [],
   "source": []
  },
  {
   "cell_type": "code",
   "execution_count": null,
   "metadata": {},
   "outputs": [],
   "source": []
  },
  {
   "cell_type": "markdown",
   "metadata": {},
   "source": [
    "Splitting Train and test  data"
   ]
  },
  {
   "cell_type": "markdown",
   "metadata": {},
   "source": [
    "80:20"
   ]
  },
  {
   "cell_type": "code",
   "execution_count": 671,
   "metadata": {},
   "outputs": [],
   "source": [
    "from sklearn.model_selection import train_test_split\n",
    "x_train, x_test, y_train, y_test = train_test_split(x_sr, y, test_size=0.2, random_state=0)"
   ]
  },
  {
   "cell_type": "code",
   "execution_count": 672,
   "metadata": {},
   "outputs": [
    {
     "data": {
      "text/plain": [
       "LinearRegression()"
      ]
     },
     "execution_count": 672,
     "metadata": {},
     "output_type": "execute_result"
    }
   ],
   "source": [
    "from sklearn.linear_model import LinearRegression\n",
    "regressor = LinearRegression()\n",
    "regressor.fit(x_train, y_train)"
   ]
  },
  {
   "cell_type": "code",
   "execution_count": 673,
   "metadata": {},
   "outputs": [
    {
     "data": {
      "text/plain": [
       "array([13173.29, 16562.74, 16997.93, 16520.9 , 15466.4 , 15474.77,\n",
       "       13173.29, 16939.35, 15102.35, 13173.29, 15997.83, 16688.28,\n",
       "       16755.23, 15474.77, 17357.8 , 13173.29, 15223.7 , 17776.25,\n",
       "       15265.54, 16939.35, 17274.11, 16102.45, 13173.29, 13173.29,\n",
       "       19031.6 , 13173.29, 13173.29, 16730.12, 13173.29, 16939.35,\n",
       "       19031.6 , 13173.29, 17357.8 , 17232.26, 15642.15, 15265.54,\n",
       "       17357.8 , 13173.29, 15265.54, 15851.38, 15684.  , 13173.29,\n",
       "       13173.29, 16102.45, 13173.29, 16102.45, 17148.57, 13173.29,\n",
       "       16889.13, 16479.05, 17776.25, 17148.57, 16102.45, 16730.12,\n",
       "       13173.29, 14847.09, 16361.89, 15893.22, 13173.29, 13173.29,\n",
       "       15964.36, 13173.29, 15098.16, 15893.22, 15056.32, 14512.33,\n",
       "       15223.7 , 17567.03, 13173.29, 16462.31, 15684.  , 17776.25,\n",
       "       14616.95, 15265.54, 16236.35, 13173.29, 15684.  , 14637.87,\n",
       "       15579.38, 13173.29, 13173.29, 17776.25, 16102.45, 13173.29,\n",
       "       13173.29, 16939.35, 13173.29, 14951.71, 13173.29, 13173.29,\n",
       "       15579.38, 16311.67, 13173.29, 15223.7 , 14763.4 , 15767.69,\n",
       "       13173.29, 13173.29, 13173.29, 16207.06, 13173.29, 13173.29,\n",
       "       13173.29, 15642.15, 16227.98, 16102.45, 16520.9 , 17571.21,\n",
       "       17713.48, 15516.62, 16939.35, 13173.29, 13173.29, 17985.48,\n",
       "       18194.7 , 16562.74, 16102.45, 13173.29, 15056.32, 15767.69,\n",
       "       16102.45, 17043.96, 16939.35, 16102.45, 17148.57, 13173.29,\n",
       "       13173.29, 15784.42, 13173.29, 16813.81, 13173.29, 13301.25,\n",
       "       13173.29, 13173.29, 16102.45, 13173.29, 16566.93, 13173.29,\n",
       "       13173.29, 16939.35, 17228.08, 13173.29, 13173.29, 13173.29,\n",
       "       13173.29, 13173.29, 13173.29, 16311.67, 17002.12, 17269.93,\n",
       "       13173.29, 16102.45, 15684.  , 16324.23, 15600.31, 16671.54,\n",
       "       15684.  , 15600.31, 13173.29, 13173.29, 16399.55, 13173.29,\n",
       "       18822.38, 13173.29, 17357.8 , 16939.35, 15056.32, 15474.77,\n",
       "       18027.32, 15621.23, 13173.29, 15081.43, 13173.29, 17357.8 ,\n",
       "       16939.35, 18403.93, 13173.29, 14847.09, 17148.57, 15801.16,\n",
       "       14922.41, 13173.29, 13173.29, 16667.36, 13173.29, 18320.24,\n",
       "       13173.29, 14930.78, 13173.29, 15642.15, 14847.09, 17357.8 ,\n",
       "       15056.32, 16102.45, 16437.21, 16227.98, 16353.52, 13173.29,\n",
       "       17274.11, 15684.  , 14043.67, 15684.  , 14813.62, 13173.29,\n",
       "       16646.43, 18822.38, 13173.29, 15056.32, 13173.29, 16311.67,\n",
       "       16236.35, 17357.8 , 13173.29, 15746.76, 16311.67, 14428.64,\n",
       "       13173.29, 17148.57, 17357.8 , 15140.01, 16956.09, 16102.45,\n",
       "       13173.29, 13173.29, 16939.35, 13173.29, 15474.77, 15474.77,\n",
       "       14847.09, 15474.77, 13173.29, 13173.29, 16730.12, 15684.  ,\n",
       "       13173.29, 17148.57, 18613.15, 16227.98, 15893.22, 14491.41,\n",
       "       16144.29, 13173.29, 15056.32, 15181.85, 15014.47, 15893.22,\n",
       "       13173.29, 17357.8 , 13173.29, 16437.21, 13173.29, 13173.29,\n",
       "       15684.  , 17441.49, 15976.91, 13173.29, 13173.29, 16939.35,\n",
       "       15265.54, 13173.29, 14951.71, 17357.8 , 16520.9 , 13173.29,\n",
       "       15955.99, 16939.35, 15767.69, 13173.29, 13173.29, 15265.54,\n",
       "       19366.36, 13173.29, 15700.73, 17567.03, 13173.29, 14847.09,\n",
       "       15746.76, 16311.67, 13173.29, 14847.09, 14993.55, 16939.35,\n",
       "       13173.29, 13173.29, 13173.29, 17776.25, 13173.29, 16939.35,\n",
       "       13173.29, 15181.85, 16311.67, 14658.79, 15432.92, 13173.29,\n",
       "       16290.75, 15997.83, 15244.62, 16939.35, 13173.29, 13173.29,\n",
       "       14637.87, 17357.8 , 13173.29, 17713.48, 17148.57, 15056.32,\n",
       "       15976.91, 17357.8 , 13173.29, 17190.42, 16939.35, 15056.32,\n",
       "       15474.77, 17148.57, 17085.81, 16688.28, 18194.7 , 13173.29,\n",
       "       13173.29, 13173.29, 15474.77, 13173.29, 16207.06, 13173.29,\n",
       "       13173.29, 13173.29, 13173.29, 16730.12, 18487.62, 17859.94,\n",
       "       17441.49, 16102.45, 13173.29, 15056.32, 13173.29, 16876.58,\n",
       "       17692.56, 15474.77, 13173.29, 13420.26, 16625.51, 15976.91,\n",
       "       17357.8 , 13173.29, 16102.45, 16520.9 , 18780.53, 13173.29,\n",
       "       15441.29, 15893.22, 13173.29, 16311.67, 17023.04, 13173.29,\n",
       "       16939.35, 17106.73, 13173.29, 13173.29, 13173.29, 17357.8 ,\n",
       "       13173.29, 13173.29, 15684.  , 13173.29, 15792.79, 15349.23,\n",
       "       13173.29, 18403.93, 15725.84, 13173.29, 17441.49, 13173.29,\n",
       "       16730.12, 15474.77, 16520.9 , 13173.29, 13173.29, 13173.29,\n",
       "       15725.84, 16688.28, 16730.12, 15952.39, 13173.29, 15432.92,\n",
       "       16705.02, 13173.29, 17357.8 , 13486.63, 16730.12, 16520.9 ,\n",
       "       15474.77, 15265.54, 15893.22, 16604.59, 13374.9 , 15893.22,\n",
       "       15709.1 , 15746.76, 14847.09, 15474.77, 13173.29, 13173.29,\n",
       "       17148.57, 18194.7 , 16742.68, 15265.54, 17357.8 , 13173.29,\n",
       "       19450.06, 15223.7 , 18717.77, 17985.48, 13173.29, 16520.9 ,\n",
       "       13173.29, 15474.77, 15265.54, 15893.22, 16018.76, 13173.29,\n",
       "       15307.39, 13173.29, 13173.29, 13173.29, 16730.12, 18111.01,\n",
       "       17776.25, 16311.67, 18194.7 , 13173.29, 13173.29, 13173.29,\n",
       "       13173.29, 13173.29, 13173.29, 15893.22, 17755.33, 13173.29,\n",
       "       13173.29, 17776.25, 13173.29, 15830.45, 13173.29, 15181.85,\n",
       "       17734.41, 15884.85, 15474.77, 15265.54, 16939.35, 13173.29,\n",
       "       13173.29, 13173.29, 13173.29, 13173.29, 13173.29, 13173.29,\n",
       "       16227.98, 16102.45, 15893.22, 15704.92, 13173.29, 13173.29,\n",
       "       14847.09, 16311.67, 13173.29, 15056.32, 16068.97, 17776.25,\n",
       "       13173.29, 16625.51, 15562.64, 15541.72, 13173.29, 13173.29,\n",
       "       16939.35, 16311.67, 15453.85, 13173.29, 13173.29, 13173.29,\n",
       "       17567.03, 17567.03, 13173.29, 15776.05, 16311.67, 13173.29,\n",
       "       19240.83, 17788.8 , 15993.65, 17274.11, 17295.03, 16771.97,\n",
       "       16730.12, 17776.25, 16730.12, 18194.7 , 17859.94, 18864.22,\n",
       "       17370.35, 13173.29, 17357.8 , 17525.18, 15265.54, 13173.29,\n",
       "       17148.57, 15516.62, 15935.07, 13173.29, 15600.31, 13173.29,\n",
       "       15265.54, 13173.29, 15684.  , 13354.69, 13173.29, 13173.29,\n",
       "       13173.29, 13173.29, 13173.29, 14847.09, 16730.12, 16520.9 ,\n",
       "       16520.9 , 13173.29, 15600.31, 16248.9 , 13173.29, 13173.29,\n",
       "       15516.62, 17395.46, 15893.22, 14043.67, 18613.15, 18403.93,\n",
       "       16227.98, 17776.25, 18613.15, 15173.49, 13173.29, 13173.29,\n",
       "       16997.93, 13173.29, 16311.67, 13173.29, 17357.8 , 13173.29,\n",
       "       16311.67, 13173.29, 16520.9 , 13173.29, 15474.77, 13173.29,\n",
       "       14432.83, 15537.54, 16897.5 , 13173.29, 17148.57, 13173.29,\n",
       "       17357.8 , 18860.04, 17776.25, 13173.29, 15851.38, 13173.29,\n",
       "       13173.29, 13173.29, 16307.49, 16286.57, 13173.29, 13173.29,\n",
       "       13173.29, 15412.  , 14784.33, 16106.63, 13173.29, 17315.95,\n",
       "       15056.32, 16813.81, 15474.77, 15432.92, 14177.57, 13173.29,\n",
       "       13173.29, 14428.64, 15474.77, 13173.29, 15809.53, 16604.59,\n",
       "       14637.87, 14177.57, 16311.67, 16813.81, 13173.29, 13173.29,\n",
       "       13173.29, 13173.29, 13173.29, 15474.77, 17985.48, 16353.52,\n",
       "       13173.29, 16248.32, 15654.7 , 14784.33, 16102.45, 15893.22,\n",
       "       17776.25, 18822.38, 16311.67, 13173.29, 13173.29, 15978.04,\n",
       "       13173.29, 16667.36, 18822.38, 13173.29, 16604.59, 18194.7 ,\n",
       "       15976.91, 16855.66, 13173.29, 16813.81, 16094.08, 16960.27,\n",
       "       13417.62, 19345.44, 13173.29, 15056.32, 13173.29, 16562.74,\n",
       "       13173.29, 16311.67, 15265.54, 15265.54, 13173.29, 16102.45,\n",
       "       13800.97, 13173.29, 15223.7 , 13173.29, 13173.29, 17776.25,\n",
       "       13173.29, 17349.43, 17776.25, 16533.45, 15625.41, 13173.29,\n",
       "       13173.29, 13173.29, 13173.29, 16311.67, 15160.93, 15767.69,\n",
       "       13626.05, 16520.9 , 13173.29, 17776.25, 15265.54, 16311.67,\n",
       "       16102.45, 15056.32, 13173.29, 13173.29, 13173.29, 14972.63,\n",
       "       13173.29, 15893.22, 13260.7 , 16951.9 , 15269.73, 15370.16,\n",
       "       16520.9 , 15412.  , 16161.03, 13173.29, 16207.06, 16474.87,\n",
       "       13173.29, 15851.38, 13173.29, 13173.29, 13173.29, 15893.22,\n",
       "       13173.29, 13173.29, 13173.29, 13173.29, 13173.29, 15516.36,\n",
       "       16960.27, 14947.52, 18014.77, 17357.8 , 17776.25, 15642.15,\n",
       "       13173.29, 13173.29, 15265.54, 13173.29, 17274.11, 16730.12,\n",
       "       13173.29, 13173.29, 13173.29, 15140.01, 14972.63, 13173.29,\n",
       "       14847.09, 17357.8 , 17776.25, 13173.29, 18822.38, 17085.81,\n",
       "       13367.66, 15265.54, 16520.9 , 13173.29, 17441.49, 16428.84,\n",
       "       16813.81, 13173.29, 13173.29, 15684.  , 13173.29, 15684.  ,\n",
       "       15893.22, 13173.29, 15847.19, 16730.12, 13173.29, 13173.29,\n",
       "       18613.15, 13173.29, 17190.42, 15265.54, 16730.12, 15893.22,\n",
       "       18822.38, 16730.12, 13173.29, 13173.29, 13173.29, 15474.77,\n",
       "       17567.03, 13173.29, 16730.12, 13173.29, 13173.29, 13173.29,\n",
       "       15893.22, 17357.8 , 16939.35, 13358.29, 18194.7 , 16311.67,\n",
       "       16311.67, 14847.09, 16939.35, 13173.29, 15265.54, 15997.83,\n",
       "       13173.29, 16520.9 , 15851.38, 13173.29, 13173.29, 16675.72,\n",
       "       13173.29, 16939.35, 13173.29, 13173.29, 15202.78, 15265.54,\n",
       "       13173.29, 15474.77, 15893.22, 16299.12, 13173.29, 13173.29,\n",
       "       13449.13, 17567.03, 13173.29, 17148.57, 18282.58, 16893.32,\n",
       "       16700.83, 17232.26, 17148.57, 13173.29, 18194.7 , 17671.64,\n",
       "       15684.  , 15474.77, 14847.09, 14512.33, 14679.71, 13173.29,\n",
       "       15893.22, 16939.35, 13173.29, 13173.29, 17148.57, 13173.29,\n",
       "       13173.29, 15412.  , 13173.29, 16730.12, 13173.29, 13173.29,\n",
       "       14637.87, 13173.29, 13173.29, 13173.29, 15684.  , 17399.64,\n",
       "       15725.84, 16730.12, 13173.29, 15684.  , 13173.29, 15893.22,\n",
       "       15788.61, 15537.54, 17148.57, 14596.02, 15893.22, 16797.08,\n",
       "       16018.76, 16638.06, 15684.  , 13173.29, 15976.91, 17357.8 ,\n",
       "       15684.  , 13173.29, 13173.29, 18403.93, 16880.77, 13173.29,\n",
       "       17776.25, 16437.21, 19450.06, 13173.29, 16504.16, 13173.29,\n",
       "       14847.09, 15822.08, 17023.04, 17985.48, 14637.87, 13173.29,\n",
       "       14512.33, 17441.49, 16981.19, 17148.57, 13173.29, 13173.29,\n",
       "       13173.29, 13173.29, 13173.29, 17776.25, 17043.96, 15684.  ,\n",
       "       17357.8 , 13173.29, 13173.29, 18822.38, 18613.15, 15056.32,\n",
       "       15767.69, 13173.29, 16520.9 , 13173.29, 13173.29, 15600.31,\n",
       "       15600.31, 15073.06, 13173.29, 13173.29, 15537.54, 16730.12,\n",
       "       15516.62, 16102.45, 13173.29, 18148.67, 13173.29, 13173.29,\n",
       "       15307.39, 13173.29, 13173.29, 13173.29, 13173.29, 15893.22,\n",
       "       13173.29, 16152.66, 17567.03, 15265.54, 18027.32, 16311.67,\n",
       "       15893.22, 13173.29, 16219.61, 15798.65, 16479.05, 13173.29,\n",
       "       17776.25, 15307.39, 16311.67, 13173.29, 18613.15, 17148.57,\n",
       "       13173.29, 16152.66, 13173.29, 13173.29, 15265.54, 13173.29,\n",
       "       18613.15, 16102.45, 13173.29, 13173.29, 15976.91, 15684.  ,\n",
       "       16311.67, 16102.45, 15474.77, 13173.29, 15265.54, 13173.29,\n",
       "       13173.29, 16968.64, 13173.29, 16939.35, 13173.29, 16524.87,\n",
       "       13173.29, 19240.83, 14847.09, 15725.84, 13173.29, 14616.95,\n",
       "       13173.29, 13173.29, 13173.29, 13173.29, 13173.29, 17002.12,\n",
       "       15056.32, 15014.47, 13173.29, 15684.  , 13173.29, 15311.57,\n",
       "       17148.57, 15893.22, 13173.29, 15809.53, 16520.9 , 16939.35,\n",
       "       15474.77, 13173.29, 13173.29, 13173.29, 19031.6 , 16897.5 ,\n",
       "       15474.77, 13173.29, 15056.32, 16311.67, 15483.14, 16311.67,\n",
       "       15391.08, 16813.81, 16520.9 , 15119.09, 13173.29, 19031.6 ,\n",
       "       15642.15, 13430.39, 13173.29, 15474.77, 16604.59, 13173.29,\n",
       "       16018.76, 16939.35, 13173.29, 13173.29, 13173.29, 13173.29,\n",
       "       15391.08, 13173.29, 15643.36])"
      ]
     },
     "execution_count": 673,
     "metadata": {},
     "output_type": "execute_result"
    }
   ],
   "source": [
    "regressor.predict(x_test)"
   ]
  },
  {
   "cell_type": "code",
   "execution_count": 674,
   "metadata": {},
   "outputs": [
    {
     "name": "stdout",
     "output_type": "stream",
     "text": [
      "13173.289189082672\n",
      "[4.18]\n",
      "R2 score : 0.096\n",
      "MSE: 34382288.588\n",
      "RMSE: 5863.641\n",
      "MAE: 68.925\n"
     ]
    }
   ],
   "source": [
    "from sklearn.metrics import mean_squared_error, r2_score, mean_absolute_error\n",
    "from math import sqrt\n",
    "print(regressor.intercept_)\n",
    "print(regressor.coef_)\n",
    "print(\"R2 score : %.3f\" % r2_score(y_test, regressor.predict(x_test)))\n",
    "print(\"MSE: %.3f\" % mean_squared_error(y_test, regressor.predict(x_test)))\n",
    "print(\"RMSE: %.3f\" % sqrt(mean_squared_error(y_test, regressor.predict(x_test))))\n",
    "print(\"MAE: %.3f\" % sqrt(mean_absolute_error(y_test, regressor.predict(x_test))))"
   ]
  },
  {
   "cell_type": "code",
   "execution_count": 675,
   "metadata": {},
   "outputs": [
    {
     "name": "stdout",
     "output_type": "stream",
     "text": [
      "[[13173.29 17000.  ]\n",
      " [16562.74 22000.  ]\n",
      " [16997.93 21000.  ]\n",
      " ...\n",
      " [15391.08 15000.  ]\n",
      " [13173.29 12000.  ]\n",
      " [15643.36 11000.  ]]\n"
     ]
    }
   ],
   "source": [
    "y_pred = regressor.predict(x_test)\n",
    "np.set_printoptions(precision=2)\n",
    "print(np.concatenate((y_pred.reshape(len(y_pred),1), y_test.reshape(len(y_test),1)),1))"
   ]
  },
  {
   "cell_type": "code",
   "execution_count": 676,
   "metadata": {},
   "outputs": [
    {
     "data": {
      "text/html": [
       "<div>\n",
       "<style scoped>\n",
       "    .dataframe tbody tr th:only-of-type {\n",
       "        vertical-align: middle;\n",
       "    }\n",
       "\n",
       "    .dataframe tbody tr th {\n",
       "        vertical-align: top;\n",
       "    }\n",
       "\n",
       "    .dataframe thead th {\n",
       "        text-align: right;\n",
       "    }\n",
       "</style>\n",
       "<table border=\"1\" class=\"dataframe\">\n",
       "  <thead>\n",
       "    <tr style=\"text-align: right;\">\n",
       "      <th></th>\n",
       "      <th>y_actual</th>\n",
       "      <th>y_predicted</th>\n",
       "    </tr>\n",
       "  </thead>\n",
       "  <tbody>\n",
       "    <tr>\n",
       "      <th>0</th>\n",
       "      <td>17000.0</td>\n",
       "      <td>13173.3</td>\n",
       "    </tr>\n",
       "    <tr>\n",
       "      <th>1</th>\n",
       "      <td>22000.0</td>\n",
       "      <td>16562.7</td>\n",
       "    </tr>\n",
       "    <tr>\n",
       "      <th>2</th>\n",
       "      <td>21000.0</td>\n",
       "      <td>16997.9</td>\n",
       "    </tr>\n",
       "    <tr>\n",
       "      <th>3</th>\n",
       "      <td>20000.0</td>\n",
       "      <td>16520.9</td>\n",
       "    </tr>\n",
       "    <tr>\n",
       "      <th>4</th>\n",
       "      <td>11000.0</td>\n",
       "      <td>15466.4</td>\n",
       "    </tr>\n",
       "    <tr>\n",
       "      <th>...</th>\n",
       "      <td>...</td>\n",
       "      <td>...</td>\n",
       "    </tr>\n",
       "    <tr>\n",
       "      <th>988</th>\n",
       "      <td>8000.0</td>\n",
       "      <td>13173.3</td>\n",
       "    </tr>\n",
       "    <tr>\n",
       "      <th>989</th>\n",
       "      <td>15000.0</td>\n",
       "      <td>13173.3</td>\n",
       "    </tr>\n",
       "    <tr>\n",
       "      <th>990</th>\n",
       "      <td>15000.0</td>\n",
       "      <td>15391.1</td>\n",
       "    </tr>\n",
       "    <tr>\n",
       "      <th>991</th>\n",
       "      <td>12000.0</td>\n",
       "      <td>13173.3</td>\n",
       "    </tr>\n",
       "    <tr>\n",
       "      <th>992</th>\n",
       "      <td>11000.0</td>\n",
       "      <td>15643.4</td>\n",
       "    </tr>\n",
       "  </tbody>\n",
       "</table>\n",
       "<p>993 rows × 2 columns</p>\n",
       "</div>"
      ],
      "text/plain": [
       "     y_actual  y_predicted\n",
       "0     17000.0      13173.3\n",
       "1     22000.0      16562.7\n",
       "2     21000.0      16997.9\n",
       "3     20000.0      16520.9\n",
       "4     11000.0      15466.4\n",
       "..        ...          ...\n",
       "988    8000.0      13173.3\n",
       "989   15000.0      13173.3\n",
       "990   15000.0      15391.1\n",
       "991   12000.0      13173.3\n",
       "992   11000.0      15643.4\n",
       "\n",
       "[993 rows x 2 columns]"
      ]
     },
     "execution_count": 676,
     "metadata": {},
     "output_type": "execute_result"
    }
   ],
   "source": [
    "df_pred=pd.DataFrame()\n",
    "df_pred[\"y_actual\"]= y_test\n",
    "df_pred[\"y_predicted\"]=np.round(y_pred,1)\n",
    "df_pred"
   ]
  },
  {
   "cell_type": "code",
   "execution_count": null,
   "metadata": {},
   "outputs": [],
   "source": []
  },
  {
   "cell_type": "markdown",
   "metadata": {},
   "source": [
    "70:30"
   ]
  },
  {
   "cell_type": "code",
   "execution_count": 677,
   "metadata": {},
   "outputs": [],
   "source": [
    "from sklearn.model_selection import train_test_split\n",
    "x_train, x_test, y_train, y_test = train_test_split(x_sr, y, test_size=0.3, random_state=0)"
   ]
  },
  {
   "cell_type": "code",
   "execution_count": 678,
   "metadata": {},
   "outputs": [
    {
     "data": {
      "text/plain": [
       "LinearRegression()"
      ]
     },
     "execution_count": 678,
     "metadata": {},
     "output_type": "execute_result"
    }
   ],
   "source": [
    "from sklearn.linear_model import LinearRegression\n",
    "regressor = LinearRegression()\n",
    "regressor.fit(x_train, y_train)"
   ]
  },
  {
   "cell_type": "code",
   "execution_count": 679,
   "metadata": {},
   "outputs": [
    {
     "data": {
      "text/plain": [
       "array([13130.2 , 16640.15, 17090.81, ..., 13130.2 , 13130.2 , 17376.8 ])"
      ]
     },
     "execution_count": 679,
     "metadata": {},
     "output_type": "execute_result"
    }
   ],
   "source": [
    "regressor.predict(x_test)"
   ]
  },
  {
   "cell_type": "code",
   "execution_count": 680,
   "metadata": {},
   "outputs": [
    {
     "name": "stdout",
     "output_type": "stream",
     "text": [
      "13130.196115898008\n",
      "[4.33]\n",
      "R2 score : 0.076\n",
      "MSE: 34969655.948\n",
      "RMSE: 5913.515\n",
      "MAE: 69.163\n"
     ]
    }
   ],
   "source": [
    "from sklearn.metrics import mean_squared_error, r2_score, mean_absolute_error\n",
    "from math import sqrt\n",
    "print(regressor.intercept_)\n",
    "print(regressor.coef_)\n",
    "print(\"R2 score : %.3f\" % r2_score(y_test, regressor.predict(x_test)))\n",
    "print(\"MSE: %.3f\" % mean_squared_error(y_test, regressor.predict(x_test)))\n",
    "print(\"RMSE: %.3f\" % sqrt(mean_squared_error(y_test, regressor.predict(x_test))))\n",
    "print(\"MAE: %.3f\" % sqrt(mean_absolute_error(y_test, regressor.predict(x_test))))"
   ]
  },
  {
   "cell_type": "code",
   "execution_count": null,
   "metadata": {},
   "outputs": [],
   "source": []
  },
  {
   "cell_type": "markdown",
   "metadata": {},
   "source": [
    "50:50"
   ]
  },
  {
   "cell_type": "code",
   "execution_count": 681,
   "metadata": {},
   "outputs": [],
   "source": [
    "from sklearn.model_selection import train_test_split\n",
    "x_train, x_test, y_train, y_test = train_test_split(x_sr, y, test_size=0.5, random_state=0)"
   ]
  },
  {
   "cell_type": "code",
   "execution_count": 682,
   "metadata": {},
   "outputs": [
    {
     "data": {
      "text/plain": [
       "LinearRegression()"
      ]
     },
     "execution_count": 682,
     "metadata": {},
     "output_type": "execute_result"
    }
   ],
   "source": [
    "from sklearn.linear_model import LinearRegression\n",
    "regressor = LinearRegression()\n",
    "regressor.fit(x_train, y_train)"
   ]
  },
  {
   "cell_type": "code",
   "execution_count": 683,
   "metadata": {},
   "outputs": [
    {
     "data": {
      "text/plain": [
       "array([13088.47, 16578.63, 17026.75, ..., 14941.27, 13088.47, 18474.53])"
      ]
     },
     "execution_count": 683,
     "metadata": {},
     "output_type": "execute_result"
    }
   ],
   "source": [
    "regressor.predict(x_test)"
   ]
  },
  {
   "cell_type": "code",
   "execution_count": 684,
   "metadata": {},
   "outputs": [
    {
     "name": "stdout",
     "output_type": "stream",
     "text": [
      "13088.469213623117\n",
      "[4.31]\n",
      "R2 score : 0.080\n",
      "MSE: 35336474.511\n",
      "RMSE: 5944.449\n",
      "MAE: 69.419\n"
     ]
    }
   ],
   "source": [
    "from sklearn.metrics import mean_squared_error, r2_score, mean_absolute_error\n",
    "from math import sqrt\n",
    "print(regressor.intercept_)\n",
    "print(regressor.coef_)\n",
    "print(\"R2 score : %.3f\" % r2_score(y_test, regressor.predict(x_test)))\n",
    "print(\"MSE: %.3f\" % mean_squared_error(y_test, regressor.predict(x_test)))\n",
    "print(\"RMSE: %.3f\" % sqrt(mean_squared_error(y_test, regressor.predict(x_test))))\n",
    "print(\"MAE: %.3f\" % sqrt(mean_absolute_error(y_test, regressor.predict(x_test))))"
   ]
  },
  {
   "cell_type": "code",
   "execution_count": null,
   "metadata": {},
   "outputs": [],
   "source": []
  },
  {
   "cell_type": "markdown",
   "metadata": {},
   "source": [
    "Gradient Descent"
   ]
  },
  {
   "cell_type": "markdown",
   "metadata": {},
   "source": [
    "learning rate = 0.1"
   ]
  },
  {
   "cell_type": "code",
   "execution_count": 685,
   "metadata": {},
   "outputs": [],
   "source": [
    "def predicted_y(weight,x,intercept):\n",
    "    y_lst=[]\n",
    "    for i in range(len(x)):\n",
    "        y_lst.append(weight@x[i]+intercept)\n",
    "    return np.array(y_lst)\n",
    "    \n",
    "\n",
    "# linear loss\n",
    "def loss(y,y_predicted):\n",
    "    n=len(y)\n",
    "    s=0\n",
    "    for i in range(n):\n",
    "        s+=(y[i]-y_predicted[i])**2\n",
    "    return (1/n)*s\n",
    "\n",
    "#derivative of loss w.r.t weight\n",
    "def dldw(x,y,y_predicted):\n",
    "    s=0\n",
    "    n=len(y)\n",
    "    for i in range(n):\n",
    "        s+=-x[i]*(y[i]-y_predicted[i])\n",
    "    return (2/n)*s\n",
    "    \n",
    "\n",
    "# derivative of loss w.r.t bias\n",
    "def dldb(y,y_predicted):\n",
    "    n=len(y)\n",
    "    s=0\n",
    "    for i in range(len(y)):\n",
    "        s+=-(y[i]-y_predicted[i])\n",
    "    return (2/n) * s\n",
    "\n",
    "# gradient function\n",
    "def gradient_descent(x,y):\n",
    "    weight_vector=np.random.randn(x.shape[1])\n",
    "    intercept=0\n",
    "    epoch = 2000\n",
    "    n = len(x)\n",
    "    linear_loss=[]\n",
    "    learning_rate = 0.1\n",
    "\n",
    "    for i in range(epoch):\n",
    "        \n",
    "        \n",
    "        y_predicted = predicted_y(weight_vector,x,intercept)\n",
    "        \n",
    "        weight_vector = weight_vector - learning_rate *dldw(x,y,y_predicted) \n",
    "        \n",
    "        \n",
    "        intercept = intercept - learning_rate * dldb(y,y_predicted)\n",
    "        linear_loss.append(loss(y,y_predicted))\n",
    "        \n",
    "    plt.plot(np.arange(1,epoch),linear_loss[1:])\n",
    "    plt.xlabel(\"number of epoch\")\n",
    "    plt.ylabel(\"loss\")\n",
    "    \n",
    "    return weight_vector,intercept"
   ]
  },
  {
   "cell_type": "code",
   "execution_count": 686,
   "metadata": {},
   "outputs": [
    {
     "name": "stdout",
     "output_type": "stream",
     "text": [
      "[[13088.47 17000.  ]\n",
      " [16578.63 22000.  ]\n",
      " [17026.75 21000.  ]\n",
      " ...\n",
      " [14941.27  7500.  ]\n",
      " [13088.47 17000.  ]\n",
      " [18474.53 25000.  ]]\n"
     ]
    }
   ],
   "source": [
    "y_pred = regressor.predict(x_test)\n",
    "np.set_printoptions(precision=2)\n",
    "print(np.concatenate((y_pred.reshape(len(y_pred),1), y_test.reshape(len(y_test),1)),1))"
   ]
  },
  {
   "cell_type": "code",
   "execution_count": 687,
   "metadata": {},
   "outputs": [],
   "source": [
    "x_zero = np.full((len(data.area),1), data.rent.mean())"
   ]
  },
  {
   "cell_type": "code",
   "execution_count": 688,
   "metadata": {},
   "outputs": [],
   "source": [
    "x_sr =x_zero\n",
    "y = data.iloc[:, 11].values\n",
    "\n",
    "from sklearn.model_selection import train_test_split\n",
    "x_train, x_test, y_train, y_test = train_test_split(x_sr, y, test_size=0.2, random_state=0)\n",
    "\n",
    "from sklearn.preprocessing import StandardScaler\n",
    "sc=StandardScaler()\n",
    "X_transform=sc.fit_transform(x_train)"
   ]
  },
  {
   "cell_type": "code",
   "execution_count": 689,
   "metadata": {
    "scrolled": true
   },
   "outputs": [
    {
     "data": {
      "image/png": "[encoded data removed]",
      "text/plain": [
       "<Figure size 432x288 with 1 Axes>"
      ]
     },
     "metadata": {
      "needs_background": "light"
     },
     "output_type": "display_data"
    }
   ],
   "source": [
    "w,b=gradient_descent(X_transform,y_train)"
   ]
  },
  {
   "cell_type": "code",
   "execution_count": 690,
   "metadata": {
    "scrolled": true
   },
   "outputs": [
    {
     "name": "stdout",
     "output_type": "stream",
     "text": [
      "weight: [7553.88]\n",
      "bias: 7553.344131603516\n"
     ]
    }
   ],
   "source": [
    "print(\"weight:\",w)\n",
    "print(\"bias:\",b)"
   ]
  },
  {
   "cell_type": "code",
   "execution_count": 691,
   "metadata": {},
   "outputs": [],
   "source": [
    "def predict(inp):\n",
    "    y_lst=[]\n",
    "    for i in range(len(inp)):\n",
    "        y_lst.append(w@inp[i]+b)\n",
    "    return np.array(y_lst)"
   ]
  },
  {
   "cell_type": "code",
   "execution_count": 692,
   "metadata": {},
   "outputs": [],
   "source": [
    "X_test=sc.fit_transform(x_test)\n",
    "y_pred=regressor.predict(X_test)"
   ]
  },
  {
   "cell_type": "code",
   "execution_count": 693,
   "metadata": {},
   "outputs": [
    {
     "data": {
      "text/html": [
       "<div>\n",
       "<style scoped>\n",
       "    .dataframe tbody tr th:only-of-type {\n",
       "        vertical-align: middle;\n",
       "    }\n",
       "\n",
       "    .dataframe tbody tr th {\n",
       "        vertical-align: top;\n",
       "    }\n",
       "\n",
       "    .dataframe thead th {\n",
       "        text-align: right;\n",
       "    }\n",
       "</style>\n",
       "<table border=\"1\" class=\"dataframe\">\n",
       "  <thead>\n",
       "    <tr style=\"text-align: right;\">\n",
       "      <th></th>\n",
       "      <th>y_actual</th>\n",
       "      <th>y_predicted</th>\n",
       "    </tr>\n",
       "  </thead>\n",
       "  <tbody>\n",
       "    <tr>\n",
       "      <th>0</th>\n",
       "      <td>17000.0</td>\n",
       "      <td>13092.8</td>\n",
       "    </tr>\n",
       "    <tr>\n",
       "      <th>1</th>\n",
       "      <td>22000.0</td>\n",
       "      <td>13092.8</td>\n",
       "    </tr>\n",
       "    <tr>\n",
       "      <th>2</th>\n",
       "      <td>21000.0</td>\n",
       "      <td>13092.8</td>\n",
       "    </tr>\n",
       "    <tr>\n",
       "      <th>3</th>\n",
       "      <td>20000.0</td>\n",
       "      <td>13092.8</td>\n",
       "    </tr>\n",
       "    <tr>\n",
       "      <th>4</th>\n",
       "      <td>11000.0</td>\n",
       "      <td>13092.8</td>\n",
       "    </tr>\n",
       "    <tr>\n",
       "      <th>...</th>\n",
       "      <td>...</td>\n",
       "      <td>...</td>\n",
       "    </tr>\n",
       "    <tr>\n",
       "      <th>988</th>\n",
       "      <td>8000.0</td>\n",
       "      <td>13092.8</td>\n",
       "    </tr>\n",
       "    <tr>\n",
       "      <th>989</th>\n",
       "      <td>15000.0</td>\n",
       "      <td>13092.8</td>\n",
       "    </tr>\n",
       "    <tr>\n",
       "      <th>990</th>\n",
       "      <td>15000.0</td>\n",
       "      <td>13092.8</td>\n",
       "    </tr>\n",
       "    <tr>\n",
       "      <th>991</th>\n",
       "      <td>12000.0</td>\n",
       "      <td>13092.8</td>\n",
       "    </tr>\n",
       "    <tr>\n",
       "      <th>992</th>\n",
       "      <td>11000.0</td>\n",
       "      <td>13092.8</td>\n",
       "    </tr>\n",
       "  </tbody>\n",
       "</table>\n",
       "<p>993 rows × 2 columns</p>\n",
       "</div>"
      ],
      "text/plain": [
       "     y_actual  y_predicted\n",
       "0     17000.0      13092.8\n",
       "1     22000.0      13092.8\n",
       "2     21000.0      13092.8\n",
       "3     20000.0      13092.8\n",
       "4     11000.0      13092.8\n",
       "..        ...          ...\n",
       "988    8000.0      13092.8\n",
       "989   15000.0      13092.8\n",
       "990   15000.0      13092.8\n",
       "991   12000.0      13092.8\n",
       "992   11000.0      13092.8\n",
       "\n",
       "[993 rows x 2 columns]"
      ]
     },
     "execution_count": 693,
     "metadata": {},
     "output_type": "execute_result"
    }
   ],
   "source": [
    "df_pred=pd.DataFrame()\n",
    "df_pred[\"y_actual\"]= y_test\n",
    "df_pred[\"y_predicted\"]=np.round(y_pred,1)\n",
    "df_pred"
   ]
  },
  {
   "cell_type": "code",
   "execution_count": 694,
   "metadata": {},
   "outputs": [
    {
     "name": "stdout",
     "output_type": "stream",
     "text": [
      "13088.469213623117\n",
      "[4.31]\n",
      "R2 score : -0.100\n",
      "MSE: 41851983.353\n",
      "RMSE: 6469.311\n",
      "MAE: 71.703\n"
     ]
    }
   ],
   "source": [
    "from sklearn.metrics import mean_squared_error, r2_score, mean_absolute_error\n",
    "from math import sqrt\n",
    "print(regressor.intercept_)\n",
    "print(regressor.coef_)\n",
    "print(\"R2 score : %.3f\" % r2_score(y_test, y_pred))\n",
    "print(\"MSE: %.3f\" % mean_squared_error(y_test, y_pred))\n",
    "print(\"RMSE: %.3f\" % sqrt(mean_squared_error(y_test, y_pred)))\n",
    "print(\"MAE: %.3f\" % sqrt(mean_absolute_error(y_test, y_pred)))"
   ]
  },
  {
   "cell_type": "markdown",
   "metadata": {},
   "source": [
    "0.001"
   ]
  },
  {
   "cell_type": "code",
   "execution_count": 695,
   "metadata": {},
   "outputs": [],
   "source": [
    "def predicted_y(weight,x,intercept):\n",
    "    y_lst=[]\n",
    "    for i in range(len(x)):\n",
    "        y_lst.append(weight@x[i]+intercept)\n",
    "    return np.array(y_lst)\n",
    "    \n",
    "\n",
    "# linear loss\n",
    "def loss(y,y_predicted):\n",
    "    n=len(y)\n",
    "    s=0\n",
    "    for i in range(n):\n",
    "        s+=(y[i]-y_predicted[i])**2\n",
    "    return (1/n)*s\n",
    "\n",
    "#derivative of loss w.r.t weight\n",
    "def dldw(x,y,y_predicted):\n",
    "    s=0\n",
    "    n=len(y)\n",
    "    for i in range(n):\n",
    "        s+=-x[i]*(y[i]-y_predicted[i])\n",
    "    return (2/n)*s\n",
    "    \n",
    "\n",
    "# derivative of loss w.r.t bias\n",
    "def dldb(y,y_predicted):\n",
    "    n=len(y)\n",
    "    s=0\n",
    "    for i in range(len(y)):\n",
    "        s+=-(y[i]-y_predicted[i])\n",
    "    return (2/n) * s\n",
    "\n",
    "# gradient function\n",
    "def gradient_descent(x,y):\n",
    "    weight_vector=np.random.randn(x.shape[1])\n",
    "    intercept=0\n",
    "    epoch = 2000\n",
    "    n = len(x)\n",
    "    linear_loss=[]\n",
    "    learning_rate = 0.001\n",
    "\n",
    "    for i in range(epoch):\n",
    "        \n",
    "        \n",
    "        y_predicted = predicted_y(weight_vector,x,intercept)\n",
    "        \n",
    "        weight_vector = weight_vector - learning_rate *dldw(x,y,y_predicted) \n",
    "        \n",
    "        \n",
    "        intercept = intercept - learning_rate * dldb(y,y_predicted)\n",
    "        linear_loss.append(loss(y,y_predicted))\n",
    "        \n",
    "    plt.plot(np.arange(1,epoch),linear_loss[1:])\n",
    "    plt.xlabel(\"number of epoch\")\n",
    "    plt.ylabel(\"loss\")\n",
    "    \n",
    "    return weight_vector,intercept"
   ]
  },
  {
   "cell_type": "code",
   "execution_count": 696,
   "metadata": {},
   "outputs": [],
   "source": [
    "x_zero = np.full((len(data.area),1), data.rent.mean())"
   ]
  },
  {
   "cell_type": "code",
   "execution_count": 697,
   "metadata": {},
   "outputs": [],
   "source": [
    "x_sr =x_zero\n",
    "y = data.iloc[:, 11].values\n",
    "\n",
    "from sklearn.model_selection import train_test_split\n",
    "x_train, x_test, y_train, y_test = train_test_split(x_sr, y, test_size=0.2, random_state=0)\n",
    "\n",
    "from sklearn.preprocessing import StandardScaler\n",
    "sc=StandardScaler()\n",
    "X_transform=sc.fit_transform(x_train)"
   ]
  },
  {
   "cell_type": "code",
   "execution_count": 698,
   "metadata": {},
   "outputs": [
    {
     "name": "stdout",
     "output_type": "stream",
     "text": [
      "weight: [7553.88]\n",
      "bias: 7553.344131603516\n"
     ]
    }
   ],
   "source": [
    "print(\"weight:\",w)\n",
    "print(\"bias:\",b)"
   ]
  },
  {
   "cell_type": "code",
   "execution_count": 699,
   "metadata": {},
   "outputs": [],
   "source": [
    "def predict(inp):\n",
    "    y_lst=[]\n",
    "    for i in range(len(inp)):\n",
    "        y_lst.append(w@inp[i]+b)\n",
    "    return np.array(y_lst)"
   ]
  },
  {
   "cell_type": "code",
   "execution_count": 700,
   "metadata": {},
   "outputs": [],
   "source": [
    "X_test=sc.fit_transform(x_test)\n",
    "y_pred=regressor.predict(X_test)"
   ]
  },
  {
   "cell_type": "code",
   "execution_count": 701,
   "metadata": {},
   "outputs": [
    {
     "data": {
      "text/html": [
       "<div>\n",
       "<style scoped>\n",
       "    .dataframe tbody tr th:only-of-type {\n",
       "        vertical-align: middle;\n",
       "    }\n",
       "\n",
       "    .dataframe tbody tr th {\n",
       "        vertical-align: top;\n",
       "    }\n",
       "\n",
       "    .dataframe thead th {\n",
       "        text-align: right;\n",
       "    }\n",
       "</style>\n",
       "<table border=\"1\" class=\"dataframe\">\n",
       "  <thead>\n",
       "    <tr style=\"text-align: right;\">\n",
       "      <th></th>\n",
       "      <th>y_actual</th>\n",
       "      <th>y_predicted</th>\n",
       "    </tr>\n",
       "  </thead>\n",
       "  <tbody>\n",
       "    <tr>\n",
       "      <th>0</th>\n",
       "      <td>17000.0</td>\n",
       "      <td>13092.8</td>\n",
       "    </tr>\n",
       "    <tr>\n",
       "      <th>1</th>\n",
       "      <td>22000.0</td>\n",
       "      <td>13092.8</td>\n",
       "    </tr>\n",
       "    <tr>\n",
       "      <th>2</th>\n",
       "      <td>21000.0</td>\n",
       "      <td>13092.8</td>\n",
       "    </tr>\n",
       "    <tr>\n",
       "      <th>3</th>\n",
       "      <td>20000.0</td>\n",
       "      <td>13092.8</td>\n",
       "    </tr>\n",
       "    <tr>\n",
       "      <th>4</th>\n",
       "      <td>11000.0</td>\n",
       "      <td>13092.8</td>\n",
       "    </tr>\n",
       "    <tr>\n",
       "      <th>...</th>\n",
       "      <td>...</td>\n",
       "      <td>...</td>\n",
       "    </tr>\n",
       "    <tr>\n",
       "      <th>988</th>\n",
       "      <td>8000.0</td>\n",
       "      <td>13092.8</td>\n",
       "    </tr>\n",
       "    <tr>\n",
       "      <th>989</th>\n",
       "      <td>15000.0</td>\n",
       "      <td>13092.8</td>\n",
       "    </tr>\n",
       "    <tr>\n",
       "      <th>990</th>\n",
       "      <td>15000.0</td>\n",
       "      <td>13092.8</td>\n",
       "    </tr>\n",
       "    <tr>\n",
       "      <th>991</th>\n",
       "      <td>12000.0</td>\n",
       "      <td>13092.8</td>\n",
       "    </tr>\n",
       "    <tr>\n",
       "      <th>992</th>\n",
       "      <td>11000.0</td>\n",
       "      <td>13092.8</td>\n",
       "    </tr>\n",
       "  </tbody>\n",
       "</table>\n",
       "<p>993 rows × 2 columns</p>\n",
       "</div>"
      ],
      "text/plain": [
       "     y_actual  y_predicted\n",
       "0     17000.0      13092.8\n",
       "1     22000.0      13092.8\n",
       "2     21000.0      13092.8\n",
       "3     20000.0      13092.8\n",
       "4     11000.0      13092.8\n",
       "..        ...          ...\n",
       "988    8000.0      13092.8\n",
       "989   15000.0      13092.8\n",
       "990   15000.0      13092.8\n",
       "991   12000.0      13092.8\n",
       "992   11000.0      13092.8\n",
       "\n",
       "[993 rows x 2 columns]"
      ]
     },
     "execution_count": 701,
     "metadata": {},
     "output_type": "execute_result"
    }
   ],
   "source": [
    "df_pred=pd.DataFrame()\n",
    "df_pred[\"y_actual\"]= y_test\n",
    "df_pred[\"y_predicted\"]=np.round(y_pred,1)\n",
    "df_pred"
   ]
  },
  {
   "cell_type": "code",
   "execution_count": null,
   "metadata": {},
   "outputs": [],
   "source": []
  },
  {
   "cell_type": "code",
   "execution_count": 702,
   "metadata": {},
   "outputs": [
    {
     "name": "stdout",
     "output_type": "stream",
     "text": [
      "13088.469213623117\n",
      "[4.31]\n",
      "R2 score : -0.100\n",
      "MSE: 41851983.353\n",
      "RMSE: 6469.311\n",
      "MAE: 71.703\n"
     ]
    }
   ],
   "source": [
    "from sklearn.metrics import mean_squared_error, r2_score, mean_absolute_error\n",
    "from math import sqrt\n",
    "print(regressor.intercept_)\n",
    "print(regressor.coef_)\n",
    "print(\"R2 score : %.3f\" % r2_score(y_test, y_pred))\n",
    "print(\"MSE: %.3f\" % mean_squared_error(y_test, y_pred))\n",
    "print(\"RMSE: %.3f\" % sqrt(mean_squared_error(y_test, y_pred)))\n",
    "print(\"MAE: %.3f\" % sqrt(mean_absolute_error(y_test, y_pred)))"
   ]
  },
  {
   "cell_type": "code",
   "execution_count": null,
   "metadata": {},
   "outputs": [],
   "source": []
  },
  {
   "cell_type": "markdown",
   "metadata": {},
   "source": [
    "0.5"
   ]
  },
  {
   "cell_type": "code",
   "execution_count": 703,
   "metadata": {},
   "outputs": [],
   "source": [
    "def predicted_y(weight,x,intercept):\n",
    "    y_lst=[]\n",
    "    for i in range(len(x)):\n",
    "        y_lst.append(weight@x[i]+intercept)\n",
    "    return np.array(y_lst)\n",
    "    \n",
    "\n",
    "# linear loss\n",
    "def loss(y,y_predicted):\n",
    "    n=len(y)\n",
    "    s=0\n",
    "    for i in range(n):\n",
    "        s+=(y[i]-y_predicted[i])**2\n",
    "    return (1/n)*s\n",
    "\n",
    "#derivative of loss w.r.t weight\n",
    "def dldw(x,y,y_predicted):\n",
    "    s=0\n",
    "    n=len(y)\n",
    "    for i in range(n):\n",
    "        s+=-x[i]*(y[i]-y_predicted[i])\n",
    "    return (2/n)*s\n",
    "    \n",
    "\n",
    "# derivative of loss w.r.t bias\n",
    "def dldb(y,y_predicted):\n",
    "    n=len(y)\n",
    "    s=0\n",
    "    for i in range(len(y)):\n",
    "        s+=-(y[i]-y_predicted[i])\n",
    "    return (2/n) * s\n",
    "\n",
    "# gradient function\n",
    "def gradient_descent(x,y):\n",
    "    weight_vector=np.random.randn(x.shape[1])\n",
    "    intercept=0\n",
    "    epoch = 2000\n",
    "    n = len(x)\n",
    "    linear_loss=[]\n",
    "    learning_rate = 0.5\n",
    "\n",
    "    for i in range(epoch):\n",
    "        \n",
    "        \n",
    "        \n",
    "        y_predicted = predicted_y(weight_vector,x,intercept)\n",
    "        \n",
    "        weight_vector = weight_vector - learning_rate *dldw(x,y,y_predicted) \n",
    "        \n",
    "        \n",
    "        intercept = intercept - learning_rate * dldb(y,y_predicted)\n",
    "        linear_loss.append(loss(y,y_predicted))\n",
    "        \n",
    "    plt.plot(np.arange(1,epoch),linear_loss[1:])\n",
    "    plt.xlabel(\"number of epoch\")\n",
    "    plt.ylabel(\"loss\")\n",
    "    \n",
    "    return weight_vector,intercept"
   ]
  },
  {
   "cell_type": "code",
   "execution_count": 704,
   "metadata": {},
   "outputs": [],
   "source": [
    "x_zero = np.full((len(data.area),1), data.rent.mean())"
   ]
  },
  {
   "cell_type": "code",
   "execution_count": 705,
   "metadata": {},
   "outputs": [],
   "source": [
    "x_sr =x_zero\n",
    "y = data.iloc[:, 11].values\n",
    "\n",
    "from sklearn.model_selection import train_test_split\n",
    "x_train, x_test, y_train, y_test = train_test_split(x_sr, y, test_size=0.2, random_state=0)\n",
    "\n",
    "from sklearn.preprocessing import StandardScaler\n",
    "sc=StandardScaler()\n",
    "X_transform=sc.fit_transform(x_train)"
   ]
  },
  {
   "cell_type": "code",
   "execution_count": 706,
   "metadata": {},
   "outputs": [],
   "source": [
    "X_test=sc.fit_transform(x_test)\n",
    "y_pred=regressor.predict(X_test)"
   ]
  },
  {
   "cell_type": "code",
   "execution_count": 707,
   "metadata": {},
   "outputs": [
    {
     "name": "stdout",
     "output_type": "stream",
     "text": [
      "13088.469213623117\n",
      "[4.31]\n",
      "R2 score : -0.100\n",
      "MSE: 41851983.353\n",
      "RMSE: 6469.311\n",
      "MAE: 71.703\n"
     ]
    }
   ],
   "source": [
    "from sklearn.metrics import mean_squared_error, r2_score, mean_absolute_error\n",
    "from math import sqrt\n",
    "print(regressor.intercept_)\n",
    "print(regressor.coef_)\n",
    "print(\"R2 score : %.3f\" % r2_score(y_test, y_pred))\n",
    "print(\"MSE: %.3f\" % mean_squared_error(y_test, y_pred))\n",
    "print(\"RMSE: %.3f\" % sqrt(mean_squared_error(y_test, y_pred)))\n",
    "print(\"MAE: %.3f\" % sqrt(mean_absolute_error(y_test, y_pred)))"
   ]
  },
  {
   "cell_type": "markdown",
   "metadata": {},
   "source": [
    "# 0.05"
   ]
  },
  {
   "cell_type": "code",
   "execution_count": 708,
   "metadata": {},
   "outputs": [],
   "source": [
    "def predicted_y(weight,x,intercept):\n",
    "    y_lst=[]\n",
    "    for i in range(len(x)):\n",
    "        y_lst.append(weight@x[i]+intercept)\n",
    "    return np.array(y_lst)\n",
    "    \n",
    "\n",
    "# linear loss\n",
    "def loss(y,y_predicted):\n",
    "    n=len(y)\n",
    "    s=0\n",
    "    for i in range(n):\n",
    "        s+=(y[i]-y_predicted[i])**2\n",
    "    return (1/n)*s\n",
    "\n",
    "#derivative of loss w.r.t weight\n",
    "def dldw(x,y,y_predicted):\n",
    "    s=0\n",
    "    n=len(y)\n",
    "    for i in range(n):\n",
    "        s+=-x[i]*(y[i]-y_predicted[i])\n",
    "    return (2/n)*s\n",
    "    \n",
    "\n",
    "# derivative of loss w.r.t bias\n",
    "def dldb(y,y_predicted):\n",
    "    n=len(y)\n",
    "    s=0\n",
    "    for i in range(len(y)):\n",
    "        s+=-(y[i]-y_predicted[i])\n",
    "    return (2/n) * s\n",
    "\n",
    "# gradient function\n",
    "def gradient_descent(x,y):\n",
    "    weight_vector=np.random.randn(x.shape[1])\n",
    "    intercept=0\n",
    "    epoch = 2000\n",
    "    n = len(x)\n",
    "    linear_loss=[]\n",
    "    learning_rate = 0.05\n",
    "\n",
    "    for i in range(epoch):\n",
    "        \n",
    "        \n",
    "        \n",
    "        y_predicted = predicted_y(weight_vector,x,intercept)\n",
    "        \n",
    "        weight_vector = weight_vector - learning_rate *dldw(x,y,y_predicted) \n",
    "        \n",
    "        \n",
    "        intercept = intercept - learning_rate * dldb(y,y_predicted)\n",
    "        linear_loss.append(loss(y,y_predicted))\n",
    "        \n",
    "    plt.plot(np.arange(1,epoch),linear_loss[1:])\n",
    "    plt.xlabel(\"number of epoch\")\n",
    "    plt.ylabel(\"loss\")\n",
    "    \n",
    "    return weight_vector,intercept"
   ]
  },
  {
   "cell_type": "code",
   "execution_count": 709,
   "metadata": {},
   "outputs": [],
   "source": [
    "x_zero = np.full((len(data.area),1), data.rent.mean())"
   ]
  },
  {
   "cell_type": "code",
   "execution_count": 710,
   "metadata": {},
   "outputs": [],
   "source": [
    "x_sr =x_zero\n",
    "y = data.iloc[:, 11].values\n",
    "\n",
    "from sklearn.model_selection import train_test_split\n",
    "x_train, x_test, y_train, y_test = train_test_split(x_sr, y, test_size=0.2, random_state=0)\n",
    "\n",
    "from sklearn.preprocessing import StandardScaler\n",
    "sc=StandardScaler()\n",
    "X_transform=sc.fit_transform(x_train)"
   ]
  },
  {
   "cell_type": "code",
   "execution_count": 711,
   "metadata": {},
   "outputs": [],
   "source": [
    "X_test=sc.fit_transform(x_test)\n",
    "y_pred=regressor.predict(X_test)"
   ]
  },
  {
   "cell_type": "code",
   "execution_count": 712,
   "metadata": {},
   "outputs": [
    {
     "name": "stdout",
     "output_type": "stream",
     "text": [
      "13088.469213623117\n",
      "[4.31]\n",
      "R2 score : -0.100\n",
      "MSE: 41851983.353\n",
      "RMSE: 6469.311\n",
      "MAE: 71.703\n"
     ]
    }
   ],
   "source": [
    "from sklearn.metrics import mean_squared_error, r2_score, mean_absolute_error\n",
    "from math import sqrt\n",
    "print(regressor.intercept_)\n",
    "print(regressor.coef_)\n",
    "print(\"R2 score : %.3f\" % r2_score(y_test, y_pred))\n",
    "print(\"MSE: %.3f\" % mean_squared_error(y_test, y_pred))\n",
    "print(\"RMSE: %.3f\" % sqrt(mean_squared_error(y_test, y_pred)))\n",
    "print(\"MAE: %.3f\" % sqrt(mean_absolute_error(y_test, y_pred)))"
   ]
  },
  {
   "cell_type": "markdown",
   "metadata": {},
   "source": [
    "# 1"
   ]
  },
  {
   "cell_type": "code",
   "execution_count": 713,
   "metadata": {},
   "outputs": [],
   "source": [
    "def predicted_y(weight,x,intercept):\n",
    "    y_lst=[]\n",
    "    for i in range(len(x)):\n",
    "        y_lst.append(weight@x[i]+intercept)\n",
    "    return np.array(y_lst)\n",
    "    \n",
    "\n",
    "# linear loss\n",
    "def loss(y,y_predicted):\n",
    "    n=len(y)\n",
    "    s=0\n",
    "    for i in range(n):\n",
    "        s+=(y[i]-y_predicted[i])**2\n",
    "    return (1/n)*s\n",
    "\n",
    "#derivative of loss w.r.t weight\n",
    "def dldw(x,y,y_predicted):\n",
    "    s=0\n",
    "    n=len(y)\n",
    "    for i in range(n):\n",
    "        s+=-x[i]*(y[i]-y_predicted[i])\n",
    "    return (2/n)*s\n",
    "    \n",
    "\n",
    "# derivative of loss w.r.t bias\n",
    "def dldb(y,y_predicted):\n",
    "    n=len(y)\n",
    "    s=0\n",
    "    for i in range(len(y)):\n",
    "        s+=-(y[i]-y_predicted[i])\n",
    "    return (2/n) * s\n",
    "\n",
    "# gradient function\n",
    "def gradient_descent(x,y):\n",
    "    weight_vector=np.random.randn(x.shape[1])\n",
    "    intercept=0\n",
    "    epoch = 2000\n",
    "    n = len(x)\n",
    "    linear_loss=[]\n",
    "    learning_rate = 1\n",
    "\n",
    "    for i in range(epoch):\n",
    "        \n",
    "        \n",
    "        \n",
    "        y_predicted = predicted_y(weight_vector,x,intercept)\n",
    "        \n",
    "        weight_vector = weight_vector - learning_rate *dldw(x,y,y_predicted) \n",
    "        \n",
    "        \n",
    "        intercept = intercept - learning_rate * dldb(y,y_predicted)\n",
    "        linear_loss.append(loss(y,y_predicted))\n",
    "        \n",
    "    plt.plot(np.arange(1,epoch),linear_loss[1:])\n",
    "    plt.xlabel(\"number of epoch\")\n",
    "    plt.ylabel(\"loss\")\n",
    "    \n",
    "    return weight_vector,intercept"
   ]
  },
  {
   "cell_type": "code",
   "execution_count": 714,
   "metadata": {},
   "outputs": [],
   "source": [
    "X_test=sc.fit_transform(x_test)\n",
    "y_pred=regressor.predict(X_test)"
   ]
  },
  {
   "cell_type": "code",
   "execution_count": null,
   "metadata": {},
   "outputs": [],
   "source": []
  },
  {
   "cell_type": "code",
   "execution_count": 715,
   "metadata": {},
   "outputs": [
    {
     "name": "stdout",
     "output_type": "stream",
     "text": [
      "13088.469213623117\n",
      "[4.31]\n",
      "R2 score : -0.100\n",
      "MSE: 41851983.353\n",
      "RMSE: 6469.311\n",
      "MAE: 71.703\n"
     ]
    }
   ],
   "source": [
    "from sklearn.metrics import mean_squared_error, r2_score, mean_absolute_error\n",
    "from math import sqrt\n",
    "print(regressor.intercept_)\n",
    "print(regressor.coef_)\n",
    "print(\"R2 score : %.3f\" % r2_score(y_test, y_pred))\n",
    "print(\"MSE: %.3f\" % mean_squared_error(y_test, y_pred))\n",
    "print(\"RMSE: %.3f\" % sqrt(mean_squared_error(y_test, y_pred)))\n",
    "print(\"MAE: %.3f\" % sqrt(mean_absolute_error(y_test, y_pred)))"
   ]
  },
  {
   "cell_type": "markdown",
   "metadata": {},
   "source": [
    "# multiple linear regression "
   ]
  },
  {
   "cell_type": "markdown",
   "metadata": {},
   "source": [
    "area and brok_amt"
   ]
  },
  {
   "cell_type": "code",
   "execution_count": 716,
   "metadata": {},
   "outputs": [],
   "source": [
    "x_sr = data.iloc[:, 7:9].values"
   ]
  },
  {
   "cell_type": "markdown",
   "metadata": {},
   "source": [
    "without split"
   ]
  },
  {
   "cell_type": "code",
   "execution_count": 717,
   "metadata": {},
   "outputs": [
    {
     "data": {
      "text/plain": [
       "LinearRegression()"
      ]
     },
     "execution_count": 717,
     "metadata": {},
     "output_type": "execute_result"
    }
   ],
   "source": [
    "from sklearn.linear_model import LinearRegression\n",
    "regressor = LinearRegression()\n",
    "regressor.fit(x_sr, y)"
   ]
  },
  {
   "cell_type": "code",
   "execution_count": 718,
   "metadata": {},
   "outputs": [
    {
     "data": {
      "text/plain": [
       "array([12759.93, 16329.89, 15819.9 , ..., 12759.93, 12759.93, 19739.84])"
      ]
     },
     "execution_count": 718,
     "metadata": {},
     "output_type": "execute_result"
    }
   ],
   "source": [
    "regressor.predict(x_sr)"
   ]
  },
  {
   "cell_type": "code",
   "execution_count": 719,
   "metadata": {},
   "outputs": [
    {
     "name": "stdout",
     "output_type": "stream",
     "text": [
      "12759.931789731401\n",
      "[3.4  0.15]\n",
      "R2 score : 0.173\n",
      "MSE: 31665432.799\n",
      "RMSE: 5627.205\n",
      "MAE: 67.389\n"
     ]
    }
   ],
   "source": [
    "from sklearn.metrics import mean_squared_error, r2_score, mean_absolute_error\n",
    "from math import sqrt\n",
    "print(regressor.intercept_)\n",
    "print(regressor.coef_)\n",
    "print(\"R2 score : %.3f\" % r2_score(y, regressor.predict(x_sr)))\n",
    "print(\"MSE: %.3f\" % mean_squared_error(y, regressor.predict(x_sr)))\n",
    "print(\"RMSE: %.3f\" % sqrt(mean_squared_error(y, regressor.predict(x_sr))))\n",
    "print(\"MAE: %.3f\" % sqrt(mean_absolute_error(y, regressor.predict(x_sr))))"
   ]
  },
  {
   "cell_type": "markdown",
   "metadata": {},
   "source": [
    "Splitting Train and test  data"
   ]
  },
  {
   "cell_type": "markdown",
   "metadata": {},
   "source": [
    "80:20"
   ]
  },
  {
   "cell_type": "code",
   "execution_count": 720,
   "metadata": {},
   "outputs": [],
   "source": [
    "from sklearn.model_selection import train_test_split\n",
    "x_train, x_test, y_train, y_test = train_test_split(x_sr, y, test_size=0.2, random_state=0)"
   ]
  },
  {
   "cell_type": "code",
   "execution_count": 721,
   "metadata": {},
   "outputs": [
    {
     "data": {
      "text/plain": [
       "LinearRegression()"
      ]
     },
     "execution_count": 721,
     "metadata": {},
     "output_type": "execute_result"
    }
   ],
   "source": [
    "from sklearn.linear_model import LinearRegression\n",
    "regressor = LinearRegression()\n",
    "regressor.fit(x_train, y_train)"
   ]
  },
  {
   "cell_type": "code",
   "execution_count": 722,
   "metadata": {},
   "outputs": [
    {
     "data": {
      "text/plain": [
       "array([12846.31, 18763.85, 18967.39, 15530.77, 14685.16, 14691.87,\n",
       "       12846.31, 15866.32, 14393.23, 12846.31, 15111.32, 17991.92,\n",
       "       18045.61, 14691.87, 16201.88, 12846.31, 15799.44, 16537.73,\n",
       "       14524.09, 15866.32, 20497.76, 16940.4 , 12846.31, 12846.31,\n",
       "       17544.55, 12846.31, 17209.3 , 15698.55, 17063.86, 18920.42,\n",
       "       22343.4 , 12846.31, 20564.87, 19882.47, 14826.1 , 14524.09,\n",
       "       18528.81, 12846.31, 14524.09, 14993.87, 14859.65, 12846.31,\n",
       "       13573.47, 15195.21, 12846.31, 15195.21, 16034.1 , 12846.31,\n",
       "       18734.72, 15497.21, 16537.44, 20106.23, 15195.21, 19625.24,\n",
       "       12846.31, 14188.54, 15403.25, 15027.43, 12846.31, 12846.31,\n",
       "       15084.48, 15754.97, 14389.87, 15027.43, 14356.32, 13920.09,\n",
       "       14490.54, 16369.66, 16482.13, 15483.79, 14859.65, 16537.44,\n",
       "       14003.98, 18596.22, 15302.59, 12846.31, 14859.65, 14020.76,\n",
       "       14775.76, 15173.24, 12846.31, 16537.44, 15195.21, 12846.31,\n",
       "       12846.31, 15866.32, 12846.31, 14272.43, 12846.31, 12846.31,\n",
       "       14775.76, 17108.18, 12846.31, 14490.54, 14121.43, 14926.76,\n",
       "       12846.31, 12846.31, 41932.9 , 15279.1 , 12846.31, 12846.31,\n",
       "       12846.31, 14826.1 , 15295.88, 15195.21, 15530.77, 16373.02,\n",
       "       19104.9 , 14725.43, 18920.42, 12846.31, 12846.31, 20341.04,\n",
       "       19781.65, 15564.32, 15195.21, 12846.31, 16392.38, 14926.76,\n",
       "       15195.21, 15950.21, 15866.32, 15195.21, 18942.76, 12846.31,\n",
       "       12846.31, 14940.19, 12846.31, 15765.66, 16045.83, 12948.92,\n",
       "       12846.31, 12846.31, 15195.21, 12846.31, 21385.  , 12846.31,\n",
       "       12846.31, 17902.39, 16097.86, 12846.31, 12846.31, 12846.31,\n",
       "       14300.64, 12846.31, 15027.8 , 15362.99, 15916.66, 16131.41,\n",
       "       12846.31, 15195.21, 14859.65, 15373.05, 14792.54, 15651.57,\n",
       "       14859.65, 16974.03, 12846.31, 12846.31, 15433.45, 12846.31,\n",
       "       23920.82, 12846.31, 16202.17, 15866.32, 14356.32, 14691.87,\n",
       "       16738.77, 14809.32, 12846.31, 14376.45, 12846.31, 16201.88,\n",
       "       15866.32, 17041.07, 12846.31, 14188.83, 16034.1 , 14953.61,\n",
       "       14248.94, 15900.4 , 12846.31, 15648.21, 12846.31, 16973.66,\n",
       "       15100.52, 14255.65, 12846.31, 14826.1 , 14188.54, 16201.88,\n",
       "       14356.32, 15195.21, 16772.55, 17913.67, 15396.54, 12846.31,\n",
       "       18461.7 , 14859.65, 13835.13, 14859.65, 14161.69, 12846.31,\n",
       "       15631.43, 17376.33, 12846.31, 15519.78, 12846.31, 15362.99,\n",
       "       17338.65, 16201.88, 15027.8 , 14909.99, 17544.48, 13852.98,\n",
       "       12846.31, 16034.1 , 18965.11, 14423.43, 19661.  , 15195.21,\n",
       "       12846.31, 12846.31, 15866.32, 12846.31, 14691.87, 14691.87,\n",
       "       14915.7 , 14691.87, 12846.31, 12846.31, 15698.55, 14859.8 ,\n",
       "       12846.31, 16034.1 , 17208.84, 17913.67, 15027.43, 13903.31,\n",
       "       15228.76, 14591.5 , 14356.32, 14456.98, 14322.76, 15027.43,\n",
       "       12846.31, 19401.41, 12846.31, 17354.28, 12846.31, 12846.31,\n",
       "       14859.65, 16268.99, 15094.54, 12846.31, 12846.31, 19502.15,\n",
       "       14524.09, 12846.31, 14636.01, 16202.03, 15530.77, 12846.31,\n",
       "       15077.76, 19502.15, 14926.76, 12846.31, 12846.31, 14524.09,\n",
       "       21448.38, 12846.31, 14873.07, 16369.66, 12846.31, 14188.54,\n",
       "       14909.99, 17835.35, 12846.31, 14188.54, 14305.98, 17902.39,\n",
       "       16482.13, 14300.64, 12846.45, 22063.89, 12846.31, 15866.32,\n",
       "       12846.31, 14456.98, 15362.99, 14037.54, 14658.32, 12846.31,\n",
       "       15346.21, 17729.11, 14507.32, 20229.31, 12846.31, 14882.37,\n",
       "       14020.76, 20128.57, 15318.67, 19177.61, 18215.6 , 14356.32,\n",
       "       15094.54, 19110.54, 12846.31, 16067.66, 19938.45, 14356.32,\n",
       "       14691.87, 16034.1 , 15983.91, 15664.99, 16873.  , 16191.27,\n",
       "       12846.31, 12846.31, 14691.87, 12846.31, 15279.1 , 12846.31,\n",
       "       16336.7 , 12846.31, 12846.31, 15698.55, 20889.14, 16604.55,\n",
       "       19032.22, 15195.21, 16773.  , 14356.32, 12846.31, 15815.99,\n",
       "       16470.33, 14691.87, 12846.31, 13044.35, 18232.45, 15094.54,\n",
       "       16201.88, 12846.31, 15195.21, 17857.69, 17342.78, 12846.31,\n",
       "       14665.03, 15027.43, 12846.31, 17980.78, 15933.44, 12846.31,\n",
       "       15866.32, 16000.55, 12846.31, 12846.31, 12846.31, 16201.88,\n",
       "       14227.92, 12846.31, 14859.65, 12846.31, 14946.9 , 16918.13,\n",
       "       15754.97, 17040.92, 14893.21, 14591.5 , 16268.99, 12846.31,\n",
       "       18316.34, 14691.87, 15530.77, 12846.31, 12846.31, 12846.31,\n",
       "       14893.21, 18646.37, 15698.55, 15074.88, 16336.7 , 14658.32,\n",
       "       15678.41, 12846.31, 16201.88, 15860.8 , 19334.37, 15530.77,\n",
       "       14691.87, 14524.09, 15027.43, 15597.88, 13007.98, 15027.43,\n",
       "       14879.79, 14909.99, 14188.54, 14692.02, 12846.31, 12846.31,\n",
       "       16034.1 , 16873.  , 15708.61, 14524.09, 16201.88, 15173.24,\n",
       "       22242.66, 14490.54, 20710.12, 21068.21, 12846.31, 15530.77,\n",
       "       12846.31, 14691.87, 15978.42, 15027.43, 15128.1 , 12846.31,\n",
       "       16448.28, 12846.31, 12846.31, 12846.31, 18607.2 , 16805.88,\n",
       "       23081.92, 15362.99, 16873.  , 12846.31, 16482.13, 12846.31,\n",
       "       15464.1 , 12846.31, 12846.31, 15027.43, 16520.66, 12846.31,\n",
       "       12846.31, 16537.44, 16191.27, 18758.35, 16482.13, 14456.98,\n",
       "       16503.88, 15020.72, 14691.87, 16705.59, 15866.32, 12846.31,\n",
       "       12846.31, 12846.31, 16045.83, 12846.31, 12846.31, 12846.31,\n",
       "       15295.88, 15195.21, 15027.43, 14876.43, 12846.31, 12846.31,\n",
       "       14188.54, 17180.9 , 12846.31, 14356.32, 15168.36, 16537.44,\n",
       "       12846.31, 15614.8 , 16507.54, 16490.76, 12846.31, 12846.31,\n",
       "       18484.12, 15362.99, 14675.1 , 12846.31, 12846.31, 12846.31,\n",
       "       16369.66, 20732.65, 12846.31, 16678.67, 17253.62, 12846.31,\n",
       "       22074.88, 20183.33, 15107.96, 16134.77, 19351.07, 19513.36,\n",
       "       19334.37, 16537.44, 15698.55, 19490.79, 19222.34, 17409.89,\n",
       "       16211.95, 12846.31, 16201.88, 19244.76, 14524.09, 12846.31,\n",
       "       16034.1 , 14725.43, 15060.99, 12846.31, 14792.54, 12846.31,\n",
       "       14524.24, 12846.31, 14859.65, 16336.73, 12846.31, 12846.31,\n",
       "       12846.31, 12846.31, 12846.31, 14188.54, 15698.55, 15530.77,\n",
       "       15530.77, 12846.31, 14792.54, 15312.65, 12846.31, 12846.31,\n",
       "       14725.43, 20013.34, 15027.43, 13835.13, 19390.05, 20967.46,\n",
       "       17622.8 , 16537.44, 20553.51, 14450.27, 12846.31, 12846.31,\n",
       "       15913.3 , 12846.31, 15362.99, 12846.31, 16201.88, 12846.31,\n",
       "       15362.99, 12846.31, 18584.86, 12846.31, 16364.35, 12846.31,\n",
       "       13856.34, 14742.21, 15832.77, 12846.31, 16034.1 , 12846.31,\n",
       "       19837.71, 17406.53, 16537.44, 12846.31, 14993.87, 12846.31,\n",
       "       12846.31, 12846.31, 18268.29, 18687.81, 12846.31, 12846.31,\n",
       "       12846.31, 14641.54, 14138.2 , 15198.56, 12846.31, 16168.33,\n",
       "       14356.32, 17729.  , 14692.02, 14658.32, 13651.65, 12846.31,\n",
       "       16045.83, 13852.98, 16146.2 , 12846.31, 14960.32, 18361.1 ,\n",
       "       14020.76, 13651.65, 17544.48, 15765.66, 12846.31, 12846.31,\n",
       "       12846.31, 12846.31, 12846.31, 14691.87, 22522.54, 15396.54,\n",
       "       12846.31, 17420.96, 14836.16, 14138.2 , 15195.21, 15027.43,\n",
       "       16537.44, 21012.16, 15362.99, 12846.31, 12846.31, 15095.45,\n",
       "       12846.31, 15648.21, 22466.49, 12846.31, 15597.88, 16873.  ,\n",
       "       15094.54, 15799.21, 12846.31, 15765.66, 15188.5 , 18355.46,\n",
       "       13042.24, 24340.26, 15027.8 , 14356.32, 12846.31, 18909.28,\n",
       "       12846.31, 15362.99, 14524.09, 14524.09, 12846.31, 15195.21,\n",
       "       13349.64, 12846.31, 15872.15, 12846.31, 12846.31, 16541.8 ,\n",
       "       12846.31, 16195.17, 16537.44, 15540.83, 14812.82, 12846.31,\n",
       "       15027.8 , 12846.31, 12846.31, 15362.99, 14440.21, 16890.11,\n",
       "       13209.38, 15530.77, 12846.31, 18573.5 , 14524.09, 15362.99,\n",
       "       15195.21, 14356.32, 12846.31, 12846.31, 12846.31, 14289.2 ,\n",
       "       12846.31, 15027.43, 15388.77, 15876.39, 15690.91, 14607.98,\n",
       "       18148.56, 14641.54, 17132.82, 12846.31, 15279.24, 15493.86,\n",
       "       16045.83, 14993.87, 15027.8 , 12846.31, 12846.31, 17645.22,\n",
       "       12846.31, 12846.31, 12846.31, 12846.31, 17209.3 , 14725.23,\n",
       "       15883.1 , 14269.07, 19637.37, 18383.38, 16537.44, 14826.1 ,\n",
       "       12846.31, 12846.31, 14524.09, 12846.31, 18607.13, 15698.55,\n",
       "       13573.47, 16118.55, 16918.43, 16459.49, 15452.67, 12846.31,\n",
       "       14188.54, 16201.88, 18573.5 , 12846.31, 21739.32, 15983.77,\n",
       "       13002.17, 14524.09, 15530.77, 12846.31, 16268.99, 17347.57,\n",
       "       18965.18, 12846.31, 12846.31, 14859.65, 12846.31, 14859.65,\n",
       "       15027.43, 12846.31, 14990.52, 18461.77, 12846.31, 12846.31,\n",
       "       21571.54, 15027.8 , 16067.66, 16996.46, 15698.55, 15027.43,\n",
       "       23920.82, 15698.55, 12846.31, 12846.31, 12846.31, 14691.87,\n",
       "       16369.66, 12846.31, 19261.65, 12846.31, 12846.31, 12846.31,\n",
       "       15027.43, 16201.88, 19211.28, 12994.66, 16873.  , 15362.99,\n",
       "       15362.99, 14188.54, 18484.12, 12846.31, 14524.09, 15111.32,\n",
       "       14300.64, 15530.77, 14993.87, 12846.31, 12846.31, 15654.92,\n",
       "       12846.31, 18338.68, 12846.31, 12846.31, 14473.76, 14524.09,\n",
       "       16191.27, 14691.87, 17645.22, 15352.92, 12846.31, 12846.31,\n",
       "       15249.  , 19060.17, 12846.31, 21124.26, 16943.46, 17865.47,\n",
       "       15675.06, 16101.21, 17924.73, 12846.31, 21235.98, 16453.55,\n",
       "       14859.65, 16437.07, 14188.54, 13920.09, 14054.31, 12846.31,\n",
       "       15027.43, 18193.25, 12846.31, 12846.31, 16034.1 , 16627.57,\n",
       "       12846.45, 14641.54, 12846.31, 15698.55, 12846.31, 16118.55,\n",
       "       14020.76, 12846.31, 12846.31, 12846.31, 14859.65, 16235.44,\n",
       "       14893.21, 15698.55, 14591.5 , 14859.65, 12846.31, 15027.43,\n",
       "       14943.54, 14742.21, 16034.1 , 13987.2 , 15027.43, 18224.59,\n",
       "       17236.88, 15624.72, 14859.65, 12846.31, 15094.54, 16201.88,\n",
       "       14859.65, 12846.31, 14591.5 , 17040.77, 17709.97, 12846.31,\n",
       "       19300.66, 16932.53, 17879.67, 12846.31, 15517.34, 12846.31,\n",
       "       14188.54, 14970.39, 17678.63, 20195.61, 14020.76, 12846.31,\n",
       "       14283.67, 16268.99, 15899.88, 16034.1 , 12846.31, 14300.64,\n",
       "       12846.31, 12846.31, 12846.31, 16537.44, 15950.21, 14859.65,\n",
       "       18237.94, 15318.67, 12846.31, 17376.33, 21571.54, 14356.32,\n",
       "       18417.15, 12846.31, 15530.77, 12846.31, 12846.31, 14792.54,\n",
       "       14792.54, 16027.67, 12846.31, 12846.31, 14742.21, 18898.07,\n",
       "       14725.43, 17522.14, 12846.31, 19453.88, 12846.31, 14736.94,\n",
       "       14557.65, 12846.31, 12846.31, 12846.31, 12846.31, 15027.58,\n",
       "       15464.1 , 17707.84, 16369.66, 16705.59, 19211.13, 15362.99,\n",
       "       15027.43, 12846.31, 15289.17, 14951.59, 17242.41, 15464.1 ,\n",
       "       16537.44, 14557.65, 15362.99, 17209.3 , 20844.23, 17488.43,\n",
       "       12846.31, 15235.48, 12846.31, 12846.31, 14524.09, 14591.5 ,\n",
       "       17208.55, 15195.21, 14955.09, 14882.37, 15094.54, 14859.65,\n",
       "       17399.05, 15195.21, 16873.37, 12846.31, 16705.59, 12846.31,\n",
       "       15318.67, 19671.07, 12846.31, 22410.81, 15900.4 , 18878.91,\n",
       "       12846.31, 17711.89, 16079.17, 18092.73, 12846.31, 16330.91,\n",
       "       12846.31, 12846.31, 12846.31, 12846.31, 14882.37, 15916.66,\n",
       "       14356.32, 14322.76, 12846.31, 14859.65, 12846.31, 14561.01,\n",
       "       20397.09, 15027.43, 12846.31, 14960.32, 15530.77, 15866.32,\n",
       "       14691.87, 12846.31, 12846.31, 12846.31, 22343.4 , 15832.77,\n",
       "       14691.87, 16191.27, 14356.32, 15362.99, 14698.58, 17108.18,\n",
       "       14624.76, 15765.66, 15530.77, 14406.65, 12846.31, 20452.77,\n",
       "       14826.1 , 13052.47, 12846.31, 16073.49, 18215.67, 12846.31,\n",
       "       15128.1 , 15866.32, 12846.31, 12846.31, 12846.31, 12846.31,\n",
       "       14624.76, 12846.31, 14827.07])"
      ]
     },
     "execution_count": 722,
     "metadata": {},
     "output_type": "execute_result"
    }
   ],
   "source": [
    "regressor.predict(x_test)"
   ]
  },
  {
   "cell_type": "code",
   "execution_count": 723,
   "metadata": {},
   "outputs": [
    {
     "name": "stdout",
     "output_type": "stream",
     "text": [
      "[[12846.31 17000.  ]\n",
      " [18763.85 22000.  ]\n",
      " [18967.39 21000.  ]\n",
      " ...\n",
      " [14624.76 15000.  ]\n",
      " [12846.31 12000.  ]\n",
      " [14827.07 11000.  ]]\n"
     ]
    }
   ],
   "source": [
    "y_pred = regressor.predict(x_test)\n",
    "np.set_printoptions(precision=2)\n",
    "print(np.concatenate((y_pred.reshape(len(y_pred),1), y_test.reshape(len(y_test),1)),1))"
   ]
  },
  {
   "cell_type": "code",
   "execution_count": 724,
   "metadata": {},
   "outputs": [
    {
     "name": "stdout",
     "output_type": "stream",
     "text": [
      "12846.30805788961\n",
      "[3.36 0.15]\n",
      "Intercept: 12846.308\n",
      "R2 score : 0.206\n",
      "MSE: 30211530.443\n",
      "RMSE: 5496.502\n",
      "MAE: 66.801\n"
     ]
    }
   ],
   "source": [
    "from sklearn.metrics import mean_squared_error, r2_score, mean_absolute_error\n",
    "from math import sqrt\n",
    "print(regressor.intercept_)\n",
    "print(regressor.coef_)\n",
    "print(\"Intercept: %0.3f\" % regressor.intercept_)\n",
    "print(\"R2 score : %.3f\" % r2_score(y_test, regressor.predict(x_test)))\n",
    "print(\"MSE: %.3f\" % mean_squared_error(y_test, regressor.predict(x_test)))\n",
    "print(\"RMSE: %.3f\" % sqrt(mean_squared_error(y_test, regressor.predict(x_test))))\n",
    "print(\"MAE: %.3f\" % sqrt(mean_absolute_error(y_test, regressor.predict(x_test))))"
   ]
  },
  {
   "cell_type": "markdown",
   "metadata": {},
   "source": [
    "70:30"
   ]
  },
  {
   "cell_type": "code",
   "execution_count": 725,
   "metadata": {},
   "outputs": [],
   "source": [
    "from sklearn.model_selection import train_test_split\n",
    "x_train, x_test, y_train, y_test = train_test_split(x_sr, y, test_size=0.3, random_state=0)"
   ]
  },
  {
   "cell_type": "code",
   "execution_count": 726,
   "metadata": {},
   "outputs": [
    {
     "data": {
      "text/plain": [
       "LinearRegression()"
      ]
     },
     "execution_count": 726,
     "metadata": {},
     "output_type": "execute_result"
    }
   ],
   "source": [
    "from sklearn.linear_model import LinearRegression\n",
    "regressor = LinearRegression()\n",
    "regressor.fit(x_train, y_train)"
   ]
  },
  {
   "cell_type": "code",
   "execution_count": 727,
   "metadata": {},
   "outputs": [
    {
     "data": {
      "text/plain": [
       "array([12784.22, 19195.05, 19373.06, ..., 63385.08, 12784.22, 20773.75])"
      ]
     },
     "execution_count": 727,
     "metadata": {},
     "output_type": "execute_result"
    }
   ],
   "source": [
    "regressor.predict(x_test)"
   ]
  },
  {
   "cell_type": "code",
   "execution_count": 728,
   "metadata": {},
   "outputs": [
    {
     "name": "stdout",
     "output_type": "stream",
     "text": [
      "12784.22139310419\n",
      "[3.33 0.17]\n",
      "R2 score : 0.152\n",
      "MSE: 32075203.035\n",
      "RMSE: 5663.497\n",
      "MAE: 67.246\n"
     ]
    }
   ],
   "source": [
    "from sklearn.metrics import mean_squared_error, r2_score, mean_absolute_error\n",
    "from math import sqrt\n",
    "print(regressor.intercept_)\n",
    "print(regressor.coef_)\n",
    "print(\"R2 score : %.3f\" % r2_score(y_test, regressor.predict(x_test)))\n",
    "print(\"MSE: %.3f\" % mean_squared_error(y_test, regressor.predict(x_test)))\n",
    "print(\"RMSE: %.3f\" % sqrt(mean_squared_error(y_test, regressor.predict(x_test))))\n",
    "print(\"MAE: %.3f\" % sqrt(mean_absolute_error(y_test, regressor.predict(x_test))))"
   ]
  },
  {
   "cell_type": "markdown",
   "metadata": {},
   "source": [
    "50:50"
   ]
  },
  {
   "cell_type": "code",
   "execution_count": 729,
   "metadata": {},
   "outputs": [],
   "source": [
    "from sklearn.model_selection import train_test_split\n",
    "x_train, x_test, y_train, y_test = train_test_split(x_sr, y, test_size=0.5, random_state=0)"
   ]
  },
  {
   "cell_type": "code",
   "execution_count": 730,
   "metadata": {},
   "outputs": [
    {
     "data": {
      "text/plain": [
       "LinearRegression()"
      ]
     },
     "execution_count": 730,
     "metadata": {},
     "output_type": "execute_result"
    }
   ],
   "source": [
    "from sklearn.linear_model import LinearRegression\n",
    "regressor = LinearRegression()\n",
    "regressor.fit(x_train, y_train)"
   ]
  },
  {
   "cell_type": "code",
   "execution_count": 731,
   "metadata": {},
   "outputs": [
    {
     "data": {
      "text/plain": [
       "array([12707.77, 19039.78, 19248.29, ..., 14776.52, 12707.77, 17113.53])"
      ]
     },
     "execution_count": 731,
     "metadata": {},
     "output_type": "execute_result"
    }
   ],
   "source": [
    "regressor.predict(x_test)"
   ]
  },
  {
   "cell_type": "code",
   "execution_count": 732,
   "metadata": {},
   "outputs": [
    {
     "name": "stdout",
     "output_type": "stream",
     "text": [
      "12707.770876911118\n",
      "[3.52 0.16]\n",
      "R2 score : 0.170\n",
      "MSE: 31903051.523\n",
      "RMSE: 5648.279\n",
      "MAE: 67.408\n"
     ]
    }
   ],
   "source": [
    "from sklearn.metrics import mean_squared_error, r2_score, mean_absolute_error\n",
    "from math import sqrt\n",
    "print(regressor.intercept_)\n",
    "print(regressor.coef_)\n",
    "print(\"R2 score : %.3f\" % r2_score(y_test, regressor.predict(x_test)))\n",
    "print(\"MSE: %.3f\" % mean_squared_error(y_test, regressor.predict(x_test)))\n",
    "print(\"RMSE: %.3f\" % sqrt(mean_squared_error(y_test, regressor.predict(x_test))))\n",
    "print(\"MAE: %.3f\" % sqrt(mean_absolute_error(y_test, regressor.predict(x_test))))"
   ]
  },
  {
   "cell_type": "code",
   "execution_count": null,
   "metadata": {},
   "outputs": [],
   "source": []
  },
  {
   "cell_type": "markdown",
   "metadata": {},
   "source": [
    "area and brok_amt and deposit_amt\t"
   ]
  },
  {
   "cell_type": "markdown",
   "metadata": {},
   "source": [
    "without split"
   ]
  },
  {
   "cell_type": "code",
   "execution_count": 733,
   "metadata": {},
   "outputs": [],
   "source": [
    "x_sr = data.iloc[:, 7:10].values"
   ]
  },
  {
   "cell_type": "code",
   "execution_count": 734,
   "metadata": {},
   "outputs": [
    {
     "data": {
      "text/plain": [
       "LinearRegression()"
      ]
     },
     "execution_count": 734,
     "metadata": {},
     "output_type": "execute_result"
    }
   ],
   "source": [
    "from sklearn.linear_model import LinearRegression\n",
    "regressor = LinearRegression()\n",
    "regressor.fit(x_sr, y)"
   ]
  },
  {
   "cell_type": "code",
   "execution_count": 735,
   "metadata": {},
   "outputs": [
    {
     "data": {
      "text/plain": [
       "array([12759.73, 16328.59, 15818.71, ..., 12759.78, 12759.77, 19738.62])"
      ]
     },
     "execution_count": 735,
     "metadata": {},
     "output_type": "execute_result"
    }
   ],
   "source": [
    "regressor.predict(x_sr)"
   ]
  },
  {
   "cell_type": "code",
   "execution_count": 736,
   "metadata": {},
   "outputs": [
    {
     "name": "stdout",
     "output_type": "stream",
     "text": [
      "12759.73390583996\n",
      "[3.40e+00 1.53e-01 1.56e-06]\n",
      "R2 score : 0.173\n",
      "MSE: 31663837.185\n",
      "RMSE: 5627.063\n",
      "MAE: 67.385\n"
     ]
    }
   ],
   "source": [
    "from sklearn.metrics import mean_squared_error, r2_score, mean_absolute_error\n",
    "from math import sqrt\n",
    "print(regressor.intercept_)\n",
    "print(regressor.coef_)\n",
    "print(\"R2 score : %.3f\" % r2_score(y, regressor.predict(x_sr)))\n",
    "print(\"MSE: %.3f\" % mean_squared_error(y, regressor.predict(x_sr)))\n",
    "print(\"RMSE: %.3f\" % sqrt(mean_squared_error(y, regressor.predict(x_sr))))\n",
    "print(\"MAE: %.3f\" % sqrt(mean_absolute_error(y, regressor.predict(x_sr))))"
   ]
  },
  {
   "cell_type": "markdown",
   "metadata": {},
   "source": [
    "80:20"
   ]
  },
  {
   "cell_type": "code",
   "execution_count": 737,
   "metadata": {},
   "outputs": [
    {
     "data": {
      "text/plain": [
       "LinearRegression()"
      ]
     },
     "execution_count": 737,
     "metadata": {},
     "output_type": "execute_result"
    }
   ],
   "source": [
    "from sklearn.model_selection import train_test_split\n",
    "from sklearn.linear_model import LinearRegression\n",
    "\n",
    "x_sr = data.iloc[:, 7:10].values\n",
    "\n",
    "x_train, x_test, y_train, y_test = train_test_split(x_sr, y, test_size=0.2, random_state=0)\n",
    "regressor = LinearRegression()\n",
    "regressor.fit(x_train, y_train)"
   ]
  },
  {
   "cell_type": "code",
   "execution_count": 738,
   "metadata": {},
   "outputs": [
    {
     "data": {
      "text/plain": [
       "array([12846.16, 18763.1 , 18966.58, 15529.42, 14684.17, 14690.91,\n",
       "       12846.12, 15864.88, 14392.36, 12846.09, 15110.15, 17991.04,\n",
       "       18044.7 , 14690.91, 16200.25, 12846.09, 15798.82, 16535.96,\n",
       "       14523.21, 15864.83, 20497.15, 16939.58, 12846.09, 12846.14,\n",
       "       17542.35, 12846.22, 17210.11, 15697.17, 17064.69, 18919.59,\n",
       "       22342.13, 12846.09, 20564.22, 19881.73, 14825.06, 14523.21,\n",
       "       18527.7 , 12846.09, 14523.17, 14992.79, 14858.62, 12846.2 ,\n",
       "       13573.42, 15194.05, 12846.1 , 15194.04, 16032.62, 12846.15,\n",
       "       18733.9 , 15495.94, 16535.74, 20105.57, 15194.05, 19624.71,\n",
       "       12846.09, 14187.78, 15401.96, 15026.35, 12846.09, 12846.12,\n",
       "       15083.39, 15755.42, 14389.04, 15026.29, 14355.51, 13919.42,\n",
       "       14489.64, 16368.05, 16482.74, 15482.5 , 14858.6 , 16535.7 ,\n",
       "       14003.32, 18596.13, 15301.44, 12846.2 , 14858.58, 14020.07,\n",
       "       14774.73, 15173.53, 12846.14, 16535.79, 15194.  , 12846.16,\n",
       "       12846.13, 15864.91, 12846.15, 14271.68, 12846.09, 12846.09,\n",
       "       14774.79, 17107.3 , 12846.11, 14489.66, 14120.71, 14925.71,\n",
       "       12846.09, 12846.09, 41938.31, 15277.85, 12846.09, 12846.13,\n",
       "       12846.16, 14825.07, 15294.7 , 15194.07, 15529.42, 16371.39,\n",
       "       19103.74, 14724.46, 18919.52, 12846.13, 12846.18, 20339.98,\n",
       "       19780.3 , 15563.01, 15194.06, 12846.12, 16392.  , 14925.73,\n",
       "       15194.09, 15948.76, 15864.89, 15194.  , 18941.84, 12846.13,\n",
       "       12846.13, 14939.08, 12846.1 , 15764.27, 16046.31, 12948.7 ,\n",
       "       12846.13, 12846.09, 15194.08, 12846.24, 21384.88, 12846.09,\n",
       "       12846.13, 17901.35, 16096.27, 12846.09, 12846.15, 12846.16,\n",
       "       14300.76, 12846.19, 15028.07, 15361.71, 15915.15, 16129.91,\n",
       "       12846.2 , 15194.08, 14858.66, 15371.85, 14791.55, 15650.23,\n",
       "       14858.65, 16973.48, 12846.09, 12846.15, 15432.22, 12846.12,\n",
       "       23919.95, 12846.15, 16200.69, 15864.83, 14355.49, 14690.88,\n",
       "       16736.91, 14808.32, 12846.1 , 14375.61, 12846.09, 16200.31,\n",
       "       15864.83, 17039.08, 12846.25, 14188.11, 16032.62, 14952.5 ,\n",
       "       14248.19, 15900.77, 12846.16, 15646.9 , 12846.11, 16971.71,\n",
       "       15100.81, 14254.87, 12846.09, 14825.09, 14187.8 , 16200.32,\n",
       "       14355.5 , 15194.08, 16771.51, 17913.  , 15395.31, 12846.09,\n",
       "       18460.61, 14858.62, 13834.69, 14858.63, 14160.94, 12846.12,\n",
       "       15630.1 , 17374.3 , 12846.13, 15519.15, 12846.2 , 15361.77,\n",
       "       17337.86, 16200.32, 15028.07, 14908.95, 17543.7 , 13852.36,\n",
       "       12846.14, 16032.63, 18964.09, 14422.57, 19660.24, 15194.05,\n",
       "       12846.09, 12846.19, 15864.89, 12846.11, 14690.91, 14690.9 ,\n",
       "       14915.08, 14690.88, 12846.12, 12846.09, 15697.19, 14858.79,\n",
       "       12846.13, 16032.54, 17206.79, 17912.99, 15026.35, 13902.68,\n",
       "       15227.54, 14591.66, 14355.46, 14456.09, 14321.96, 15026.34,\n",
       "       12846.09, 19400.49, 12846.13, 17353.37, 12846.16, 12846.13,\n",
       "       14858.66, 16267.38, 15093.45, 12846.16, 12846.15, 19501.47,\n",
       "       14523.17, 12846.1 , 14635.28, 16200.49, 15529.48, 12846.09,\n",
       "       15076.64, 19501.47, 14925.67, 12846.09, 12846.16, 14523.17,\n",
       "       21446.88, 12846.16, 14872.04, 16368.01, 12846.13, 14187.75,\n",
       "       14908.94, 17834.55, 12846.16, 14187.78, 14305.19, 17901.35,\n",
       "       16482.77, 14300.76, 12846.23, 22063.38, 12846.2 , 15864.91,\n",
       "       12846.12, 14456.12, 15361.73, 14036.85, 14657.4 , 12846.09,\n",
       "       15344.94, 17728.45, 14506.4 , 20228.74, 12846.1 , 14882.62,\n",
       "       14020.04, 20127.85, 15319.  , 19176.38, 18214.53, 14355.46,\n",
       "       15093.38, 19109.47, 12846.13, 16066.08, 19937.74, 14355.51,\n",
       "       14690.91, 16032.65, 15982.48, 15663.64, 16871.14, 16191.78,\n",
       "       12846.16, 12846.12, 14690.91, 12846.13, 15277.99, 12846.11,\n",
       "       16337.26, 12846.12, 12846.13, 15697.13, 20887.86, 16602.82,\n",
       "       19031.18, 15194.05, 16773.64, 14355.46, 12846.09, 15814.6 ,\n",
       "       16468.62, 14690.88, 12846.13, 13044.05, 18231.65, 15093.42,\n",
       "       16200.32, 12846.12, 15194.08, 17856.79, 17340.75, 12846.11,\n",
       "       14664.13, 15026.31, 12846.14, 17980.08, 15932.07, 12846.21,\n",
       "       15864.83, 15999.04, 12846.14, 12846.09, 12846.15, 16200.29,\n",
       "       14228.01, 12846.85, 14858.62, 12846.1 , 14945.91, 16917.7 ,\n",
       "       15755.31, 17039.09, 14892.22, 14591.67, 16267.36, 12846.13,\n",
       "       18315.49, 14690.95, 15529.49, 12846.13, 12846.15, 12846.13,\n",
       "       14892.16, 18645.63, 15697.18, 15073.72, 16337.31, 14657.34,\n",
       "       15677.  , 12846.16, 16200.25, 15861.16, 19333.65, 15529.47,\n",
       "       14690.97, 14523.24, 15026.33, 15596.55, 13007.75, 15026.32,\n",
       "       14878.79, 14908.94, 14187.78, 14691.1 , 12846.09, 12846.12,\n",
       "       16032.62, 16871.11, 15707.23, 14523.17, 16200.28, 15173.53,\n",
       "       22241.28, 14489.63, 20708.84, 21067.36, 12846.09, 15529.48,\n",
       "       12846.18, 14690.94, 15977.83, 15026.29, 15126.96, 12846.09,\n",
       "       16447.78, 12846.13, 12846.1 , 12846.13, 18606.42, 16804.09,\n",
       "       23081.41, 15361.71, 16871.08, 12846.22, 16482.62, 12846.09,\n",
       "       15464.39, 12846.16, 12846.09, 15026.29, 16518.93, 12846.09,\n",
       "       12846.11, 16535.67, 16191.84, 18758.12, 16482.73, 14456.1 ,\n",
       "       16502.25, 15019.65, 14690.95, 16705.14, 15864.88, 12846.14,\n",
       "       12846.09, 12846.12, 16046.32, 12846.16, 12846.09, 12846.14,\n",
       "       15294.72, 15194.08, 15026.35, 14875.38, 12846.18, 12846.09,\n",
       "       14187.86, 17179.97, 12846.12, 14355.46, 15167.17, 16535.76,\n",
       "       12846.13, 15613.42, 16506.89, 16490.12, 12846.15, 12846.09,\n",
       "       18483.21, 15361.75, 14674.14, 12846.12, 12846.09, 12846.09,\n",
       "       16367.96, 20731.79, 12846.12, 16677.96, 17252.7 , 12846.16,\n",
       "       22073.47, 20182.29, 15106.84, 16133.32, 19350.18, 19512.77,\n",
       "       19333.65, 16535.7 , 15697.16, 19489.45, 19221.12, 17407.84,\n",
       "       16210.37, 12846.09, 16200.31, 19243.73, 14523.2 , 12846.16,\n",
       "       16032.62, 14724.45, 15059.87, 12846.09, 14791.54, 12846.16,\n",
       "       14523.38, 12846.16, 14858.62, 16337.17, 12846.12, 12846.11,\n",
       "       12846.14, 12846.13, 12846.13, 14187.78, 15697.13, 15529.46,\n",
       "       15529.42, 12846.12, 14791.55, 15311.4 , 12846.09, 12846.12,\n",
       "       14724.46, 20012.55, 15026.32, 13834.69, 19388.53, 20966.35,\n",
       "       17622.06, 16535.74, 20552.19, 14449.47, 12846.15, 12846.09,\n",
       "       15911.79, 12846.09, 15361.71, 12846.12, 16200.25, 12846.16,\n",
       "       15361.74, 12846.09, 18584.1 , 12846.09, 16363.73, 12846.09,\n",
       "       13855.69, 14741.23, 15831.33, 12846.16, 16032.62, 12846.15,\n",
       "       19836.87, 17404.39, 16535.74, 12846.13, 14992.8 , 12846.09,\n",
       "       12846.16, 12846.09, 18267.67, 18687.19, 12846.12, 12846.17,\n",
       "       12846.09, 14640.56, 14137.47, 15197.36, 12846.13, 16166.81,\n",
       "       14355.5 , 17728.01, 14691.1 , 14657.34, 13651.13, 12846.18,\n",
       "       16046.31, 13852.34, 16145.53, 12846.12, 14959.26, 18360.34,\n",
       "       14020.06, 13651.12, 17543.7 , 15764.25, 12846.13, 12846.16,\n",
       "       12846.11, 12846.1 , 12846.16, 14690.95, 22522.04, 15395.3 ,\n",
       "       12846.13, 17420.17, 14835.14, 14137.44, 15194.05, 15026.34,\n",
       "       16535.67, 21010.84, 15361.75, 12846.13, 12846.13, 15094.32,\n",
       "       12846.09, 15646.9 , 22465.34, 12846.09, 15596.57, 16871.08,\n",
       "       15093.41, 15797.81, 12846.18, 15764.21, 15187.35, 18354.52,\n",
       "       13041.98, 24339.22, 15028.07, 14355.48, 12846.09, 18908.65,\n",
       "       12846.16, 15361.71, 14523.18, 14523.21, 12846.09, 15194.06,\n",
       "       13349.22, 12846.29, 15871.51, 12846.12, 12846.11, 16540.12,\n",
       "       12846.13, 16193.66, 16535.73, 15539.56, 14811.83, 12846.09,\n",
       "       15028.05, 12846.09, 12846.27, 15361.76, 14439.36, 16889.45,\n",
       "       13209.16, 15529.53, 12846.09, 18572.17, 14523.21, 15361.75,\n",
       "       15194.04, 14355.48, 12846.09, 12846.16, 12846.18, 14288.38,\n",
       "       12846.15, 15026.29, 15389.07, 15874.93, 15690.25, 14607.07,\n",
       "       18147.82, 14640.61, 17132.01, 12846.16, 15278.05, 15492.52,\n",
       "       16046.38, 14992.8 , 15028.08, 12846.13, 12846.09, 17644.65,\n",
       "       12846.13, 12846.09, 12846.12, 12846.09, 17209.92, 14724.29,\n",
       "       15881.65, 14268.25, 19636.07, 18382.23, 16535.76, 14825.1 ,\n",
       "       12846.09, 12846.16, 14523.21, 12846.16, 18606.08, 15697.17,\n",
       "       13573.43, 16119.05, 16919.11, 16459.04, 15452.1 , 12846.13,\n",
       "       14187.78, 16200.31, 18572.19, 12846.09, 21738.04, 15982.3 ,\n",
       "       13001.96, 14523.22, 15529.42, 12846.11, 16267.41, 17346.68,\n",
       "       18964.35, 12846.09, 12846.09, 14858.62, 12846.13, 14858.63,\n",
       "       15026.34, 12846.16, 14989.47, 18460.89, 12846.09, 12846.16,\n",
       "       21570.48, 15028.07, 16066.08, 16996.06, 15697.22, 15026.32,\n",
       "       23919.95, 15697.13, 12846.09, 12846.2 , 12846.13, 14690.91,\n",
       "       16368.06, 12846.1 , 19260.92, 12846.14, 12846.15, 12846.09,\n",
       "       15026.35, 16200.34, 19210.44, 12994.39, 16871.14, 15361.72,\n",
       "       15361.71, 14187.75, 18483.13, 12846.09, 14523.17, 15110.15,\n",
       "       14300.73, 15529.42, 14992.8 , 12846.16, 12846.09, 15653.6 ,\n",
       "       12846.16, 18337.75, 12846.14, 12846.16, 14472.89, 14523.17,\n",
       "       16191.81, 14690.9 , 17644.67, 15351.76, 12846.24, 12846.09,\n",
       "       15249.18, 19058.99, 12846.09, 21123.68, 16941.67, 17864.45,\n",
       "       15673.71, 16099.62, 17923.59, 12846.14, 21235.07, 16451.92,\n",
       "       14858.66, 16436.45, 14187.78, 13919.42, 14053.59, 12846.09,\n",
       "       15026.31, 18192.26, 12846.09, 12846.09, 16032.63, 16628.08,\n",
       "       12846.29, 14640.61, 12846.14, 15697.16, 12846.13, 16119.06,\n",
       "       14020.04, 12846.16, 12846.15, 12846.09, 14858.58, 16233.87,\n",
       "       14892.17, 15697.19, 14591.66, 14858.6 , 12846.12, 15026.29,\n",
       "       14942.44, 14741.23, 16032.54, 13986.53, 15026.33, 18223.72,\n",
       "       17236.1 , 15623.41, 14858.65, 12846.13, 15093.47, 16200.25,\n",
       "       14858.62, 12846.2 , 14591.67, 17038.9 , 17708.87, 12846.09,\n",
       "       19299.43, 16931.53, 17877.33, 12846.09, 15516.05, 12846.16,\n",
       "       14187.78, 14969.31, 17677.49, 20194.44, 14020.07, 12846.16,\n",
       "       14283.09, 16267.42, 15898.45, 16032.6 , 12846.15, 14300.74,\n",
       "       12846.16, 12846.09, 12846.12, 16535.68, 15948.76, 14858.58,\n",
       "       18236.77, 15319.  , 12846.15, 17374.28, 21570.48, 14355.48,\n",
       "       18416.83, 12846.09, 15529.42, 12846.09, 12846.16, 14791.54,\n",
       "       14791.5 , 16027.13, 12846.09, 12846.09, 14741.26, 18897.37,\n",
       "       14724.44, 17521.44, 12846.17, 19452.58, 12846.09, 14737.13,\n",
       "       14556.73, 12846.09, 12846.2 , 12846.13, 12846.09, 15026.51,\n",
       "       15464.39, 17707.17, 16368.03, 16705.09, 19209.82, 15361.82,\n",
       "       15026.29, 12846.14, 15287.92, 14950.49, 17241.47, 15464.39,\n",
       "       16535.74, 14556.77, 15361.74, 17209.92, 20842.99, 17487.2 ,\n",
       "       12846.09, 15234.31, 12846.09, 12846.09, 14523.21, 14591.62,\n",
       "       17206.63, 15194.  , 14955.32, 14882.6 , 15093.44, 14858.63,\n",
       "       17398.22, 15194.06, 16872.79, 12846.13, 16705.14, 12846.1 ,\n",
       "       15318.99, 19670.3 , 12846.15, 22410.73, 15900.86, 18878.32,\n",
       "       12846.16, 17709.62, 16078.82, 18092.27, 12846.09, 16330.71,\n",
       "       12846.09, 12846.13, 12846.12, 12846.15, 14882.59, 15915.22,\n",
       "       14355.49, 14321.94, 12846.2 , 14858.64, 12846.15, 14560.06,\n",
       "       20396.37, 15026.32, 12846.09, 14959.24, 15529.48, 15864.83,\n",
       "       14690.95, 12846.16, 12846.12, 12846.19, 22342.13, 15831.29,\n",
       "       14690.92, 16191.69, 14355.49, 15361.78, 14697.68, 17107.3 ,\n",
       "       14623.79, 15764.27, 15529.49, 14405.8 , 12846.1 , 20451.23,\n",
       "       14825.08, 13052.21, 12846.18, 16072.8 , 18214.88, 12846.13,\n",
       "       15126.96, 15864.87, 12846.16, 12846.11, 12846.09, 12846.13,\n",
       "       14623.86, 12846.13, 14826.06])"
      ]
     },
     "execution_count": 738,
     "metadata": {},
     "output_type": "execute_result"
    }
   ],
   "source": [
    "regressor.predict(x_test)"
   ]
  },
  {
   "cell_type": "code",
   "execution_count": 739,
   "metadata": {},
   "outputs": [
    {
     "name": "stdout",
     "output_type": "stream",
     "text": [
      "[[12846.16 17000.  ]\n",
      " [18763.1  22000.  ]\n",
      " [18966.58 21000.  ]\n",
      " ...\n",
      " [14623.86 15000.  ]\n",
      " [12846.13 12000.  ]\n",
      " [14826.06 11000.  ]]\n"
     ]
    }
   ],
   "source": [
    "y_pred = regressor.predict(x_test)\n",
    "np.set_printoptions(precision=2)\n",
    "print(np.concatenate((y_pred.reshape(len(y_pred),1), y_test.reshape(len(y_test),1)),1))"
   ]
  },
  {
   "cell_type": "code",
   "execution_count": 740,
   "metadata": {},
   "outputs": [
    {
     "name": "stdout",
     "output_type": "stream",
     "text": [
      "12846.088221166305\n",
      "[3.35e+00 1.45e-01 1.51e-06]\n",
      "Intercept: 12846.088\n",
      "R2 score : 0.206\n",
      "MSE: 30210996.859\n",
      "RMSE: 5496.453\n",
      "MAE: 66.801\n"
     ]
    }
   ],
   "source": [
    "from sklearn.metrics import mean_squared_error, r2_score, mean_absolute_error\n",
    "from math import sqrt\n",
    "print(regressor.intercept_)\n",
    "print(regressor.coef_)\n",
    "print(\"Intercept: %0.3f\" % regressor.intercept_)\n",
    "print(\"R2 score : %.3f\" % r2_score(y_test, regressor.predict(x_test)))\n",
    "print(\"MSE: %.3f\" % mean_squared_error(y_test, regressor.predict(x_test)))\n",
    "print(\"RMSE: %.3f\" % sqrt(mean_squared_error(y_test, regressor.predict(x_test))))\n",
    "print(\"MAE: %.3f\" % sqrt(mean_absolute_error(y_test, regressor.predict(x_test))))"
   ]
  },
  {
   "cell_type": "markdown",
   "metadata": {},
   "source": [
    "70:30"
   ]
  },
  {
   "cell_type": "code",
   "execution_count": 741,
   "metadata": {},
   "outputs": [
    {
     "data": {
      "text/plain": [
       "LinearRegression()"
      ]
     },
     "execution_count": 741,
     "metadata": {},
     "output_type": "execute_result"
    }
   ],
   "source": [
    "from sklearn.model_selection import train_test_split\n",
    "from sklearn.linear_model import LinearRegression\n",
    "\n",
    "x_sr = data.iloc[:, 7:10].values\n",
    "\n",
    "x_train, x_test, y_train, y_test = train_test_split(x_sr, y, test_size=0.3, random_state=0)\n",
    "regressor = LinearRegression()\n",
    "regressor.fit(x_train, y_train)"
   ]
  },
  {
   "cell_type": "code",
   "execution_count": 742,
   "metadata": {},
   "outputs": [
    {
     "data": {
      "text/plain": [
       "array([12784.04, 19194.28, 19372.18, ..., 63396.75, 12784.02, 20773.05])"
      ]
     },
     "execution_count": 742,
     "metadata": {},
     "output_type": "execute_result"
    }
   ],
   "source": [
    "regressor.predict(x_test)"
   ]
  },
  {
   "cell_type": "code",
   "execution_count": 743,
   "metadata": {},
   "outputs": [
    {
     "name": "stdout",
     "output_type": "stream",
     "text": [
      "12783.960031279501\n",
      "[3.33e+00 1.69e-01 1.55e-06]\n",
      "Intercept: 12783.960\n",
      "R2 score : 0.152\n",
      "MSE: 32075222.817\n",
      "RMSE: 5663.499\n",
      "MAE: 67.245\n"
     ]
    }
   ],
   "source": [
    "from sklearn.metrics import mean_squared_error, r2_score, mean_absolute_error\n",
    "from math import sqrt\n",
    "print(regressor.intercept_)\n",
    "print(regressor.coef_)\n",
    "print(\"Intercept: %0.3f\" % regressor.intercept_)\n",
    "print(\"R2 score : %.3f\" % r2_score(y_test, regressor.predict(x_test)))\n",
    "print(\"MSE: %.3f\" % mean_squared_error(y_test, regressor.predict(x_test)))\n",
    "print(\"RMSE: %.3f\" % sqrt(mean_squared_error(y_test, regressor.predict(x_test))))\n",
    "print(\"MAE: %.3f\" % sqrt(mean_absolute_error(y_test, regressor.predict(x_test))))"
   ]
  },
  {
   "cell_type": "markdown",
   "metadata": {},
   "source": [
    "50:50"
   ]
  },
  {
   "cell_type": "code",
   "execution_count": 744,
   "metadata": {},
   "outputs": [
    {
     "data": {
      "text/plain": [
       "LinearRegression()"
      ]
     },
     "execution_count": 744,
     "metadata": {},
     "output_type": "execute_result"
    }
   ],
   "source": [
    "from sklearn.model_selection import train_test_split\n",
    "from sklearn.linear_model import LinearRegression\n",
    "\n",
    "x_sr = data.iloc[:, 7:10].values\n",
    "\n",
    "x_train, x_test, y_train, y_test = train_test_split(x_sr, y, test_size=0.5, random_state=0)\n",
    "regressor = LinearRegression()\n",
    "regressor.fit(x_train, y_train)"
   ]
  },
  {
   "cell_type": "code",
   "execution_count": 745,
   "metadata": {},
   "outputs": [
    {
     "data": {
      "text/plain": [
       "array([13680.92, 17171.83, 20471.48, ..., 13381.94, 13680.92, 15631.87])"
      ]
     },
     "execution_count": 745,
     "metadata": {},
     "output_type": "execute_result"
    }
   ],
   "source": [
    "regressor.predict(x_test)"
   ]
  },
  {
   "cell_type": "code",
   "execution_count": 746,
   "metadata": {},
   "outputs": [
    {
     "name": "stdout",
     "output_type": "stream",
     "text": [
      "11473.530245410037\n",
      "[3.33 0.14 0.04]\n",
      "Intercept: 11473.530\n",
      "R2 score : -66250.222\n",
      "MSE: 2545200752545.894\n",
      "RMSE: 1595368.532\n",
      "MAE: 190.362\n"
     ]
    }
   ],
   "source": [
    "from sklearn.metrics import mean_squared_error, r2_score, mean_absolute_error\n",
    "from math import sqrt\n",
    "print(regressor.intercept_)\n",
    "print(regressor.coef_)\n",
    "print(\"Intercept: %0.3f\" % regressor.intercept_)\n",
    "print(\"R2 score : %.3f\" % r2_score(y_test, regressor.predict(x_test)))\n",
    "print(\"MSE: %.3f\" % mean_squared_error(y_test, regressor.predict(x_test)))\n",
    "print(\"RMSE: %.3f\" % sqrt(mean_squared_error(y_test, regressor.predict(x_test))))\n",
    "print(\"MAE: %.3f\" % sqrt(mean_absolute_error(y_test, regressor.predict(x_test))))"
   ]
  },
  {
   "cell_type": "code",
   "execution_count": null,
   "metadata": {},
   "outputs": [],
   "source": []
  },
  {
   "cell_type": "markdown",
   "metadata": {},
   "source": [
    "area and brok_amt and deposit_amt and mnt_amt"
   ]
  },
  {
   "cell_type": "code",
   "execution_count": 747,
   "metadata": {},
   "outputs": [],
   "source": [
    "x_sr = data.iloc[:, 7:11].values"
   ]
  },
  {
   "cell_type": "code",
   "execution_count": 748,
   "metadata": {},
   "outputs": [
    {
     "data": {
      "text/plain": [
       "LinearRegression()"
      ]
     },
     "execution_count": 748,
     "metadata": {},
     "output_type": "execute_result"
    }
   ],
   "source": [
    "from sklearn.linear_model import LinearRegression\n",
    "regressor = LinearRegression()\n",
    "regressor.fit(x_sr, y)"
   ]
  },
  {
   "cell_type": "code",
   "execution_count": 749,
   "metadata": {},
   "outputs": [
    {
     "data": {
      "text/plain": [
       "array([12750.01, 16305.77, 15797.76, ..., 12750.06, 12750.04, 19703.5 ])"
      ]
     },
     "execution_count": 749,
     "metadata": {},
     "output_type": "execute_result"
    }
   ],
   "source": [
    "regressor.predict(x_sr)"
   ]
  },
  {
   "cell_type": "code",
   "execution_count": 750,
   "metadata": {},
   "outputs": [
    {
     "name": "stdout",
     "output_type": "stream",
     "text": [
      "12750.01162458542\n",
      "[3.39e+00 1.53e-01 1.50e-06 8.35e-02]\n",
      "R2 score : 0.173\n",
      "MSE: 31654053.836\n",
      "RMSE: 5626.194\n",
      "MAE: 67.385\n"
     ]
    }
   ],
   "source": [
    "from sklearn.metrics import mean_squared_error, r2_score, mean_absolute_error\n",
    "from math import sqrt\n",
    "print(regressor.intercept_)\n",
    "print(regressor.coef_)\n",
    "print(\"R2 score : %.3f\" % r2_score(y, regressor.predict(x_sr)))\n",
    "print(\"MSE: %.3f\" % mean_squared_error(y, regressor.predict(x_sr)))\n",
    "print(\"RMSE: %.3f\" % sqrt(mean_squared_error(y, regressor.predict(x_sr))))\n",
    "print(\"MAE: %.3f\" % sqrt(mean_absolute_error(y, regressor.predict(x_sr))))"
   ]
  },
  {
   "cell_type": "markdown",
   "metadata": {},
   "source": [
    "80:20"
   ]
  },
  {
   "cell_type": "code",
   "execution_count": 751,
   "metadata": {},
   "outputs": [
    {
     "data": {
      "text/plain": [
       "LinearRegression()"
      ]
     },
     "execution_count": 751,
     "metadata": {},
     "output_type": "execute_result"
    }
   ],
   "source": [
    "from sklearn.model_selection import train_test_split\n",
    "from sklearn.linear_model import LinearRegression\n",
    "\n",
    "x_sr = data.iloc[:, 7:11].values\n",
    "\n",
    "x_train, x_test, y_train, y_test = train_test_split(x_sr, y, test_size=0.2, random_state=0)\n",
    "regressor = LinearRegression()\n",
    "regressor.fit(x_train, y_train)"
   ]
  },
  {
   "cell_type": "code",
   "execution_count": 752,
   "metadata": {},
   "outputs": [
    {
     "data": {
      "text/plain": [
       "array([12836.81, 18734.27, 18937.17, 15511.8 , 14669.16, 14683.39,\n",
       "       12934.49, 15846.23, 14378.25, 12874.33, 15093.82, 17964.92,\n",
       "       18018.42, 14675.87, 16180.57, 13062.26, 15779.86, 16515.24,\n",
       "       14508.69, 15846.19, 20612.85, 16916.93, 12836.74, 12836.79,\n",
       "       17631.29, 12836.87, 17185.59, 15754.21, 17040.68, 18890.33,\n",
       "       22489.57, 12836.74, 20529.37, 19849.29, 14809.62, 14508.69,\n",
       "       18499.93, 12836.74, 14508.65, 14976.83, 14843.07, 12836.85,\n",
       "       13599.13, 15177.54, 12836.76, 15177.46, 16013.45, 13062.32,\n",
       "       18705.26, 15478.42, 16515.02, 20072.25, 15177.46, 19780.86,\n",
       "       12836.74, 14189.34, 15384.74, 15010.28, 12836.74, 12836.77,\n",
       "       15261.47, 15735.96, 14457.63, 15010.23, 14567.02, 13906.77,\n",
       "       14490.27, 16347.85, 16460.75, 15465.03, 14843.05, 16514.99,\n",
       "       13990.41, 18627.6 , 15284.52, 12836.85, 14843.04, 14007.1 ,\n",
       "       14759.44, 15156.1 , 12836.79, 16515.07, 15290.18, 12836.81,\n",
       "       12836.78, 15846.26, 12881.9 , 14325.6 , 12836.74, 12836.74,\n",
       "       14834.67, 17084.13, 12836.77, 14475.25, 14133.75, 15000.16,\n",
       "       12836.74, 12836.74, 41827.88, 15261.02, 12836.74, 12836.78,\n",
       "       12836.81, 14884.79, 15277.81, 15177.49, 15511.8 , 16351.18,\n",
       "       19074.08, 14709.33, 18890.25, 12836.78, 12836.83, 20418.86,\n",
       "       19748.45, 15545.29, 15177.48, 12836.77, 16370.92, 14909.97,\n",
       "       15177.51, 15929.85, 15887.59, 15177.42, 18912.56, 12836.78,\n",
       "       12836.78, 14923.29, 12836.76, 15745.93, 16025.84, 12939.03,\n",
       "       12836.78, 12836.74, 15177.49, 12836.89, 21346.93, 12836.74,\n",
       "       12859.33, 17875.62, 16197.18, 12836.74, 12836.8 , 12836.81,\n",
       "       14286.36, 12836.84, 15011.13, 15344.61, 15933.93, 16110.44,\n",
       "       12836.85, 15177.49, 14843.11, 15354.72, 14776.2 , 15632.24,\n",
       "       14843.1 , 16950.55, 12836.74, 12836.8 , 15414.9 , 12836.77,\n",
       "       24084.39, 12836.8 , 16181.  , 15846.19, 14341.49, 14675.85,\n",
       "       16715.58, 14792.92, 12836.76, 14361.55, 12836.74, 16180.63,\n",
       "       15846.19, 17107.02, 12836.9 , 14174.63, 16013.45, 14936.66,\n",
       "       14234.52, 15880.81, 12836.81, 15628.92, 12836.77, 16949.65,\n",
       "       15083.63, 14291.92, 12836.74, 14869.78, 14174.32, 16180.64,\n",
       "       14341.5 , 15177.49, 16749.63, 17924.6 , 15378.11, 12836.74,\n",
       "       18433.05, 14843.07, 13822.18, 14843.08, 14147.54, 12836.77,\n",
       "       15612.18, 17350.99, 12836.78, 15501.11, 12836.85, 15412.32,\n",
       "       17313.87, 16180.64, 15011.14, 14893.25, 17519.02, 13839.91,\n",
       "       12911.97, 16013.46, 18934.8 , 14408.37, 19628.41, 15215.05,\n",
       "       12836.74, 12836.84, 15846.24, 12836.76, 14682.14, 14675.87,\n",
       "       14899.07, 14675.85, 12836.77, 12836.74, 15679.06, 14843.32,\n",
       "       12836.78, 16208.82, 17274.21, 17887.  , 15010.29, 13987.8 ,\n",
       "       15361.2 , 14576.25, 14341.46, 14494.4 , 14308.07, 15010.27,\n",
       "       12836.74, 19369.76, 12836.78, 17329.39, 12836.81, 12836.78,\n",
       "       14903.25, 16247.49, 15077.18, 12836.81, 12836.8 , 19470.19,\n",
       "       14508.65, 12836.76, 14620.27, 16180.8 , 15511.86, 12836.74,\n",
       "       15173.18, 19470.19, 15000.12, 12836.74, 12911.99, 14508.65,\n",
       "       21409.6 , 12836.81, 14856.45, 16347.81, 12844.29, 14174.27,\n",
       "       14893.24, 17808.86, 12949.57, 14174.3 , 14291.34, 17875.62,\n",
       "       16535.95, 14286.36, 12836.89, 22061.03, 12949.61, 15846.26,\n",
       "       12836.77, 14441.81, 15344.63, 14023.83, 14642.47, 12836.74,\n",
       "       15327.89, 17703.03, 14491.94, 20194.93, 12836.76, 14866.19,\n",
       "       14007.08, 20094.52, 15301.06, 19146.47, 18187.78, 14341.46,\n",
       "       15077.1 , 19230.03, 12874.36, 16046.81, 21182.87, 14341.51,\n",
       "       14675.87, 16073.62, 16188.98, 15645.61, 16849.39, 16170.81,\n",
       "       12836.81, 12836.77, 14675.87, 12836.78, 15261.15, 12836.76,\n",
       "       16315.78, 12836.77, 12836.78, 15678.99, 20852.25, 16581.9 ,\n",
       "       19001.69, 15177.46, 16750.65, 14341.46, 12836.74, 15796.1 ,\n",
       "       16448.11, 14675.85, 12836.78, 13034.09, 18430.2 , 15077.15,\n",
       "       16180.64, 12836.77, 15177.49, 17831.09, 17317.56, 12836.76,\n",
       "       14649.18, 15010.24, 12836.79, 17953.89, 15913.21, 12836.86,\n",
       "       15846.19, 15979.98, 12836.79, 12836.74, 12836.8 , 16180.61,\n",
       "       14236.42, 12837.47, 14843.07, 12836.75, 14930.09, 16894.89,\n",
       "       15735.85, 17016.82, 14876.56, 14576.25, 16322.65, 12836.78,\n",
       "       18288.26, 14675.92, 15511.88, 12836.78, 12836.8 , 12836.78,\n",
       "       14876.5 , 18617.23, 15679.04, 15057.51, 16315.82, 14642.41,\n",
       "       15782.96, 12836.81, 16180.57, 15841.43, 19302.89, 15511.85,\n",
       "       14675.93, 14508.73, 15010.26, 15578.72, 12997.91, 15047.84,\n",
       "       14863.17, 14893.24, 14174.29, 14676.14, 12836.74, 12836.77,\n",
       "       16013.45, 16849.36, 15764.24, 14508.65, 16180.6 , 15156.09,\n",
       "       22201.26, 14512.8 , 20673.92, 21030.96, 12836.74, 15526.9 ,\n",
       "       12836.83, 14675.9 , 15958.26, 15010.23, 15110.58, 12836.74,\n",
       "       16426.59, 12911.95, 12836.76, 12836.78, 18578.26, 16782.54,\n",
       "       23128.16, 15344.61, 16849.33, 12836.87, 16460.63, 12836.74,\n",
       "       15445.94, 12836.81, 12836.74, 15010.23, 16498.27, 12836.74,\n",
       "       12859.31, 16514.95, 16170.87, 18729.06, 16460.82, 14441.79,\n",
       "       16556.81, 15003.61, 14675.92, 16683.04, 15921.4 , 12836.79,\n",
       "       12836.74, 12836.77, 16025.85, 12836.81, 12836.74, 12836.79,\n",
       "       15277.82, 15177.49, 15010.29, 14859.78, 12836.83, 12836.74,\n",
       "       14174.37, 17156.56, 12836.77, 14341.46, 15150.67, 16515.04,\n",
       "       12836.78, 15595.54, 16485.58, 16468.86, 12836.8 , 12836.74,\n",
       "       18455.46, 15344.65, 14659.16, 12836.77, 12836.74, 12836.74,\n",
       "       16347.76, 20846.77, 12836.77, 16656.12, 17229.03, 12836.81,\n",
       "       22033.97, 20148.91, 15090.52, 16113.84, 19319.53, 19481.39,\n",
       "       19302.89, 16514.99, 15716.62, 19458.6 , 19191.1 , 17384.43,\n",
       "       16190.66, 12836.74, 16218.21, 19213.52, 14508.68, 12836.81,\n",
       "       16013.45, 14709.31, 15043.7 , 12836.74, 14851.37, 12836.81,\n",
       "       14508.94, 12836.81, 14843.07, 16315.75, 12836.77, 12836.76,\n",
       "       12836.79, 12836.78, 12836.78, 14174.92, 15678.99, 15511.85,\n",
       "       15511.8 , 12911.94, 14851.38, 15294.45, 13024.67, 12836.77,\n",
       "       14709.33, 19979.63, 15010.26, 13822.19, 19358.16, 21231.12,\n",
       "       17672.25, 16515.02, 20517.78, 14435.18, 12836.8 , 12836.74,\n",
       "       15893.  , 12836.74, 15344.61, 12836.77, 16180.57, 12836.81,\n",
       "       15344.64, 12836.74, 18651.72, 12836.74, 16342.89, 12836.74,\n",
       "       13843.23, 14726.04, 15812.78, 12836.81, 16013.45, 12911.97,\n",
       "       19804.55, 17381.  , 16740.54, 12836.78, 14976.84, 12911.91,\n",
       "       12836.81, 12836.74, 18240.54, 18658.53, 12836.77, 12836.82,\n",
       "       12949.5 , 14625.69, 14124.14, 15180.76, 12836.78, 16461.44,\n",
       "       14341.5 , 17702.84, 14676.14, 14642.41, 13658.1 , 12836.83,\n",
       "       16025.84, 13839.89, 16125.44, 12836.77, 14943.4 , 18332.91,\n",
       "       14007.09, 13680.64, 17519.02, 15745.91, 12836.78, 12836.81,\n",
       "       12836.76, 12836.76, 12836.81, 14683.44, 22480.59, 15378.1 ,\n",
       "       12836.78, 17433.49, 14819.67, 14124.11, 15177.46, 15010.27,\n",
       "       16605.16, 20974.98, 15344.65, 12907.45, 12836.78, 15078.04,\n",
       "       12836.74, 15628.92, 22559.67, 12836.74, 15578.74, 16849.33,\n",
       "       15084.03, 15779.37, 12836.83, 15745.87, 15170.79, 18327.22,\n",
       "       13032.03, 24455.39, 15011.13, 14341.48, 12836.74, 18879.31,\n",
       "       12836.81, 15344.61, 14508.67, 14546.28, 12836.74, 15177.48,\n",
       "       13338.32, 12949.7 , 15961.29, 12836.77, 12836.76, 16519.39,\n",
       "       12836.78, 16174.  , 16515.01, 15521.91, 14796.42, 12836.74,\n",
       "       15011.12, 12836.74, 12836.92, 15344.66, 14462.69, 16866.87,\n",
       "       13424.21, 15511.91, 12836.74, 18544.37, 14523.73, 15344.65,\n",
       "       15177.46, 14416.66, 12836.74, 12836.81, 12836.83, 14274.59,\n",
       "       12836.8 , 15160.57, 15389.71, 15991.56, 15671.68, 14667.47,\n",
       "       18121.1 , 14625.73, 17108.71, 12836.81, 15261.21, 15475.02,\n",
       "       16025.91, 14976.83, 15075.05, 12987.13, 12836.74, 17619.48,\n",
       "       12836.78, 12836.74, 12836.77, 12836.74, 17185.41, 14709.16,\n",
       "       15862.95, 14254.52, 19604.66, 18354.96, 16515.04, 14809.65,\n",
       "       12836.74, 12836.81, 14508.69, 13043.54, 18578.01, 15679.04,\n",
       "       13606.66, 16098.33, 16895.61, 16437.84, 15434.34, 12836.78,\n",
       "       14174.3 , 16361.04, 18544.4 , 12836.74, 21699.58, 15963.29,\n",
       "       13082.34, 14508.71, 15538.11, 12836.76, 16247.52, 17322.72,\n",
       "       18934.9 , 12836.74, 12836.74, 14843.07, 12836.78, 14843.08,\n",
       "       15010.27, 12836.81, 14973.52, 18433.15, 12836.74, 12836.81,\n",
       "       21532.53, 15011.13, 16046.81, 16972.95, 15679.08, 15047.84,\n",
       "       24061.84, 15678.99, 12836.74, 12836.85, 12874.37, 14675.88,\n",
       "       16528.27, 12836.76, 19341.29, 12836.79, 12836.8 , 12836.74,\n",
       "       15010.29, 16211.98, 19180.17, 12984.59, 17056.11, 15344.63,\n",
       "       15344.61, 14193.06, 18455.39, 12836.74, 14508.65, 15093.82,\n",
       "       14286.33, 15511.8 , 14976.83, 12836.81, 12836.74, 15635.6 ,\n",
       "       12836.81, 18310.5 , 12836.79, 12836.81, 14571.28, 14508.65,\n",
       "       16170.83, 14675.87, 17619.58, 15334.69, 12836.89, 12836.74,\n",
       "       15231.57, 19029.44, 12836.74, 21274.76, 16919.7 , 17838.84,\n",
       "       15768.4 , 16080.25, 17897.93, 12836.79, 21198.15, 16431.46,\n",
       "       14918.28, 16490.52, 14249.47, 13906.77, 14040.52, 12836.74,\n",
       "       15010.25, 18165.53, 12987.09, 12836.74, 16013.46, 16605.74,\n",
       "       12912.12, 14625.73, 12836.79, 15679.03, 12836.78, 16098.34,\n",
       "       14007.08, 12836.81, 12836.8 , 12836.74, 14843.04, 16214.08,\n",
       "       14876.52, 15679.06, 14651.42, 14843.05, 12836.77, 15010.23,\n",
       "       14926.63, 14726.05, 16013.38, 13973.66, 15010.26, 18196.83,\n",
       "       17212.4 , 15605.5 , 14843.1 , 12836.78, 15077.19, 16180.57,\n",
       "       14876.9 , 12836.85, 14576.25, 17016.63, 17683.8 , 12836.74,\n",
       "       19269.11, 16909.09, 17890.07, 12836.74, 15498.47, 12836.81,\n",
       "       14174.29, 14953.42, 17652.56, 20161.08, 14007.1 , 12836.81,\n",
       "       14269.17, 16397.88, 15992.45, 16013.43, 12836.8 , 14474.27,\n",
       "       12836.81, 12836.74, 12836.77, 16514.97, 15929.85, 14843.04,\n",
       "       18210.01, 15301.06, 13002.18, 17350.98, 21532.53, 14341.48,\n",
       "       18388.94, 12836.74, 15511.8 , 12836.74, 12836.81, 14828.82,\n",
       "       14776.16, 16007.33, 12836.74, 12836.74, 14823.8 , 18980.87,\n",
       "       14709.31, 17496.77, 12836.82, 19421.84, 12836.74, 14721.21,\n",
       "       14542.11, 12836.74, 12836.85, 12836.78, 12836.74, 15010.45,\n",
       "       15445.94, 17681.87, 16558.31, 16682.99, 19179.89, 15344.72,\n",
       "       15010.23, 12836.79, 15271.05, 14934.66, 17217.89, 15445.94,\n",
       "       16515.02, 14542.15, 15344.64, 17185.41, 20807.57, 17462.98,\n",
       "       12836.74, 15217.6 , 12836.74, 12836.74, 14508.69, 14576.21,\n",
       "       17183.85, 15177.42, 14938.64, 14866.25, 15077.16, 14843.08,\n",
       "       17411.64, 15215.06, 16850.18, 12836.78, 16683.12, 12836.76,\n",
       "       15338.63, 19638.44, 12836.8 , 22369.34, 15880.9 , 18849.07,\n",
       "       12836.81, 17685.29, 16058.77, 18065.5 , 12836.74, 16309.71,\n",
       "       12836.74, 12836.78, 12836.77, 12836.8 , 14866.16, 15896.42,\n",
       "       14341.49, 14338.11, 12836.85, 14843.09, 12836.8 , 14545.44,\n",
       "       20362.05, 15047.84, 12836.74, 14969.69, 15511.86, 15846.19,\n",
       "       14713.5 , 12836.81, 12949.53, 12836.84, 22480.17, 16038.26,\n",
       "       14675.89, 16170.72, 14341.49, 15344.68, 14682.62, 17084.13,\n",
       "       14608.97, 15745.93, 15511.88, 14391.64, 12836.76, 20417.3 ,\n",
       "       14809.64, 13042.23, 12893.21, 16052.97, 18187.95, 12836.78,\n",
       "       15241.01, 15846.22, 12836.81, 12836.76, 12836.74, 12836.78,\n",
       "       14671.68, 12836.78, 14810.61])"
      ]
     },
     "execution_count": 752,
     "metadata": {},
     "output_type": "execute_result"
    }
   ],
   "source": [
    "regressor.predict(x_test)"
   ]
  },
  {
   "cell_type": "code",
   "execution_count": 753,
   "metadata": {},
   "outputs": [
    {
     "name": "stdout",
     "output_type": "stream",
     "text": [
      "[[12836.81 17000.  ]\n",
      " [18734.27 22000.  ]\n",
      " [18937.17 21000.  ]\n",
      " ...\n",
      " [14671.68 15000.  ]\n",
      " [12836.78 12000.  ]\n",
      " [14810.61 11000.  ]]\n"
     ]
    }
   ],
   "source": [
    "y_pred = regressor.predict(x_test)\n",
    "np.set_printoptions(precision=2)\n",
    "print(np.concatenate((y_pred.reshape(len(y_pred),1), y_test.reshape(len(y_test),1)),1))"
   ]
  },
  {
   "cell_type": "code",
   "execution_count": 754,
   "metadata": {},
   "outputs": [
    {
     "name": "stdout",
     "output_type": "stream",
     "text": [
      "[3.34e+00 1.45e-01 1.46e-06 7.52e-02]\n",
      "Intercept: 12836.741\n",
      "R2 score : 0.206\n",
      "MSE: 30198796.912\n",
      "RMSE: 5495.343\n",
      "MAE: 66.793\n"
     ]
    }
   ],
   "source": [
    "from sklearn.metrics import mean_squared_error, r2_score, mean_absolute_error\n",
    "from math import sqrt\n",
    "print(regressor.coef_)\n",
    "print(\"Intercept: %0.3f\" % regressor.intercept_)\n",
    "print(\"R2 score : %.3f\" % r2_score(y_test, regressor.predict(x_test)))\n",
    "print(\"MSE: %.3f\" % mean_squared_error(y_test, regressor.predict(x_test)))\n",
    "print(\"RMSE: %.3f\" % sqrt(mean_squared_error(y_test, regressor.predict(x_test))))\n",
    "print(\"MAE: %.3f\" % sqrt(mean_absolute_error(y_test, regressor.predict(x_test))))"
   ]
  },
  {
   "cell_type": "markdown",
   "metadata": {},
   "source": [
    "70:30"
   ]
  },
  {
   "cell_type": "code",
   "execution_count": 755,
   "metadata": {},
   "outputs": [
    {
     "data": {
      "text/plain": [
       "LinearRegression()"
      ]
     },
     "execution_count": 755,
     "metadata": {},
     "output_type": "execute_result"
    }
   ],
   "source": [
    "from sklearn.model_selection import train_test_split\n",
    "from sklearn.linear_model import LinearRegression\n",
    "\n",
    "x_sr = data.iloc[:, 7:11].values\n",
    "\n",
    "x_train, x_test, y_train, y_test = train_test_split(x_sr, y, test_size=0.3, random_state=0)\n",
    "regressor = LinearRegression()\n",
    "regressor.fit(x_train, y_train)"
   ]
  },
  {
   "cell_type": "code",
   "execution_count": 756,
   "metadata": {},
   "outputs": [
    {
     "data": {
      "text/plain": [
       "array([12775.94, 19167.19, 19344.9 , ..., 63212.05, 12775.93, 20741.16])"
      ]
     },
     "execution_count": 756,
     "metadata": {},
     "output_type": "execute_result"
    }
   ],
   "source": [
    "regressor.predict(x_test)"
   ]
  },
  {
   "cell_type": "code",
   "execution_count": 757,
   "metadata": {},
   "outputs": [
    {
     "name": "stdout",
     "output_type": "stream",
     "text": [
      "[3.32e+00 1.68e-01 1.51e-06 6.16e-02]\n",
      "Intercept: 12775.867\n",
      "R2 score : 0.153\n",
      "MSE: 32057152.446\n",
      "RMSE: 5661.904\n",
      "MAE: 67.243\n"
     ]
    }
   ],
   "source": [
    "from sklearn.metrics import mean_squared_error, r2_score, mean_absolute_error\n",
    "from math import sqrt\n",
    "print(regressor.coef_)\n",
    "print(\"Intercept: %0.3f\" % regressor.intercept_)\n",
    "print(\"R2 score : %.3f\" % r2_score(y_test, regressor.predict(x_test)))\n",
    "print(\"MSE: %.3f\" % mean_squared_error(y_test, regressor.predict(x_test)))\n",
    "print(\"RMSE: %.3f\" % sqrt(mean_squared_error(y_test, regressor.predict(x_test))))\n",
    "print(\"MAE: %.3f\" % sqrt(mean_absolute_error(y_test, regressor.predict(x_test))))"
   ]
  },
  {
   "cell_type": "markdown",
   "metadata": {},
   "source": [
    "50:50"
   ]
  },
  {
   "cell_type": "code",
   "execution_count": 758,
   "metadata": {},
   "outputs": [
    {
     "data": {
      "text/plain": [
       "LinearRegression()"
      ]
     },
     "execution_count": 758,
     "metadata": {},
     "output_type": "execute_result"
    }
   ],
   "source": [
    "from sklearn.model_selection import train_test_split\n",
    "from sklearn.linear_model import LinearRegression\n",
    "\n",
    "x_sr = data.iloc[:, 7:11].values\n",
    "\n",
    "x_train, x_test, y_train, y_test = train_test_split(x_sr, y, test_size=0.5, random_state=0)\n",
    "regressor = LinearRegression()\n",
    "regressor.fit(x_train, y_train)"
   ]
  },
  {
   "cell_type": "code",
   "execution_count": 759,
   "metadata": {},
   "outputs": [
    {
     "data": {
      "text/plain": [
       "array([13701.16, 17197.22, 20515.09, ..., 13392.96, 13701.16, 15643.43])"
      ]
     },
     "execution_count": 759,
     "metadata": {},
     "output_type": "execute_result"
    }
   ],
   "source": [
    "regressor.predict(x_test)"
   ]
  },
  {
   "cell_type": "code",
   "execution_count": 760,
   "metadata": {},
   "outputs": [
    {
     "name": "stdout",
     "output_type": "stream",
     "text": [
      "[ 3.33  0.14  0.04 -0.09]\n",
      "Intercept: 11480.524\n",
      "R2 score : -67047.606\n",
      "MSE: 2575834214021.463\n",
      "RMSE: 1604940.564\n",
      "MAE: 190.865\n"
     ]
    }
   ],
   "source": [
    "from sklearn.metrics import mean_squared_error, r2_score, mean_absolute_error\n",
    "from math import sqrt\n",
    "print(regressor.coef_)\n",
    "print(\"Intercept: %0.3f\" % regressor.intercept_)\n",
    "print(\"R2 score : %.3f\" % r2_score(y_test, regressor.predict(x_test)))\n",
    "print(\"MSE: %.3f\" % mean_squared_error(y_test, regressor.predict(x_test)))\n",
    "print(\"RMSE: %.3f\" % sqrt(mean_squared_error(y_test, regressor.predict(x_test))))\n",
    "print(\"MAE: %.3f\" % sqrt(mean_absolute_error(y_test, regressor.predict(x_test))))"
   ]
  },
  {
   "cell_type": "markdown",
   "metadata": {},
   "source": [
    "Gradient Descent"
   ]
  },
  {
   "cell_type": "markdown",
   "metadata": {},
   "source": [
    "learning rate = 0.1"
   ]
  },
  {
   "cell_type": "code",
   "execution_count": 761,
   "metadata": {},
   "outputs": [],
   "source": [
    "def predicted_y(weight,x,intercept):\n",
    "    y_lst=[]\n",
    "    for i in range(len(x)):\n",
    "        y_lst.append(weight@x[i]+intercept)\n",
    "    return np.array(y_lst)\n",
    "    \n",
    "\n",
    "# linear loss\n",
    "def loss(y,y_predicted):\n",
    "    n=len(y)\n",
    "    s=0\n",
    "    for i in range(n):\n",
    "        s+=(y[i]-y_predicted[i])**2\n",
    "    return (1/n)*s\n",
    "\n",
    "#derivative of loss w.r.t weight\n",
    "def dldw(x,y,y_predicted):\n",
    "    s=0\n",
    "    n=len(y)\n",
    "    for i in range(n):\n",
    "        s+=-x[i]*(y[i]-y_predicted[i])\n",
    "    return (2/n)*s\n",
    "    \n",
    "\n",
    "# derivative of loss w.r.t bias\n",
    "def dldb(y,y_predicted):\n",
    "    n=len(y)\n",
    "    s=0\n",
    "    for i in range(len(y)):\n",
    "        s+=-(y[i]-y_predicted[i])\n",
    "    return (2/n) * s\n",
    "\n",
    "# gradient function\n",
    "def gradient_descent(x,y):\n",
    "    weight_vector=np.random.randn(x.shape[1])\n",
    "    intercept=0\n",
    "    epoch = 2000\n",
    "    n = len(x)\n",
    "    linear_loss=[]\n",
    "    learning_rate = 0.1\n",
    "\n",
    "    for i in range(epoch):\n",
    "        \n",
    "        \n",
    "        y_predicted = predicted_y(weight_vector,x,intercept)\n",
    "        \n",
    "        weight_vector = weight_vector - learning_rate *dldw(x,y,y_predicted) \n",
    "        \n",
    "        \n",
    "        intercept = intercept - learning_rate * dldb(y,y_predicted)\n",
    "        linear_loss.append(loss(y,y_predicted))\n",
    "        \n",
    "    plt.plot(np.arange(1,epoch),linear_loss[1:])\n",
    "    plt.xlabel(\"number of epoch\")\n",
    "    plt.ylabel(\"loss\")\n",
    "    \n",
    "    return weight_vector,intercept"
   ]
  },
  {
   "cell_type": "code",
   "execution_count": 762,
   "metadata": {},
   "outputs": [
    {
     "name": "stdout",
     "output_type": "stream",
     "text": [
      "[[13701.16 17000.  ]\n",
      " [17197.22 22000.  ]\n",
      " [20515.09 21000.  ]\n",
      " ...\n",
      " [13392.96  7500.  ]\n",
      " [13701.16 17000.  ]\n",
      " [15643.43 25000.  ]]\n"
     ]
    }
   ],
   "source": [
    "y_pred = regressor.predict(x_test)\n",
    "np.set_printoptions(precision=2)\n",
    "print(np.concatenate((y_pred.reshape(len(y_pred),1), y_test.reshape(len(y_test),1)),1))"
   ]
  },
  {
   "cell_type": "code",
   "execution_count": 763,
   "metadata": {},
   "outputs": [],
   "source": [
    "X_test=sc.fit_transform(x_test)\n",
    "y_pred=regressor.predict(X_test)"
   ]
  },
  {
   "cell_type": "code",
   "execution_count": 764,
   "metadata": {},
   "outputs": [
    {
     "name": "stdout",
     "output_type": "stream",
     "text": [
      "11480.523883078311\n",
      "[ 3.33  0.14  0.04 -0.09]\n",
      "R2 score : -0.344\n",
      "MSE: 51647335.857\n",
      "RMSE: 7186.608\n",
      "MAE: 74.920\n"
     ]
    }
   ],
   "source": [
    "from sklearn.metrics import mean_squared_error, r2_score, mean_absolute_error\n",
    "from math import sqrt\n",
    "print(regressor.intercept_)\n",
    "print(regressor.coef_)\n",
    "print(\"R2 score : %.3f\" % r2_score(y_test, y_pred))\n",
    "print(\"MSE: %.3f\" % mean_squared_error(y_test, y_pred))\n",
    "print(\"RMSE: %.3f\" % sqrt(mean_squared_error(y_test, y_pred)))\n",
    "print(\"MAE: %.3f\" % sqrt(mean_absolute_error(y_test, y_pred)))"
   ]
  },
  {
   "cell_type": "code",
   "execution_count": null,
   "metadata": {},
   "outputs": [],
   "source": []
  },
  {
   "cell_type": "code",
   "execution_count": 765,
   "metadata": {},
   "outputs": [],
   "source": [
    "def predicted_y(weight,x,intercept):\n",
    "    y_lst=[]\n",
    "    for i in range(len(x)):\n",
    "        y_lst.append(weight@x[i]+intercept)\n",
    "    return np.array(y_lst)\n",
    "    \n",
    "\n",
    "# linear loss\n",
    "def loss(y,y_predicted):\n",
    "    n=len(y)\n",
    "    s=0\n",
    "    for i in range(n):\n",
    "        s+=(y[i]-y_predicted[i])**2\n",
    "    return (1/n)*s\n",
    "\n",
    "#derivative of loss w.r.t weight\n",
    "def dldw(x,y,y_predicted):\n",
    "    s=0\n",
    "    n=len(y)\n",
    "    for i in range(n):\n",
    "        s+=-x[i]*(y[i]-y_predicted[i])\n",
    "    return (2/n)*s\n",
    "    \n",
    "\n",
    "# derivative of loss w.r.t bias\n",
    "def dldb(y,y_predicted):\n",
    "    n=len(y)\n",
    "    s=0\n",
    "    for i in range(len(y)):\n",
    "        s+=-(y[i]-y_predicted[i])\n",
    "    return (2/n) * s\n",
    "\n",
    "# gradient function\n",
    "def gradient_descent(x,y):\n",
    "    weight_vector=np.random.randn(x.shape[1])\n",
    "    intercept=0\n",
    "    epoch = 2000\n",
    "    n = len(x)\n",
    "    linear_loss=[]\n",
    "    learning_rate = 0.001\n",
    "\n",
    "    for i in range(epoch):\n",
    "        \n",
    "        \n",
    "        y_predicted = predicted_y(weight_vector,x,intercept)\n",
    "        \n",
    "        weight_vector = weight_vector - learning_rate *dldw(x,y,y_predicted) \n",
    "        \n",
    "        \n",
    "        intercept = intercept - learning_rate * dldb(y,y_predicted)\n",
    "        linear_loss.append(loss(y,y_predicted))\n",
    "        \n",
    "    plt.plot(np.arange(1,epoch),linear_loss[1:])\n",
    "    plt.xlabel(\"number of epoch\")\n",
    "    plt.ylabel(\"loss\")\n",
    "    \n",
    "    return weight_vector,intercept"
   ]
  },
  {
   "cell_type": "code",
   "execution_count": 766,
   "metadata": {},
   "outputs": [],
   "source": [
    "X_test=sc.fit_transform(x_test)\n",
    "y_pred=regressor.predict(X_test)"
   ]
  },
  {
   "cell_type": "code",
   "execution_count": 767,
   "metadata": {},
   "outputs": [
    {
     "name": "stdout",
     "output_type": "stream",
     "text": [
      "11480.523883078311\n",
      "[ 3.33  0.14  0.04 -0.09]\n",
      "R2 score : -0.344\n",
      "MSE: 51647335.857\n",
      "RMSE: 7186.608\n",
      "MAE: 74.920\n"
     ]
    }
   ],
   "source": [
    "from sklearn.metrics import mean_squared_error, r2_score, mean_absolute_error\n",
    "from math import sqrt\n",
    "print(regressor.intercept_)\n",
    "print(regressor.coef_)\n",
    "print(\"R2 score : %.3f\" % r2_score(y_test, y_pred))\n",
    "print(\"MSE: %.3f\" % mean_squared_error(y_test, y_pred))\n",
    "print(\"RMSE: %.3f\" % sqrt(mean_squared_error(y_test, y_pred)))\n",
    "print(\"MAE: %.3f\" % sqrt(mean_absolute_error(y_test, y_pred)))"
   ]
  },
  {
   "cell_type": "code",
   "execution_count": 768,
   "metadata": {},
   "outputs": [],
   "source": [
    "def predicted_y(weight,x,intercept):\n",
    "    y_lst=[]\n",
    "    for i in range(len(x)):\n",
    "        y_lst.append(weight@x[i]+intercept)\n",
    "    return np.array(y_lst)\n",
    "    \n",
    "\n",
    "# linear loss\n",
    "def loss(y,y_predicted):\n",
    "    n=len(y)\n",
    "    s=0\n",
    "    for i in range(n):\n",
    "        s+=(y[i]-y_predicted[i])**2\n",
    "    return (1/n)*s\n",
    "\n",
    "#derivative of loss w.r.t weight\n",
    "def dldw(x,y,y_predicted):\n",
    "    s=0\n",
    "    n=len(y)\n",
    "    for i in range(n):\n",
    "        s+=-x[i]*(y[i]-y_predicted[i])\n",
    "    return (2/n)*s\n",
    "    \n",
    "\n",
    "# derivative of loss w.r.t bias\n",
    "def dldb(y,y_predicted):\n",
    "    n=len(y)\n",
    "    s=0\n",
    "    for i in range(len(y)):\n",
    "        s+=-(y[i]-y_predicted[i])\n",
    "    return (2/n) * s\n",
    "\n",
    "# gradient function\n",
    "def gradient_descent(x,y):\n",
    "    weight_vector=np.random.randn(x.shape[1])\n",
    "    intercept=0\n",
    "    epoch = 2000\n",
    "    n = len(x)\n",
    "    linear_loss=[]\n",
    "    learning_rate = 1\n",
    "\n",
    "    for i in range(epoch):\n",
    "        \n",
    "        \n",
    "        \n",
    "        y_predicted = predicted_y(weight_vector,x,intercept)\n",
    "        \n",
    "        weight_vector = weight_vector - learning_rate *dldw(x,y,y_predicted) \n",
    "        \n",
    "        \n",
    "        intercept = intercept - learning_rate * dldb(y,y_predicted)\n",
    "        linear_loss.append(loss(y,y_predicted))\n",
    "        \n",
    "    plt.plot(np.arange(1,epoch),linear_loss[1:])\n",
    "    plt.xlabel(\"number of epoch\")\n",
    "    plt.ylabel(\"loss\")\n",
    "    \n",
    "    return weight_vector,intercept"
   ]
  },
  {
   "cell_type": "code",
   "execution_count": 769,
   "metadata": {},
   "outputs": [],
   "source": [
    "X_test=sc.fit_transform(x_test)\n",
    "y_pred=regressor.predict(X_test)"
   ]
  },
  {
   "cell_type": "code",
   "execution_count": 770,
   "metadata": {},
   "outputs": [
    {
     "name": "stdout",
     "output_type": "stream",
     "text": [
      "11480.523883078311\n",
      "[ 3.33  0.14  0.04 -0.09]\n",
      "R2 score : -0.344\n",
      "MSE: 51647335.857\n",
      "RMSE: 7186.608\n",
      "MAE: 74.920\n"
     ]
    }
   ],
   "source": [
    "from sklearn.metrics import mean_squared_error, r2_score, mean_absolute_error\n",
    "from math import sqrt\n",
    "print(regressor.intercept_)\n",
    "print(regressor.coef_)\n",
    "print(\"R2 score : %.3f\" % r2_score(y_test, y_pred))\n",
    "print(\"MSE: %.3f\" % mean_squared_error(y_test, y_pred))\n",
    "print(\"RMSE: %.3f\" % sqrt(mean_squared_error(y_test, y_pred)))\n",
    "print(\"MAE: %.3f\" % sqrt(mean_absolute_error(y_test, y_pred)))"
   ]
  },
  {
   "cell_type": "markdown",
   "metadata": {},
   "source": [
    "polynomial regression"
   ]
  },
  {
   "cell_type": "markdown",
   "metadata": {},
   "source": [
    "withoutsplit"
   ]
  },
  {
   "cell_type": "code",
   "execution_count": 778,
   "metadata": {},
   "outputs": [],
   "source": [
    "X = data.iloc[:,0:11].values"
   ]
  },
  {
   "cell_type": "code",
   "execution_count": 779,
   "metadata": {},
   "outputs": [],
   "source": [
    "y = data.iloc[:, 11].values"
   ]
  },
  {
   "cell_type": "code",
   "execution_count": 780,
   "metadata": {},
   "outputs": [],
   "source": [
    "x_sr = data.iloc[:, 7:8].values"
   ]
  },
  {
   "cell_type": "code",
   "execution_count": 781,
   "metadata": {},
   "outputs": [
    {
     "data": {
      "text/plain": [
       "LinearRegression()"
      ]
     },
     "execution_count": 781,
     "metadata": {},
     "output_type": "execute_result"
    }
   ],
   "source": [
    "from sklearn.preprocessing import PolynomialFeatures\n",
    "\n",
    "poly_reg = PolynomialFeatures(degree=1)\n",
    "\n",
    "X_train_2_d = poly_reg.fit_transform(x_sr)\n",
    "\n",
    "\n",
    "polyreg = LinearRegression()\n",
    "polyreg.fit(X_train_2_d, y)"
   ]
  },
  {
   "cell_type": "code",
   "execution_count": 782,
   "metadata": {},
   "outputs": [
    {
     "data": {
      "text/plain": [
       "array([13104.59, 17583.22, 16943.42, ..., 13104.59, 13104.59, 18649.56])"
      ]
     },
     "execution_count": 782,
     "metadata": {},
     "output_type": "execute_result"
    }
   ],
   "source": [
    "polyreg.predict(X_train_2_d)"
   ]
  },
  {
   "cell_type": "code",
   "execution_count": 788,
   "metadata": {},
   "outputs": [
    {
     "name": "stdout",
     "output_type": "stream",
     "text": [
      "14846.335999262039\n",
      "[ 0.00e+00 -3.41e+01  6.55e-02 -2.61e-05]\n",
      "MSE: 27467262.448\n",
      "RMSE: 5240.922\n",
      "MAE: 64.586\n"
     ]
    }
   ],
   "source": [
    "from sklearn.metrics import mean_squared_error, r2_score, mean_absolute_error\n",
    "from math import sqrt\n",
    "print(polyreg.intercept_)\n",
    "print(polyreg.coef_)\n",
    "\n",
    "print(\"MSE: %.3f\" % mean_squared_error(y, polyreg.predict(X_train_2_d)))\n",
    "print(\"RMSE: %.3f\" % sqrt(mean_squared_error(y, polyreg.predict(X_train_2_d))))\n",
    "print(\"MAE: %.3f\" % sqrt(mean_absolute_error(y, polyreg.predict(X_train_2_d))))"
   ]
  },
  {
   "cell_type": "code",
   "execution_count": 792,
   "metadata": {},
   "outputs": [
    {
     "data": {
      "text/plain": [
       "0.2827270296026162"
      ]
     },
     "execution_count": 792,
     "metadata": {},
     "output_type": "execute_result"
    }
   ],
   "source": [
    "# import metrics\n",
    "y_predict_polyr = polyreg.predict(poly_reg.fit_transform(x_sr))\n",
    "from sklearn import metrics \n",
    "r_square=metrics.r2_score(y,y_predict_polyr)\n",
    "r_square"
   ]
  },
  {
   "cell_type": "code",
   "execution_count": 793,
   "metadata": {},
   "outputs": [
    {
     "data": {
      "text/plain": [
       "LinearRegression()"
      ]
     },
     "execution_count": 793,
     "metadata": {},
     "output_type": "execute_result"
    }
   ],
   "source": [
    "from sklearn.preprocessing import PolynomialFeatures\n",
    "\n",
    "poly_reg = PolynomialFeatures(degree=2)\n",
    "\n",
    "X_train_2_d = poly_reg.fit_transform(x_sr)\n",
    "\n",
    "\n",
    "polyreg = LinearRegression()\n",
    "polyreg.fit(X_train_2_d, y)"
   ]
  },
  {
   "cell_type": "code",
   "execution_count": 794,
   "metadata": {},
   "outputs": [
    {
     "data": {
      "text/plain": [
       "array([14500.85, 19416.92, 16579.87, ..., 14500.85, 14500.85, 25726.64])"
      ]
     },
     "execution_count": 794,
     "metadata": {},
     "output_type": "execute_result"
    }
   ],
   "source": [
    "polyreg.predict(X_train_2_d)"
   ]
  },
  {
   "cell_type": "code",
   "execution_count": 795,
   "metadata": {},
   "outputs": [
    {
     "name": "stdout",
     "output_type": "stream",
     "text": [
      "14500.849020373254\n",
      "[  0.   -11.92   0.02]\n",
      "MSE: 29243723.539\n",
      "RMSE: 5407.747\n",
      "MAE: 65.686\n"
     ]
    }
   ],
   "source": [
    "from sklearn.metrics import mean_squared_error, r2_score, mean_absolute_error\n",
    "from math import sqrt\n",
    "print(polyreg.intercept_)\n",
    "print(polyreg.coef_)\n",
    "\n",
    "print(\"MSE: %.3f\" % mean_squared_error(y, polyreg.predict(X_train_2_d)))\n",
    "print(\"RMSE: %.3f\" % sqrt(mean_squared_error(y, polyreg.predict(X_train_2_d))))\n",
    "print(\"MAE: %.3f\" % sqrt(mean_absolute_error(y, polyreg.predict(X_train_2_d))))"
   ]
  },
  {
   "cell_type": "code",
   "execution_count": 796,
   "metadata": {},
   "outputs": [
    {
     "data": {
      "text/plain": [
       "0.23633698524040758"
      ]
     },
     "execution_count": 796,
     "metadata": {},
     "output_type": "execute_result"
    }
   ],
   "source": [
    "# import metrics\n",
    "y_predict_polyr = polyreg.predict(poly_reg.fit_transform(x_sr))\n",
    "from sklearn import metrics \n",
    "r_square=metrics.r2_score(y,y_predict_polyr)\n",
    "r_square"
   ]
  },
  {
   "cell_type": "code",
   "execution_count": 797,
   "metadata": {},
   "outputs": [
    {
     "data": {
      "text/plain": [
       "LinearRegression()"
      ]
     },
     "execution_count": 797,
     "metadata": {},
     "output_type": "execute_result"
    }
   ],
   "source": [
    "from sklearn.preprocessing import PolynomialFeatures\n",
    "\n",
    "poly_reg = PolynomialFeatures(degree=3)\n",
    "\n",
    "X_train_2_d = poly_reg.fit_transform(x_sr)\n",
    "\n",
    "\n",
    "polyreg = LinearRegression()\n",
    "polyreg.fit(X_train_2_d, y)"
   ]
  },
  {
   "cell_type": "code",
   "execution_count": 798,
   "metadata": {},
   "outputs": [
    {
     "data": {
      "text/plain": [
       "array([14846.34, 21006.12, 18155.73, ..., 14846.34, 14846.34, 23820.76])"
      ]
     },
     "execution_count": 798,
     "metadata": {},
     "output_type": "execute_result"
    }
   ],
   "source": [
    "polyreg.predict(X_train_2_d)"
   ]
  },
  {
   "cell_type": "code",
   "execution_count": 799,
   "metadata": {},
   "outputs": [
    {
     "name": "stdout",
     "output_type": "stream",
     "text": [
      "14846.335999262039\n",
      "[ 0.00e+00 -3.41e+01  6.55e-02 -2.61e-05]\n",
      "MSE: 27467262.448\n",
      "RMSE: 5240.922\n",
      "MAE: 64.586\n"
     ]
    }
   ],
   "source": [
    "from sklearn.metrics import mean_squared_error, r2_score, mean_absolute_error\n",
    "from math import sqrt\n",
    "print(polyreg.intercept_)\n",
    "print(polyreg.coef_)\n",
    "\n",
    "print(\"MSE: %.3f\" % mean_squared_error(y, polyreg.predict(X_train_2_d)))\n",
    "print(\"RMSE: %.3f\" % sqrt(mean_squared_error(y, polyreg.predict(X_train_2_d))))\n",
    "print(\"MAE: %.3f\" % sqrt(mean_absolute_error(y, polyreg.predict(X_train_2_d))))"
   ]
  },
  {
   "cell_type": "code",
   "execution_count": 800,
   "metadata": {},
   "outputs": [
    {
     "data": {
      "text/plain": [
       "0.2827270296026162"
      ]
     },
     "execution_count": 800,
     "metadata": {},
     "output_type": "execute_result"
    }
   ],
   "source": [
    "# import metrics\n",
    "y_predict_polyr = polyreg.predict(poly_reg.fit_transform(x_sr))\n",
    "from sklearn import metrics \n",
    "r_square=metrics.r2_score(y,y_predict_polyr)\n",
    "r_square"
   ]
  },
  {
   "cell_type": "markdown",
   "metadata": {},
   "source": [
    "Splitting Train and test  data"
   ]
  },
  {
   "cell_type": "markdown",
   "metadata": {},
   "source": [
    "80:20"
   ]
  },
  {
   "cell_type": "code",
   "execution_count": 830,
   "metadata": {},
   "outputs": [],
   "source": [
    "from sklearn.model_selection import train_test_split\n",
    "x_train, x_test, y_train, y_test = train_test_split(x_sr, y, test_size=0.2, random_state=0)"
   ]
  },
  {
   "cell_type": "code",
   "execution_count": 831,
   "metadata": {},
   "outputs": [
    {
     "data": {
      "text/plain": [
       "LinearRegression()"
      ]
     },
     "execution_count": 831,
     "metadata": {},
     "output_type": "execute_result"
    }
   ],
   "source": [
    "from sklearn.preprocessing import PolynomialFeatures\n",
    "\n",
    "poly_reg = PolynomialFeatures(degree=1)\n",
    "\n",
    "X_train_2_d = poly_reg.fit_transform(x_train)\n",
    "\n",
    "X_train_2_d\n",
    "polyreg = LinearRegression()\n",
    "polyreg.fit(X_train_2_d, y_train)\n"
   ]
  },
  {
   "cell_type": "code",
   "execution_count": 832,
   "metadata": {},
   "outputs": [
    {
     "data": {
      "text/plain": [
       "array([15265.54, 15340.87, 13173.29, ..., 13439.88, 13173.29, 15684.  ])"
      ]
     },
     "execution_count": 832,
     "metadata": {},
     "output_type": "execute_result"
    }
   ],
   "source": [
    "polyreg.predict(X_train_2_d)"
   ]
  },
  {
   "cell_type": "code",
   "execution_count": 833,
   "metadata": {},
   "outputs": [
    {
     "name": "stdout",
     "output_type": "stream",
     "text": [
      "13173.289189082672\n",
      "[0.   4.18]\n",
      "MSE: 35371690.460\n",
      "RMSE: 5947.410\n",
      "MAE: 69.570\n"
     ]
    }
   ],
   "source": [
    "from sklearn.metrics import mean_squared_error, r2_score, mean_absolute_error\n",
    "from math import sqrt\n",
    "print(polyreg.intercept_)\n",
    "print(polyreg.coef_)\n",
    "print(\"MSE: %.3f\" % mean_squared_error(y_train, polyreg.predict(X_train_2_d)))\n",
    "print(\"RMSE: %.3f\" % sqrt(mean_squared_error(y_train, polyreg.predict(X_train_2_d))))\n",
    "print(\"MAE: %.3f\" % sqrt(mean_absolute_error(y_train, polyreg.predict(X_train_2_d))))"
   ]
  },
  {
   "cell_type": "code",
   "execution_count": 834,
   "metadata": {},
   "outputs": [
    {
     "data": {
      "text/plain": [
       "0.09615014186887016"
      ]
     },
     "execution_count": 834,
     "metadata": {},
     "output_type": "execute_result"
    }
   ],
   "source": [
    "# import metrics\n",
    "y_predict_polyr = polyreg.predict(poly_reg.fit_transform(x_test))\n",
    "from sklearn import metrics \n",
    "r_square=metrics.r2_score(y_test,y_predict_polyr)\n",
    "r_square"
   ]
  },
  {
   "cell_type": "code",
   "execution_count": null,
   "metadata": {},
   "outputs": [],
   "source": []
  },
  {
   "cell_type": "code",
   "execution_count": 835,
   "metadata": {},
   "outputs": [
    {
     "data": {
      "text/plain": [
       "LinearRegression()"
      ]
     },
     "execution_count": 835,
     "metadata": {},
     "output_type": "execute_result"
    }
   ],
   "source": [
    "from sklearn.preprocessing import PolynomialFeatures\n",
    "\n",
    "poly_reg = PolynomialFeatures(degree=2)\n",
    "\n",
    "X_train_2_d = poly_reg.fit_transform(x_train)\n",
    "\n",
    "X_train_2_d\n",
    "polyreg = LinearRegression()\n",
    "polyreg.fit(X_train_2_d, y_train)\n"
   ]
  },
  {
   "cell_type": "code",
   "execution_count": 836,
   "metadata": {},
   "outputs": [
    {
     "data": {
      "text/plain": [
       "array([12493.67, 12568.5 , 14572.96, ..., 13861.78, 14572.96, 13041.06])"
      ]
     },
     "execution_count": 836,
     "metadata": {},
     "output_type": "execute_result"
    }
   ],
   "source": [
    "polyreg.predict(X_train_2_d)"
   ]
  },
  {
   "cell_type": "code",
   "execution_count": 837,
   "metadata": {},
   "outputs": [
    {
     "name": "stdout",
     "output_type": "stream",
     "text": [
      "14572.961448875707\n",
      "[  0.   -12.19   0.02]\n",
      "MSE: 29323776.097\n",
      "RMSE: 5415.143\n",
      "MAE: 65.709\n"
     ]
    }
   ],
   "source": [
    "from sklearn.metrics import mean_squared_error, r2_score, mean_absolute_error\n",
    "from math import sqrt\n",
    "print(polyreg.intercept_)\n",
    "print(polyreg.coef_)\n",
    "print(\"MSE: %.3f\" % mean_squared_error(y_train, polyreg.predict(X_train_2_d)))\n",
    "print(\"RMSE: %.3f\" % sqrt(mean_squared_error(y_train, polyreg.predict(X_train_2_d))))\n",
    "print(\"MAE: %.3f\" % sqrt(mean_absolute_error(y_train, polyreg.predict(X_train_2_d))))"
   ]
  },
  {
   "cell_type": "code",
   "execution_count": 838,
   "metadata": {},
   "outputs": [
    {
     "data": {
      "text/plain": [
       "array([  0.  , -12.19,   0.02])"
      ]
     },
     "execution_count": 838,
     "metadata": {},
     "output_type": "execute_result"
    }
   ],
   "source": [
    "polyreg.coef_"
   ]
  },
  {
   "cell_type": "code",
   "execution_count": 839,
   "metadata": {},
   "outputs": [
    {
     "data": {
      "text/plain": [
       "0.23921669926923084"
      ]
     },
     "execution_count": 839,
     "metadata": {},
     "output_type": "execute_result"
    }
   ],
   "source": [
    "# import metrics\n",
    "y_predict_polyr = polyreg.predict(poly_reg.fit_transform(x_test))\n",
    "from sklearn import metrics \n",
    "r_square=metrics.r2_score(y_test,y_predict_polyr)\n",
    "r_square"
   ]
  },
  {
   "cell_type": "code",
   "execution_count": 840,
   "metadata": {},
   "outputs": [
    {
     "data": {
      "text/plain": [
       "LinearRegression()"
      ]
     },
     "execution_count": 840,
     "metadata": {},
     "output_type": "execute_result"
    }
   ],
   "source": [
    "from sklearn.preprocessing import PolynomialFeatures\n",
    "\n",
    "poly_reg = PolynomialFeatures(degree=3)\n",
    "\n",
    "X_train_2_d = poly_reg.fit_transform(x_train)\n",
    "\n",
    "X_train_2_d\n",
    "polyreg = LinearRegression()\n",
    "polyreg.fit(X_train_2_d, y_train)\n"
   ]
  },
  {
   "cell_type": "code",
   "execution_count": 841,
   "metadata": {},
   "outputs": [
    {
     "data": {
      "text/plain": [
       "array([10902.98, 11124.45, 14918.71, ..., 12983.69, 14918.71, 12325.83])"
      ]
     },
     "execution_count": 841,
     "metadata": {},
     "output_type": "execute_result"
    }
   ],
   "source": [
    "polyreg.predict(X_train_2_d)"
   ]
  },
  {
   "cell_type": "code",
   "execution_count": 842,
   "metadata": {},
   "outputs": [
    {
     "name": "stdout",
     "output_type": "stream",
     "text": [
      "14918.71102334341\n",
      "[ 0.00e+00 -3.45e+01  6.60e-02 -2.63e-05]\n",
      "MSE: 27528101.819\n",
      "RMSE: 5246.723\n",
      "MAE: 64.623\n"
     ]
    }
   ],
   "source": [
    "from sklearn.metrics import mean_squared_error, r2_score, mean_absolute_error\n",
    "from math import sqrt\n",
    "print(polyreg.intercept_)\n",
    "print(polyreg.coef_)\n",
    "print(\"MSE: %.3f\" % mean_squared_error(y_train, polyreg.predict(X_train_2_d)))\n",
    "print(\"RMSE: %.3f\" % sqrt(mean_squared_error(y_train, polyreg.predict(X_train_2_d))))\n",
    "print(\"MAE: %.3f\" % sqrt(mean_absolute_error(y_train, polyreg.predict(X_train_2_d))))"
   ]
  },
  {
   "cell_type": "code",
   "execution_count": 843,
   "metadata": {},
   "outputs": [
    {
     "data": {
      "text/plain": [
       "0.28391978463168865"
      ]
     },
     "execution_count": 843,
     "metadata": {},
     "output_type": "execute_result"
    }
   ],
   "source": [
    "# import metrics\n",
    "y_predict_polyr = polyreg.predict(poly_reg.fit_transform(x_test))\n",
    "from sklearn import metrics \n",
    "r_square=metrics.r2_score(y_test,y_predict_polyr)\n",
    "r_square"
   ]
  },
  {
   "cell_type": "markdown",
   "metadata": {},
   "source": [
    "70:30"
   ]
  },
  {
   "cell_type": "code",
   "execution_count": 844,
   "metadata": {},
   "outputs": [],
   "source": [
    "from sklearn.model_selection import train_test_split\n",
    "x_train, x_test, y_train, y_test = train_test_split(x_sr, y, test_size=0.3, random_state=0)"
   ]
  },
  {
   "cell_type": "code",
   "execution_count": 845,
   "metadata": {},
   "outputs": [
    {
     "data": {
      "text/plain": [
       "LinearRegression()"
      ]
     },
     "execution_count": 845,
     "metadata": {},
     "output_type": "execute_result"
    }
   ],
   "source": [
    "from sklearn.preprocessing import PolynomialFeatures\n",
    "\n",
    "poly_reg = PolynomialFeatures(degree=1)\n",
    "\n",
    "X_train_2_d = poly_reg.fit_transform(x_train)\n",
    "\n",
    "X_train_2_d\n",
    "polyreg = LinearRegression()\n",
    "polyreg.fit(X_train_2_d, y_train)"
   ]
  },
  {
   "cell_type": "code",
   "execution_count": 846,
   "metadata": {},
   "outputs": [
    {
     "data": {
      "text/plain": [
       "array([15730.16, 17376.8 , 13130.2 , ..., 13406.27, 13130.2 , 15730.16])"
      ]
     },
     "execution_count": 846,
     "metadata": {},
     "output_type": "execute_result"
    }
   ],
   "source": [
    "polyreg.predict(X_train_2_d)"
   ]
  },
  {
   "cell_type": "code",
   "execution_count": 847,
   "metadata": {},
   "outputs": [
    {
     "name": "stdout",
     "output_type": "stream",
     "text": [
      "13130.19611589801\n",
      "[0.   4.33]\n",
      "MSE: 35264014.090\n",
      "RMSE: 5938.351\n",
      "MAE: 69.555\n"
     ]
    }
   ],
   "source": [
    "from sklearn.metrics import mean_squared_error, r2_score, mean_absolute_error\n",
    "from math import sqrt\n",
    "print(polyreg.intercept_)\n",
    "print(polyreg.coef_)\n",
    "print(\"MSE: %.3f\" % mean_squared_error(y_train, polyreg.predict(X_train_2_d)))\n",
    "print(\"RMSE: %.3f\" % sqrt(mean_squared_error(y_train, polyreg.predict(X_train_2_d))))\n",
    "print(\"MAE: %.3f\" % sqrt(mean_absolute_error(y_train, polyreg.predict(X_train_2_d))))"
   ]
  },
  {
   "cell_type": "code",
   "execution_count": 848,
   "metadata": {},
   "outputs": [
    {
     "data": {
      "text/plain": [
       "0.07554512690821458"
      ]
     },
     "execution_count": 848,
     "metadata": {},
     "output_type": "execute_result"
    }
   ],
   "source": [
    "# import metrics\n",
    "y_predict_polyr = polyreg.predict(poly_reg.fit_transform(x_test))\n",
    "from sklearn import metrics \n",
    "r_square=metrics.r2_score(y_test,y_predict_polyr)\n",
    "r_square"
   ]
  },
  {
   "cell_type": "code",
   "execution_count": 849,
   "metadata": {},
   "outputs": [
    {
     "data": {
      "text/plain": [
       "LinearRegression()"
      ]
     },
     "execution_count": 849,
     "metadata": {},
     "output_type": "execute_result"
    }
   ],
   "source": [
    "from sklearn.preprocessing import PolynomialFeatures\n",
    "\n",
    "poly_reg = PolynomialFeatures(degree=2)\n",
    "\n",
    "X_train_2_d = poly_reg.fit_transform(x_train)\n",
    "\n",
    "X_train_2_d\n",
    "polyreg = LinearRegression()\n",
    "polyreg.fit(X_train_2_d, y_train)"
   ]
  },
  {
   "cell_type": "code",
   "execution_count": 850,
   "metadata": {},
   "outputs": [
    {
     "data": {
      "text/plain": [
       "array([13116.52, 18093.82, 14481.61, ..., 13800.68, 14481.61, 13116.52])"
      ]
     },
     "execution_count": 850,
     "metadata": {},
     "output_type": "execute_result"
    }
   ],
   "source": [
    "polyreg.predict(X_train_2_d)"
   ]
  },
  {
   "cell_type": "code",
   "execution_count": 851,
   "metadata": {},
   "outputs": [
    {
     "name": "stdout",
     "output_type": "stream",
     "text": [
      "14481.607078660303\n",
      "[  0.   -11.69   0.02]\n",
      "MSE: 29475359.313\n",
      "RMSE: 5429.121\n",
      "MAE: 65.808\n"
     ]
    }
   ],
   "source": [
    "from sklearn.metrics import mean_squared_error, r2_score, mean_absolute_error\n",
    "from math import sqrt\n",
    "print(polyreg.intercept_)\n",
    "print(polyreg.coef_)\n",
    "print(\"MSE: %.3f\" % mean_squared_error(y_train, polyreg.predict(X_train_2_d)))\n",
    "print(\"RMSE: %.3f\" % sqrt(mean_squared_error(y_train, polyreg.predict(X_train_2_d))))\n",
    "print(\"MAE: %.3f\" % sqrt(mean_absolute_error(y_train, polyreg.predict(X_train_2_d))))"
   ]
  },
  {
   "cell_type": "code",
   "execution_count": 852,
   "metadata": {},
   "outputs": [
    {
     "data": {
      "text/plain": [
       "0.24084867519236242"
      ]
     },
     "execution_count": 852,
     "metadata": {},
     "output_type": "execute_result"
    }
   ],
   "source": [
    "# import metrics\n",
    "y_predict_polyr = polyreg.predict(poly_reg.fit_transform(x_test))\n",
    "from sklearn import metrics \n",
    "r_square=metrics.r2_score(y_test,y_predict_polyr)\n",
    "r_square"
   ]
  },
  {
   "cell_type": "code",
   "execution_count": 853,
   "metadata": {},
   "outputs": [
    {
     "data": {
      "text/plain": [
       "LinearRegression()"
      ]
     },
     "execution_count": 853,
     "metadata": {},
     "output_type": "execute_result"
    }
   ],
   "source": [
    "from sklearn.preprocessing import PolynomialFeatures\n",
    "\n",
    "poly_reg = PolynomialFeatures(degree=3)\n",
    "\n",
    "X_train_2_d = poly_reg.fit_transform(x_train)\n",
    "\n",
    "X_train_2_d\n",
    "polyreg = LinearRegression()\n",
    "polyreg.fit(X_train_2_d, y_train)"
   ]
  },
  {
   "cell_type": "code",
   "execution_count": 854,
   "metadata": {},
   "outputs": [
    {
     "data": {
      "text/plain": [
       "array([12366.59, 19917.57, 14838.89, ..., 12884.69, 14838.89, 12366.59])"
      ]
     },
     "execution_count": 854,
     "metadata": {},
     "output_type": "execute_result"
    }
   ],
   "source": [
    "polyreg.predict(X_train_2_d)"
   ]
  },
  {
   "cell_type": "code",
   "execution_count": 855,
   "metadata": {},
   "outputs": [
    {
     "name": "stdout",
     "output_type": "stream",
     "text": [
      "14838.88985795937\n",
      "[ 0.00e+00 -3.49e+01  6.76e-02 -2.73e-05]\n",
      "MSE: 27550332.660\n",
      "RMSE: 5248.841\n",
      "MAE: 64.660\n"
     ]
    }
   ],
   "source": [
    "from sklearn.metrics import mean_squared_error, r2_score, mean_absolute_error\n",
    "from math import sqrt\n",
    "print(polyreg.intercept_)\n",
    "print(polyreg.coef_)\n",
    "print(\"MSE: %.3f\" % mean_squared_error(y_train, polyreg.predict(X_train_2_d)))\n",
    "print(\"RMSE: %.3f\" % sqrt(mean_squared_error(y_train, polyreg.predict(X_train_2_d))))\n",
    "print(\"MAE: %.3f\" % sqrt(mean_absolute_error(y_train, polyreg.predict(X_train_2_d))))"
   ]
  },
  {
   "cell_type": "code",
   "execution_count": 856,
   "metadata": {},
   "outputs": [
    {
     "data": {
      "text/plain": [
       "0.2782041291793639"
      ]
     },
     "execution_count": 856,
     "metadata": {},
     "output_type": "execute_result"
    }
   ],
   "source": [
    "# import metrics\n",
    "y_predict_polyr = polyreg.predict(poly_reg.fit_transform(x_test))\n",
    "from sklearn import metrics \n",
    "r_square=metrics.r2_score(y_test,y_predict_polyr)\n",
    "r_square"
   ]
  },
  {
   "cell_type": "markdown",
   "metadata": {},
   "source": [
    "50:50"
   ]
  },
  {
   "cell_type": "code",
   "execution_count": 817,
   "metadata": {},
   "outputs": [],
   "source": [
    "from sklearn.model_selection import train_test_split\n",
    "x_train, x_test, y_train, y_test = train_test_split(x_sr, y, test_size=0.5, random_state=0)"
   ]
  },
  {
   "cell_type": "code",
   "execution_count": 857,
   "metadata": {},
   "outputs": [
    {
     "data": {
      "text/plain": [
       "LinearRegression()"
      ]
     },
     "execution_count": 857,
     "metadata": {},
     "output_type": "execute_result"
    }
   ],
   "source": [
    "from sklearn.preprocessing import PolynomialFeatures\n",
    "\n",
    "poly_reg = PolynomialFeatures(degree=1)\n",
    "\n",
    "X_train_2_d = poly_reg.fit_transform(x_train)\n",
    "\n",
    "X_train_2_d\n",
    "polyreg = LinearRegression()\n",
    "polyreg.fit(X_train_2_d, y_train)"
   ]
  },
  {
   "cell_type": "code",
   "execution_count": 858,
   "metadata": {},
   "outputs": [
    {
     "data": {
      "text/plain": [
       "array([15730.16, 17376.8 , 13130.2 , ..., 13406.27, 13130.2 , 15730.16])"
      ]
     },
     "execution_count": 858,
     "metadata": {},
     "output_type": "execute_result"
    }
   ],
   "source": [
    "polyreg.predict(X_train_2_d)"
   ]
  },
  {
   "cell_type": "code",
   "execution_count": 859,
   "metadata": {},
   "outputs": [
    {
     "name": "stdout",
     "output_type": "stream",
     "text": [
      "13130.19611589801\n",
      "[0.   4.33]\n",
      "MSE: 35264014.090\n",
      "RMSE: 5938.351\n",
      "MAE: 69.555\n"
     ]
    }
   ],
   "source": [
    "from sklearn.metrics import mean_squared_error, r2_score, mean_absolute_error\n",
    "from math import sqrt\n",
    "print(polyreg.intercept_)\n",
    "print(polyreg.coef_)\n",
    "print(\"MSE: %.3f\" % mean_squared_error(y_train, polyreg.predict(X_train_2_d)))\n",
    "print(\"RMSE: %.3f\" % sqrt(mean_squared_error(y_train, polyreg.predict(X_train_2_d))))\n",
    "print(\"MAE: %.3f\" % sqrt(mean_absolute_error(y_train, polyreg.predict(X_train_2_d))))"
   ]
  },
  {
   "cell_type": "code",
   "execution_count": 860,
   "metadata": {},
   "outputs": [
    {
     "data": {
      "text/plain": [
       "0.07554512690821458"
      ]
     },
     "execution_count": 860,
     "metadata": {},
     "output_type": "execute_result"
    }
   ],
   "source": [
    "# import metrics\n",
    "y_predict_polyr = polyreg.predict(poly_reg.fit_transform(x_test))\n",
    "from sklearn import metrics \n",
    "r_square=metrics.r2_score(y_test,y_predict_polyr)\n",
    "r_square"
   ]
  },
  {
   "cell_type": "code",
   "execution_count": 818,
   "metadata": {},
   "outputs": [
    {
     "data": {
      "text/plain": [
       "LinearRegression()"
      ]
     },
     "execution_count": 818,
     "metadata": {},
     "output_type": "execute_result"
    }
   ],
   "source": [
    "from sklearn.preprocessing import PolynomialFeatures\n",
    "\n",
    "poly_reg = PolynomialFeatures(degree=2)\n",
    "\n",
    "X_train_2_d = poly_reg.fit_transform(x_train)\n",
    "\n",
    "X_train_2_d\n",
    "polyreg = LinearRegression()\n",
    "polyreg.fit(X_train_2_d, y_train)"
   ]
  },
  {
   "cell_type": "code",
   "execution_count": 819,
   "metadata": {},
   "outputs": [
    {
     "data": {
      "text/plain": [
       "array([23052.6 , 13044.35, 24671.28, ..., 13762.96, 14443.74, 13089.89])"
      ]
     },
     "execution_count": 819,
     "metadata": {},
     "output_type": "execute_result"
    }
   ],
   "source": [
    "polyreg.predict(X_train_2_d)"
   ]
  },
  {
   "cell_type": "code",
   "execution_count": 820,
   "metadata": {},
   "outputs": [
    {
     "name": "stdout",
     "output_type": "stream",
     "text": [
      "14443.73755307516\n",
      "[  0.   -11.69   0.02]\n",
      "MSE: 29307935.070\n",
      "RMSE: 5413.680\n",
      "MAE: 65.617\n"
     ]
    }
   ],
   "source": [
    "from sklearn.metrics import mean_squared_error, r2_score, mean_absolute_error\n",
    "from math import sqrt\n",
    "print(polyreg.intercept_)\n",
    "print(polyreg.coef_)\n",
    "print(\"MSE: %.3f\" % mean_squared_error(y_train, polyreg.predict(X_train_2_d)))\n",
    "print(\"RMSE: %.3f\" % sqrt(mean_squared_error(y_train, polyreg.predict(X_train_2_d))))\n",
    "print(\"MAE: %.3f\" % sqrt(mean_absolute_error(y_train, polyreg.predict(X_train_2_d))))"
   ]
  },
  {
   "cell_type": "code",
   "execution_count": 821,
   "metadata": {},
   "outputs": [
    {
     "data": {
      "text/plain": [
       "0.24027034078383325"
      ]
     },
     "execution_count": 821,
     "metadata": {},
     "output_type": "execute_result"
    }
   ],
   "source": [
    "# import metrics\n",
    "y_predict_polyr = polyreg.predict(poly_reg.fit_transform(x_test))\n",
    "from sklearn import metrics \n",
    "r_square=metrics.r2_score(y_test,y_predict_polyr)\n",
    "r_square"
   ]
  },
  {
   "cell_type": "code",
   "execution_count": 861,
   "metadata": {},
   "outputs": [
    {
     "data": {
      "text/plain": [
       "LinearRegression()"
      ]
     },
     "execution_count": 861,
     "metadata": {},
     "output_type": "execute_result"
    }
   ],
   "source": [
    "from sklearn.preprocessing import PolynomialFeatures\n",
    "\n",
    "poly_reg = PolynomialFeatures(degree=3)\n",
    "\n",
    "X_train_2_d = poly_reg.fit_transform(x_train)\n",
    "\n",
    "X_train_2_d\n",
    "polyreg = LinearRegression()\n",
    "polyreg.fit(X_train_2_d, y_train)"
   ]
  },
  {
   "cell_type": "code",
   "execution_count": 862,
   "metadata": {},
   "outputs": [
    {
     "data": {
      "text/plain": [
       "array([12366.59, 19917.57, 14838.89, ..., 12884.69, 14838.89, 12366.59])"
      ]
     },
     "execution_count": 862,
     "metadata": {},
     "output_type": "execute_result"
    }
   ],
   "source": [
    "polyreg.predict(X_train_2_d)"
   ]
  },
  {
   "cell_type": "code",
   "execution_count": 863,
   "metadata": {},
   "outputs": [
    {
     "name": "stdout",
     "output_type": "stream",
     "text": [
      "14838.88985795937\n",
      "[ 0.00e+00 -3.49e+01  6.76e-02 -2.73e-05]\n",
      "MSE: 27550332.660\n",
      "RMSE: 5248.841\n",
      "MAE: 64.660\n"
     ]
    }
   ],
   "source": [
    "from sklearn.metrics import mean_squared_error, r2_score, mean_absolute_error\n",
    "from math import sqrt\n",
    "print(polyreg.intercept_)\n",
    "print(polyreg.coef_)\n",
    "print(\"MSE: %.3f\" % mean_squared_error(y_train, polyreg.predict(X_train_2_d)))\n",
    "print(\"RMSE: %.3f\" % sqrt(mean_squared_error(y_train, polyreg.predict(X_train_2_d))))\n",
    "print(\"MAE: %.3f\" % sqrt(mean_absolute_error(y_train, polyreg.predict(X_train_2_d))))"
   ]
  },
  {
   "cell_type": "code",
   "execution_count": 864,
   "metadata": {},
   "outputs": [
    {
     "data": {
      "text/plain": [
       "0.2782041291793639"
      ]
     },
     "execution_count": 864,
     "metadata": {},
     "output_type": "execute_result"
    }
   ],
   "source": [
    "# import metrics\n",
    "y_predict_polyr = polyreg.predict(poly_reg.fit_transform(x_test))\n",
    "from sklearn import metrics \n",
    "r_square=metrics.r2_score(y_test,y_predict_polyr)\n",
    "r_square"
   ]
  },
  {
   "cell_type": "markdown",
   "metadata": {},
   "source": [
    "Ridge"
   ]
  },
  {
   "cell_type": "code",
   "execution_count": 871,
   "metadata": {},
   "outputs": [],
   "source": [
    "X = data.iloc[:,0:11].values"
   ]
  },
  {
   "cell_type": "code",
   "execution_count": 872,
   "metadata": {},
   "outputs": [],
   "source": [
    "y = data.iloc[:, 11].values"
   ]
  },
  {
   "cell_type": "code",
   "execution_count": 873,
   "metadata": {},
   "outputs": [],
   "source": [
    "x_sr = data.iloc[:, 7:8].values"
   ]
  },
  {
   "cell_type": "code",
   "execution_count": 874,
   "metadata": {},
   "outputs": [],
   "source": [
    "from sklearn.model_selection import train_test_split\n",
    "x_train, x_test, y_train, y_test = train_test_split(x_sr, y, test_size=0.3, random_state=0)"
   ]
  },
  {
   "cell_type": "code",
   "execution_count": 875,
   "metadata": {},
   "outputs": [],
   "source": [
    "from sklearn.linear_model import Ridge\n",
    "\n",
    "model = Ridge(alpha=100, solver='cholesky', tol=0.0001, random_state=42)\n",
    "model.fit(x_train, y_train)\n",
    "pred = model.predict(x_test)\n",
    "\n",
    "test_pred = model.predict(x_test)"
   ]
  },
  {
   "cell_type": "code",
   "execution_count": 876,
   "metadata": {},
   "outputs": [
    {
     "data": {
      "text/plain": [
       "array([13130.2 , 16640.15, 17090.81, ..., 13130.2 , 13130.2 , 17376.8 ])"
      ]
     },
     "execution_count": 876,
     "metadata": {},
     "output_type": "execute_result"
    }
   ],
   "source": [
    "model.predict(x_test)"
   ]
  },
  {
   "cell_type": "code",
   "execution_count": 879,
   "metadata": {},
   "outputs": [
    {
     "name": "stdout",
     "output_type": "stream",
     "text": [
      "13130.196448933637\n",
      "[4.33]\n"
     ]
    }
   ],
   "source": [
    "print(model.intercept_)\n",
    "print(model.coef_)\n",
    "\n"
   ]
  },
  {
   "cell_type": "code",
   "execution_count": 887,
   "metadata": {},
   "outputs": [],
   "source": [
    "x_sr = data.iloc[:, 8:9].values"
   ]
  },
  {
   "cell_type": "code",
   "execution_count": 888,
   "metadata": {},
   "outputs": [],
   "source": [
    "from sklearn.model_selection import train_test_split\n",
    "x_train, x_test, y_train, y_test = train_test_split(x_sr, y, test_size=0.3, random_state=0)"
   ]
  },
  {
   "cell_type": "code",
   "execution_count": 889,
   "metadata": {},
   "outputs": [],
   "source": [
    "from sklearn.linear_model import Ridge\n",
    "\n",
    "model = Ridge(alpha=100, solver='cholesky', tol=0.0001, random_state=42)\n",
    "model.fit(x_train, y_train)\n",
    "pred = model.predict(x_test)\n",
    "\n",
    "test_pred = model.predict(x_test)"
   ]
  },
  {
   "cell_type": "code",
   "execution_count": 890,
   "metadata": {},
   "outputs": [
    {
     "data": {
      "text/plain": [
       "array([14195.33, 18452.79, 18259.27, ..., 72251.59, 14195.33, 19613.91])"
      ]
     },
     "execution_count": 890,
     "metadata": {},
     "output_type": "execute_result"
    }
   ],
   "source": [
    "model.predict(x_test)"
   ]
  },
  {
   "cell_type": "code",
   "execution_count": 891,
   "metadata": {},
   "outputs": [
    {
     "name": "stdout",
     "output_type": "stream",
     "text": [
      "14195.329073784458\n",
      "[0.19]\n"
     ]
    }
   ],
   "source": [
    "print(model.intercept_)\n",
    "print(model.coef_)"
   ]
  },
  {
   "cell_type": "code",
   "execution_count": 892,
   "metadata": {},
   "outputs": [],
   "source": [
    "x_sr = data.iloc[:, 9:10].values"
   ]
  },
  {
   "cell_type": "code",
   "execution_count": 893,
   "metadata": {},
   "outputs": [],
   "source": [
    "from sklearn.model_selection import train_test_split\n",
    "x_train, x_test, y_train, y_test = train_test_split(x_sr, y, test_size=0.3, random_state=0)"
   ]
  },
  {
   "cell_type": "code",
   "execution_count": 894,
   "metadata": {},
   "outputs": [],
   "source": [
    "from sklearn.linear_model import Ridge\n",
    "\n",
    "model = Ridge(alpha=100, solver='cholesky', tol=0.0001, random_state=42)\n",
    "model.fit(x_train, y_train)\n",
    "pred = model.predict(x_test)\n",
    "\n",
    "test_pred = model.predict(x_test)"
   ]
  },
  {
   "cell_type": "code",
   "execution_count": 895,
   "metadata": {},
   "outputs": [
    {
     "data": {
      "text/plain": [
       "array([15117.83, 15117.75, 15117.87, ..., 15117.75, 15117.82, 15117.88])"
      ]
     },
     "execution_count": 895,
     "metadata": {},
     "output_type": "execute_result"
    }
   ],
   "source": [
    "model.predict(x_test)"
   ]
  },
  {
   "cell_type": "code",
   "execution_count": 896,
   "metadata": {},
   "outputs": [
    {
     "name": "stdout",
     "output_type": "stream",
     "text": [
      "15117.749917415069\n",
      "[1.7e-06]\n"
     ]
    }
   ],
   "source": [
    "print(model.intercept_)\n",
    "print(model.coef_)"
   ]
  },
  {
   "cell_type": "code",
   "execution_count": 919,
   "metadata": {},
   "outputs": [],
   "source": [
    "x_sr = data.iloc[:, 10:11].values"
   ]
  },
  {
   "cell_type": "code",
   "execution_count": 920,
   "metadata": {},
   "outputs": [],
   "source": [
    "from sklearn.model_selection import train_test_split\n",
    "x_train, x_test, y_train, y_test = train_test_split(x_sr, y, test_size=0.3, random_state=0)"
   ]
  },
  {
   "cell_type": "code",
   "execution_count": 921,
   "metadata": {},
   "outputs": [],
   "source": [
    "from sklearn.linear_model import Ridge\n",
    "\n",
    "model = Ridge(alpha=100, solver='cholesky', tol=0.0001, random_state=42)\n",
    "model.fit(x_train, y_train)\n",
    "pred = model.predict(x_test)\n",
    "\n",
    "test_pred = model.predict(x_test)"
   ]
  },
  {
   "cell_type": "code",
   "execution_count": 922,
   "metadata": {},
   "outputs": [
    {
     "data": {
      "text/plain": [
       "array([15059.18, 15059.18, 15059.18, ..., 15059.18, 15059.18, 15059.18])"
      ]
     },
     "execution_count": 922,
     "metadata": {},
     "output_type": "execute_result"
    }
   ],
   "source": [
    "model.predict(x_test)"
   ]
  },
  {
   "cell_type": "code",
   "execution_count": 923,
   "metadata": {},
   "outputs": [
    {
     "name": "stdout",
     "output_type": "stream",
     "text": [
      "15059.184884159591\n",
      "[0.26]\n"
     ]
    }
   ],
   "source": [
    "print(model.intercept_)\n",
    "print(model.coef_)"
   ]
  },
  {
   "cell_type": "code",
   "execution_count": null,
   "metadata": {},
   "outputs": [],
   "source": []
  },
  {
   "cell_type": "markdown",
   "metadata": {},
   "source": [
    "lasso"
   ]
  },
  {
   "cell_type": "code",
   "execution_count": 897,
   "metadata": {},
   "outputs": [],
   "source": [
    "X = data.iloc[:,0:11].values"
   ]
  },
  {
   "cell_type": "code",
   "execution_count": 898,
   "metadata": {},
   "outputs": [],
   "source": [
    "y = data.iloc[:, 11].values"
   ]
  },
  {
   "cell_type": "code",
   "execution_count": 899,
   "metadata": {},
   "outputs": [],
   "source": [
    "x_sr = data.iloc[:, 7:8].values"
   ]
  },
  {
   "cell_type": "code",
   "execution_count": 900,
   "metadata": {},
   "outputs": [],
   "source": [
    "from sklearn.model_selection import train_test_split\n",
    "x_train, x_test, y_train, y_test = train_test_split(x_sr, y, test_size=0.2, random_state=0)"
   ]
  },
  {
   "cell_type": "code",
   "execution_count": 901,
   "metadata": {},
   "outputs": [],
   "source": [
    "from sklearn.linear_model import Lasso\n",
    "\n",
    "model = Lasso(alpha=0.1, \n",
    "              precompute=True, \n",
    "#               warm_start=True, \n",
    "              positive=True, \n",
    "              selection='random',\n",
    "              random_state=42)\n",
    "model.fit(x_train, x_train)\n",
    "\n",
    "test_pred = model.predict(x_test)\n"
   ]
  },
  {
   "cell_type": "code",
   "execution_count": 902,
   "metadata": {},
   "outputs": [
    {
     "data": {
      "text/plain": [
       "array([5.00e+02, 5.18e+02, 2.71e-04, ..., 6.37e+01, 2.71e-04, 6.00e+02])"
      ]
     },
     "execution_count": 902,
     "metadata": {},
     "output_type": "execute_result"
    }
   ],
   "source": [
    "model.predict(x_train)"
   ]
  },
  {
   "cell_type": "code",
   "execution_count": 903,
   "metadata": {},
   "outputs": [
    {
     "name": "stdout",
     "output_type": "stream",
     "text": [
      "[0.]\n",
      "[1.]\n"
     ]
    }
   ],
   "source": [
    "print(model.intercept_)\n",
    "print(model.coef_)\n"
   ]
  },
  {
   "cell_type": "code",
   "execution_count": 904,
   "metadata": {},
   "outputs": [],
   "source": [
    "x_sr = data.iloc[:, 8:9].values"
   ]
  },
  {
   "cell_type": "code",
   "execution_count": 905,
   "metadata": {},
   "outputs": [],
   "source": [
    "from sklearn.model_selection import train_test_split\n",
    "x_train, x_test, y_train, y_test = train_test_split(x_sr, y, test_size=0.2, random_state=0)"
   ]
  },
  {
   "cell_type": "code",
   "execution_count": 906,
   "metadata": {},
   "outputs": [],
   "source": [
    "from sklearn.linear_model import Lasso\n",
    "\n",
    "model = Lasso(alpha=0.1, \n",
    "              precompute=True, \n",
    "#               warm_start=True, \n",
    "              positive=True, \n",
    "              selection='random',\n",
    "              random_state=42)\n",
    "model.fit(x_train, x_train)\n",
    "\n",
    "test_pred = model.predict(x_test)"
   ]
  },
  {
   "cell_type": "code",
   "execution_count": 907,
   "metadata": {},
   "outputs": [
    {
     "data": {
      "text/plain": [
       "array([3.00e-06, 3.00e-06, 2.75e+04, ..., 1.65e+04, 1.25e+04, 3.00e-06])"
      ]
     },
     "execution_count": 907,
     "metadata": {},
     "output_type": "execute_result"
    }
   ],
   "source": [
    "model.predict(x_train)"
   ]
  },
  {
   "cell_type": "code",
   "execution_count": 908,
   "metadata": {},
   "outputs": [
    {
     "name": "stdout",
     "output_type": "stream",
     "text": [
      "[3.e-06]\n",
      "[1.]\n"
     ]
    }
   ],
   "source": [
    "print(model.intercept_)\n",
    "print(model.coef_)"
   ]
  },
  {
   "cell_type": "code",
   "execution_count": 909,
   "metadata": {},
   "outputs": [],
   "source": [
    "x_sr = data.iloc[:, 9:10].values"
   ]
  },
  {
   "cell_type": "code",
   "execution_count": 910,
   "metadata": {},
   "outputs": [],
   "source": [
    "from sklearn.model_selection import train_test_split\n",
    "x_train, x_test, y_train, y_test = train_test_split(x_sr, y, test_size=0.2, random_state=0)"
   ]
  },
  {
   "cell_type": "code",
   "execution_count": 911,
   "metadata": {},
   "outputs": [],
   "source": [
    "from sklearn.linear_model import Lasso\n",
    "\n",
    "model = Lasso(alpha=0.1, \n",
    "              precompute=True, \n",
    "#               warm_start=True, \n",
    "              positive=True, \n",
    "              selection='random',\n",
    "              random_state=42)\n",
    "model.fit(x_train, x_train)\n",
    "\n",
    "test_pred = model.predict(x_test)"
   ]
  },
  {
   "cell_type": "code",
   "execution_count": 912,
   "metadata": {},
   "outputs": [
    {
     "data": {
      "text/plain": [
       "array([25000., 15000., 60000., ..., 50000., 30000., 30000.])"
      ]
     },
     "execution_count": 912,
     "metadata": {},
     "output_type": "execute_result"
    }
   ],
   "source": [
    "model.predict(x_train)"
   ]
  },
  {
   "cell_type": "code",
   "execution_count": 913,
   "metadata": {},
   "outputs": [
    {
     "name": "stdout",
     "output_type": "stream",
     "text": [
      "[5.82e-11]\n",
      "[1.]\n"
     ]
    }
   ],
   "source": [
    "print(model.intercept_)\n",
    "print(model.coef_)"
   ]
  },
  {
   "cell_type": "code",
   "execution_count": 914,
   "metadata": {},
   "outputs": [],
   "source": [
    "x_sr = data.iloc[:, 10:11].values"
   ]
  },
  {
   "cell_type": "code",
   "execution_count": 915,
   "metadata": {},
   "outputs": [],
   "source": [
    "from sklearn.model_selection import train_test_split\n",
    "x_train, x_test, y_train, y_test = train_test_split(x_sr, y, test_size=0.2, random_state=0)"
   ]
  },
  {
   "cell_type": "code",
   "execution_count": 916,
   "metadata": {},
   "outputs": [],
   "source": [
    "from sklearn.linear_model import Lasso\n",
    "\n",
    "model = Lasso(alpha=0.1, \n",
    "              precompute=True, \n",
    "#               warm_start=True, \n",
    "              positive=True, \n",
    "              selection='random',\n",
    "              random_state=42)\n",
    "model.fit(x_train, x_train)\n",
    "\n",
    "test_pred = model.predict(x_test)"
   ]
  },
  {
   "cell_type": "code",
   "execution_count": 917,
   "metadata": {},
   "outputs": [
    {
     "data": {
      "text/plain": [
       "array([1.37e-05, 1.37e-05, 1.37e-05, ..., 1.37e-05, 1.37e-05, 5.00e+02])"
      ]
     },
     "execution_count": 917,
     "metadata": {},
     "output_type": "execute_result"
    }
   ],
   "source": [
    "model.predict(x_train)"
   ]
  },
  {
   "cell_type": "code",
   "execution_count": 918,
   "metadata": {},
   "outputs": [
    {
     "name": "stdout",
     "output_type": "stream",
     "text": [
      "[1.37e-05]\n",
      "[1.]\n"
     ]
    }
   ],
   "source": [
    "print(model.intercept_)\n",
    "print(model.coef_)"
   ]
  },
  {
   "cell_type": "code",
   "execution_count": null,
   "metadata": {},
   "outputs": [],
   "source": []
  },
  {
   "cell_type": "code",
   "execution_count": 459,
   "metadata": {},
   "outputs": [
    {
     "name": "stdout",
     "output_type": "stream",
     "text": [
      "Mean squared error is:  26419915.668802228\n",
      "Regression Coefficient :  [4.26]\n",
      "Intercept:  13112.920218178091\n"
     ]
    },
    {
     "data": {
      "image/png": "[encoded data removed]",
      "text/plain": [
       "<Figure size 432x288 with 1 Axes>"
      ]
     },
     "metadata": {
      "needs_background": "light"
     },
     "output_type": "display_data"
    }
   ],
   "source": [
    "from sklearn import datasets, linear_model\n",
    "from sklearn.metrics import  mean_squared_error\n",
    "data_X = data[[\"area\"]]\n",
    "data_X_train = data_X[:-30]\n",
    "data_X_test = data_X[-30:]\n",
    "\n",
    "data_y_train = data.rent[:-30]\n",
    "data_y_test = data.rent[-30:]\n",
    "\n",
    "model = linear_model.LinearRegression()\n",
    "model.fit(data_X_train,data_y_train)\n",
    "data_y_predicted = model.predict(data_X_test)\n",
    "\n",
    "print(\"Mean squared error is: \", mean_squared_error(data_y_test, data_y_predicted))\n",
    "\n",
    "print(\"Regression Coefficient : \", model.coef_)\n",
    "print(\"Intercept: \", model.intercept_)\n",
    "plt.scatter(data_X_test, data_y_test)\n",
    "plt.plot(data_X_test, data_y_predicted)\n",
    "plt.show()\n"
   ]
  },
  {
   "cell_type": "code",
   "execution_count": null,
   "metadata": {},
   "outputs": [],
   "source": []
  }
 ],
 "metadata": {
  "kernelspec": {
   "display_name": "Python 3 (ipykernel)",
   "language": "python",
   "name": "python3"
  },
  "language_info": {
   "codemirror_mode": {
    "name": "ipython",
    "version": 3
   },
   "file_extension": ".py",
   "mimetype": "text/x-python",
   "name": "python",
   "nbconvert_exporter": "python",
   "pygments_lexer": "ipython3",
   "version": "3.10.2"
  }
 },
 "nbformat": 4,
 "nbformat_minor": 4
}
